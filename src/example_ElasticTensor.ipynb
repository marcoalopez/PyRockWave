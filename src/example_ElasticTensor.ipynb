{
 "cells": [
  {
   "cell_type": "code",
   "execution_count": 13,
   "metadata": {},
   "outputs": [],
   "source": [
    "import numpy as np\n",
    "from Dataclasses import ElasticTensor\n",
    "\n",
    "import matplotlib.pyplot as plt\n",
    "import matplotlib as mpl\n",
    "\n",
    "# set a custom figure style (this is optional, you can comment on this whole block)\n",
    "mpl.style.use('fivethirtyeight')\n",
    "mpl.rcParams['figure.facecolor'] = 'white'\n",
    "mpl.rcParams['axes.facecolor'] = 'white'\n",
    "mpl.rcParams['axes.edgecolor'] = 'white'\n",
    "mpl.rcParams['font.family'] = 'Open Sans'"
   ]
  },
  {
   "cell_type": "code",
   "execution_count": 2,
   "metadata": {},
   "outputs": [],
   "source": [
    "# density (g/cm3) at 1.5 GPa and RT from Wang et al. (2015)\n",
    "rho_aqtz = 2.742\n",
    "\n",
    "# elastic constants of alpha quartz at 1.5 GPa\n",
    "C11 = 90.3\n",
    "C33 = 122.3\n",
    "C44 = 62.4\n",
    "C12 = 15.4\n",
    "C13 = 23.7\n",
    "C14 = 10.7\n",
    "\n",
    "# dependent terms\n",
    "C66 = 0.5 * (C11 - C12)\n",
    "C22, C55, C23, C24, C56 = C11, C44, C13, -C14, C14\n",
    "\n",
    "# Elastic stiffness tensor (in GPa) values as a Cij matrix\n",
    "Cij_aQtz = np.array(\n",
    "    [[C11, C12, C13, C14, 0.0, 0.0],\n",
    "    [ C12, C22, C23, C24, 0.0, 0.0],\n",
    "    [ C13, C23, C33, 0.0, 0.0, 0.0],\n",
    "    [ C14, C24, 0.0, C44, 0.0, 0.0],\n",
    "    [ 0.0, 0.0, 0.0, 0.0, C55, C56],\n",
    "    [ 0.0, 0.0, 0.0, 0.0, C56, C66]])"
   ]
  },
  {
   "cell_type": "code",
   "execution_count": 3,
   "metadata": {},
   "outputs": [],
   "source": [
    "# Density of Plagioclase Anorthite 37 (g/cm3) at RT-RP fom Brown et al. (2016)\n",
    "rho_An37 = 2.666\n",
    "\n",
    "# elastic constants of anorthite-37 at 1 GPa\n",
    "C11 =  96.2\n",
    "C22 = 189.4\n",
    "C33 = 171.9\n",
    "C44 =  23.6\n",
    "C55 =  33.1\n",
    "C66 =  35.5\n",
    "C12 =  46.1\n",
    "C13 =  38.4\n",
    "C14 =   5.9\n",
    "C15 =  -0.2\n",
    "C16 =  -0.4\n",
    "C23 =  15.4\n",
    "C24 =  -7.0\n",
    "C25 =  -5.1\n",
    "C26 =  -6.8\n",
    "C34 =   2.2\n",
    "C35 =   7.2\n",
    "C36 =  -9.8\n",
    "C45 =  -1.1\n",
    "C46 =  -4.8\n",
    "C56 =   1.4\n",
    "\n",
    "# Elastic stiffness tensor (in GPa) values as a Cij matrix at 1 Gpa\n",
    "Cij_An37 = np.array( \n",
    "    [[C11, C12, C13, C14, C15, C16],\n",
    "    [ C12, C22, C23, C24, C25, C26],\n",
    "    [ C13, C23, C33, C34, C35, C36],\n",
    "    [ C14, C24, C34, C44, C45, C46],\n",
    "    [ C15, C25, C35, C45, C55, C56],\n",
    "    [ C16, C26, C36, C46, C56, C66]])"
   ]
  },
  {
   "cell_type": "code",
   "execution_count": 4,
   "metadata": {},
   "outputs": [],
   "source": [
    "# Density (g/cm3) of omphacite at 1.5 GPa derived from data in Hao et al. (2019)\n",
    "rho_Omph_ref = 3.34\n",
    "rho_Omph = rho_Omph_ref + 1.5 * 0.0266 + 1.5**2 * - 0.0002\n",
    "\n",
    "# TODO"
   ]
  },
  {
   "cell_type": "code",
   "execution_count": 5,
   "metadata": {},
   "outputs": [],
   "source": [
    "# Density (g/cm3) of diopside at 1.5 GPa recalculated from Sang and Bass (2014)\n",
    "rho_diop = 3.305\n",
    "\n",
    "# elastic constants of diopside at 1.5 GPa and RT\n",
    "C11 = 238.7\n",
    "C22 = 188.7\n",
    "C33 = 255.9\n",
    "C44 =  81.5\n",
    "C55 =  71.2\n",
    "C66 =  80.9\n",
    "C12 =  84.9\n",
    "C13 =  76.3\n",
    "C15 =   8.8\n",
    "C23 =  62.4\n",
    "C25 =   4.3\n",
    "C35 =  39.1\n",
    "C46 =   4.5\n",
    "\n",
    "# Elastic stiffness tensor (in GPa) values as a Cij matrix at 1 Gpa\n",
    "Cij_diop = np.array( \n",
    "    [[C11, C12, C13, 0.0, C15, 0.0],\n",
    "    [ C12, C22, C23, 0.0, C25, 0.0],\n",
    "    [ C13, C23, C33, 0.0, C35, 0.0],\n",
    "    [ 0.0, 0.0, 0.0, C44, 0.0, C46],\n",
    "    [ C15, C25, C35, 0.0, C55, 0.0],\n",
    "    [ 0.0, 0.0, 0.0, C46, 0.0, C66]])"
   ]
  },
  {
   "cell_type": "code",
   "execution_count": 6,
   "metadata": {},
   "outputs": [],
   "source": [
    "# Density (g/cm3) of Fe-bearing orthoenstatite at 1.5 GPa and RT recalculated from Zhang and Bass (2016) using a custom fitting\n",
    "rho_ens = 3.329\n",
    "\n",
    "# elastic constants of Fe-bearing orthoenstatite at 1.5 GPa and RT custom fitting (see excel file)\n",
    "C11 = 249.2\n",
    "C22 = 189.8\n",
    "C33 = 241.2\n",
    "C44 =  86.1\n",
    "C55 =  80.7\n",
    "C66 =  83.8\n",
    "C12 =  89.1\n",
    "C13 =  72.7\n",
    "C23 =  65.5\n",
    "\n",
    "\n",
    "# Elastic stiffness tensor (in GPa) values as a Cij matrix\n",
    "Cij_ens = np.array(\n",
    "    [[C11, C12, C13, 0.0, 0.0, 0.0],\n",
    "    [ C12, C22, C23, 0.0, 0.0, 0.0],\n",
    "    [ C13, C23, C33, 0.0, 0.0, 0.0],\n",
    "    [ 0.0, 0.0, 0.0, C44, 0.0, 0.0],\n",
    "    [ 0.0, 0.0, 0.0, 0.0, C55, 0.0],\n",
    "    [ 0.0, 0.0, 0.0, 0.0, 0.0, C66]])"
   ]
  },
  {
   "cell_type": "code",
   "execution_count": 7,
   "metadata": {},
   "outputs": [],
   "source": [
    "# Density (g/cm3) of amphibole pargasite (num 8) at RP-RT from Brown and Abramson (2016)\n",
    "rho_parg = 3.163\n",
    "\n",
    "# elastic constants of pargasite at RP-RT\n",
    "C11 = 141.6\n",
    "C22 = 197.8\n",
    "C33 = 225.4\n",
    "C44 =  75.8\n",
    "C55 =  49.9\n",
    "C66 =  51.7\n",
    "C12 =  57.1\n",
    "C13 =  49.6\n",
    "C15 =  -0.2\n",
    "C23 =  60.9\n",
    "C25 = -10.9\n",
    "C35 = -31.4\n",
    "C46 =   3.3\n",
    "\n",
    "# Elastic stiffness tensor (in GPa) values as a Cij matrix\n",
    "Cij_parg = np.array( \n",
    "    [[C11, C12, C13, 0.0, C15, 0.0],\n",
    "    [ C12, C22, C23, 0.0, C25, 0.0],\n",
    "    [ C13, C23, C33, 0.0, C35, 0.0],\n",
    "    [ 0.0, 0.0, 0.0, C44, 0.0, C46],\n",
    "    [ C15, C25, C35, 0.0, C55, 0.0],\n",
    "    [ 0.0, 0.0, 0.0, C46, 0.0, C66]])"
   ]
  },
  {
   "cell_type": "code",
   "execution_count": 8,
   "metadata": {},
   "outputs": [],
   "source": [
    "# Density (g/cm3) of Fe-bearing San Carlos olivine at 1.5 GPa and 1027°C (1300 K), custom fitting from Zhang and Bass (2016)\n",
    "rho_Fo90 = 3.291\n",
    "\n",
    "# elastic constants of San Carlos olivine at 1.5 GPa and 1027°C (1300 K), custom fitting from Zhang and Bass (2016)\n",
    "C11 = 280.2\n",
    "C22 = 182.1\n",
    "C33 = 207.6\n",
    "C44 =  56.8\n",
    "C55 =  68.8\n",
    "C66 =  68.5\n",
    "C12 =  71.9\n",
    "C13 =  67.2\n",
    "C23 =  70.1\n",
    "\n",
    "# Elastic stiffness tensor (in GPa) values as a Cij matrix\n",
    "Cij_Fo90 = np.array(\n",
    "    [[C11, C12, C13, 0.0, 0.0, 0.0],\n",
    "    [ C12, C22, C23, 0.0, 0.0, 0.0],\n",
    "    [ C13, C23, C33, 0.0, 0.0, 0.0],\n",
    "    [ 0.0, 0.0, 0.0, C44, 0.0, 0.0],\n",
    "    [ 0.0, 0.0, 0.0, 0.0, C55, 0.0],\n",
    "    [ 0.0, 0.0, 0.0, 0.0, 0.0, C66]])"
   ]
  },
  {
   "cell_type": "code",
   "execution_count": 9,
   "metadata": {},
   "outputs": [],
   "source": [
    "# Density (g/cm3) averaged from several chlinochlores in Katahara (1996)\n",
    "rho_chl = 2.71\n",
    "\n",
    "# independent elastic constants of chlorite as in Table 3 in Mookherjee and Mainprice (2014) RP-RT\n",
    "C11 = 197.8\n",
    "C22 = 202.3\n",
    "C33 = 135.1\n",
    "C44 =  24.5\n",
    "C55 =  24.4\n",
    "C66 =  70.3\n",
    "C12 =  60.7\n",
    "C13 =  21.1\n",
    "C15 =   3.3\n",
    "C23 =  34.1\n",
    "C25 =   0.2\n",
    "C35 =   0.4\n",
    "C46 =   0.1\n",
    "\n",
    "# Elastic stiffness tensor (in GPa) values as a Cij matrix\n",
    "Cij_chl = np.array( \n",
    "    [[C11, C12, C13, 0.0, C15, 0.0],\n",
    "    [ C12, C22, C23, 0.0, C25, 0.0],\n",
    "    [ C13, C23, C33, 0.0, C35, 0.0],\n",
    "    [ 0.0, 0.0, 0.0, C44, 0.0, C46],\n",
    "    [ C15, C25, C35, 0.0, C55, 0.0],\n",
    "    [ 0.0, 0.0, 0.0, C46, 0.0, C66]])"
   ]
  },
  {
   "cell_type": "code",
   "execution_count": 16,
   "metadata": {},
   "outputs": [],
   "source": [
    "quartz = ElasticTensor(Cij=Cij_aQtz, density=rho_aqtz)\n",
    "plag_an37 = ElasticTensor(Cij=Cij_An37, density=rho_An37)\n",
    "diopside = ElasticTensor(Cij=Cij_diop, density=rho_diop)\n",
    "enstatite = ElasticTensor(Cij=Cij_ens, density=rho_ens)\n",
    "pargasite = ElasticTensor(Cij=Cij_parg,density=rho_parg)\n",
    "olivine = ElasticTensor(Cij=Cij_Fo90, density=rho_Fo90)\n",
    "chlorite = ElasticTensor(Cij=Cij_chl, density=rho_chl)\n",
    "\n",
    "min_list = [quartz, plag_an37, diopside, enstatite, pargasite, olivine, chlorite]"
   ]
  },
  {
   "cell_type": "code",
   "execution_count": 28,
   "metadata": {},
   "outputs": [
    {
     "data": {
      "text/plain": [
       "Text(0, 0.5, 'average (VRH) Vp (km/s)')"
      ]
     },
     "execution_count": 28,
     "metadata": {},
     "output_type": "execute_result"
    },
    {
     "data": {
      "image/png": "[encoded data removed]",
      "text/plain": [
       "<Figure size 640x480 with 1 Axes>"
      ]
     },
     "metadata": {},
     "output_type": "display_data"
    }
   ],
   "source": [
    "mineral = ['quartz', 'plag An37', 'diopside', 'enstatite', 'pargasite', 'olivine', 'chlorite']\n",
    "\n",
    "fig, ax = plt.subplots()\n",
    "\n",
    "for index, item in enumerate(min_list):\n",
    "    ax.plot(item.density, item.isotropic_avg_vp, 'o', markersize=13, label=mineral[index])\n",
    "    ax.annotate(mineral[index], xy=(item.density, item.isotropic_avg_vp), xytext=(item.density + 0.03, item.isotropic_avg_vp))\n",
    "\n",
    "ax.set_xlabel('density (g/cm3)')\n",
    "ax.set_ylabel('average (VRH) Vp (km/s)')"
   ]
  },
  {
   "cell_type": "code",
   "execution_count": 29,
   "metadata": {},
   "outputs": [
    {
     "data": {
      "text/plain": [
       "<class 'Dataclasses.ElasticTensor'>\n",
       "\n",
       "Density (g/cm3): 2.742\n",
       "Stiffness Tensor (Cij):\n",
       "[[ 90.3   15.4   23.7   10.7    0.     0.  ]\n",
       " [ 15.4   90.3   23.7  -10.7    0.     0.  ]\n",
       " [ 23.7   23.7  122.3    0.     0.     0.  ]\n",
       " [ 10.7  -10.7    0.    62.4    0.     0.  ]\n",
       " [  0.     0.     0.     0.    62.4   10.7 ]\n",
       " [  0.     0.     0.     0.    10.7   37.45]]\n",
       "\n",
       "Calculated properties:\n",
       "Bulk Modulus Voigt Average (GPa): 47.611\n",
       "Bulk Modulus Reuss Average (GPa): 46.199\n",
       "Bulk Modulus VRH Average (GPa): 46.905\n",
       "Shear Modulus Voigt Average (GPa): 48.457\n",
       "Shear Modulus Reuss Average (GPa): 43.837\n",
       "Shear Modulus VRH Average (GPa): 46.147\n",
       "Universal Elastic Anisotropy: 0.558\n",
       "Isotropic Average Poisson Ratio: 0.130\n",
       "Isotropic Average Vp (km/s): 6.288\n",
       "Isotropic Average Vs (km/s): 4.102\n",
       "Isotropic Average Vp/Vs: 1.533"
      ]
     },
     "execution_count": 29,
     "metadata": {},
     "output_type": "execute_result"
    }
   ],
   "source": [
    "quartz"
   ]
  },
  {
   "cell_type": "code",
   "execution_count": 30,
   "metadata": {},
   "outputs": [
    {
     "data": {
      "text/plain": [
       "<class 'Dataclasses.ElasticTensor'>\n",
       "\n",
       "Density (g/cm3): 2.666\n",
       "Stiffness Tensor (Cij):\n",
       "[[ 96.2  46.1  38.4   5.9  -0.2  -0.4]\n",
       " [ 46.1 189.4  15.4  -7.   -5.1  -6.8]\n",
       " [ 38.4  15.4 171.9   2.2   7.2  -9.8]\n",
       " [  5.9  -7.    2.2  23.6  -1.1  -4.8]\n",
       " [ -0.2  -5.1   7.2  -1.1  33.1   1.4]\n",
       " [ -0.4  -6.8  -9.8  -4.8   1.4  35.5]]\n",
       "\n",
       "Calculated properties:\n",
       "Bulk Modulus Voigt Average (GPa): 73.033\n",
       "Bulk Modulus Reuss Average (GPa): 68.807\n",
       "Bulk Modulus VRH Average (GPa): 70.920\n",
       "Shear Modulus Voigt Average (GPa): 42.280\n",
       "Shear Modulus Reuss Average (GPa): 33.539\n",
       "Shear Modulus VRH Average (GPa): 37.910\n",
       "Universal Elastic Anisotropy: 1.364\n",
       "Isotropic Average Poisson Ratio: 0.273\n",
       "Isotropic Average Vp (km/s): 6.750\n",
       "Isotropic Average Vs (km/s): 3.771\n",
       "Isotropic Average Vp/Vs: 1.790"
      ]
     },
     "execution_count": 30,
     "metadata": {},
     "output_type": "execute_result"
    }
   ],
   "source": [
    "plag_an37"
   ]
  },
  {
   "cell_type": "code",
   "execution_count": null,
   "metadata": {},
   "outputs": [],
   "source": []
  }
 ],
 "metadata": {
  "kernelspec": {
   "display_name": "main",
   "language": "python",
   "name": "python3"
  },
  "language_info": {
   "codemirror_mode": {
    "name": "ipython",
    "version": 3
   },
   "file_extension": ".py",
   "mimetype": "text/x-python",
   "name": "python",
   "nbconvert_exporter": "python",
   "pygments_lexer": "ipython3",
   "version": "3.10.10"
  },
  "orig_nbformat": 4
 },
 "nbformat": 4,
 "nbformat_minor": 2
}
