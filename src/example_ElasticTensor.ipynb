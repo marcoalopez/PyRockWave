{
 "cells": [
  {
   "cell_type": "code",
   "execution_count": 1,
   "metadata": {},
   "outputs": [],
   "source": [
    "import numpy as np\n",
    "from Dataclasses import ElasticTensor"
   ]
  },
  {
   "cell_type": "code",
   "execution_count": 3,
   "metadata": {},
   "outputs": [],
   "source": [
    "# density (g/cm3) at 1.5 GPa from Wang et al. (2015)\n",
    "rho = 2.742\n",
    "\n",
    "# alpha quartz has six independent elastic constants: C11, C33, C12, C13, C14 and C44\n",
    "C11 = 87.64\n",
    "C33 = 107.20\n",
    "C44 = 57.94\n",
    "C12 = 6.99\n",
    "C13 = 11.91\n",
    "C14 = -17.19\n",
    "\n",
    "# dependent terms\n",
    "C66 = 0.5 * (C11 - C12)\n",
    "C22, C55, C23, C24, C56 = C11, C44, C13, -C14, C14\n",
    "\n",
    "# Elastic stiffness tensor (in GPa) values as a Cij matrix\n",
    "Cij_aQtz = np.array(\n",
    "    [[C11, C12, C13, C14, 0.0, 0.0],\n",
    "    [ C12, C22, C23, C24, 0.0, 0.0],\n",
    "    [ C13, C13, C33, 0.0, 0.0, 0.0],\n",
    "    [ C14, C24, 0.0, C44, 0.0, 0.0],\n",
    "    [ 0.0, 0.0, 0.0, 0.0, C55, C56],\n",
    "    [ 0.0, 0.0, 0.0, 0.0, C56, C66]])\n",
    "\n",
    "# cell parameters\n",
    "cell_alpha_qtz = {\n",
    "    'symmetry': '-3m',\n",
    "    'unit_cell': [4.914, 4.913, 5.405],\n",
    "    'angles': [90.0, 90.0, 120.0],\n",
    "    'ref': 'TODO'}"
   ]
  },
  {
   "cell_type": "code",
   "execution_count": 2,
   "metadata": {},
   "outputs": [],
   "source": [
    "# Density of Plagioclase Anrthite 37 (g/cm3) at RP, source: Brown et al. (2016)\n",
    "rho_An37 = 2.666\n",
    "\n",
    "# elastic constants of anorthite-37 at 1 GPa\n",
    "C11 =  96.2\n",
    "C22 = 189.4\n",
    "C33 = 171.9\n",
    "C44 =  23.6\n",
    "C55 =  33.1\n",
    "C66 =  35.5\n",
    "C12 =  46.1\n",
    "C13 =  38.4\n",
    "C14 =   5.9\n",
    "C15 =  -0.2\n",
    "C16 =  -0.4\n",
    "C23 =  15.4\n",
    "C24 =  -7.0\n",
    "C25 =  -5.1\n",
    "C26 =  -6.8\n",
    "C34 =   2.2\n",
    "C35 =   7.2\n",
    "C36 =  -9.8\n",
    "C45 =  -1.1\n",
    "C46 =  -4.8\n",
    "C56 =   1.4\n",
    "\n",
    "# Elastic stiffness tensor (in GPa) values as a Cij matrix at 1 Gpa\n",
    "Cij_An37 = np.array( \n",
    "    [[C11, C12, C13, C14, C15, C16],\n",
    "    [ C12, C22, C23, C24, C25, C26],\n",
    "    [ C13, C23, C33, C34, C35, C36],\n",
    "    [ C14, C24, C34, C44, C45, C46],\n",
    "    [ C15, C25, C35, C45, C55, C56],\n",
    "    [ C16, C26, C36, C46, C56, C66]])"
   ]
  }
 ],
 "metadata": {
  "kernelspec": {
   "display_name": "main",
   "language": "python",
   "name": "python3"
  },
  "language_info": {
   "codemirror_mode": {
    "name": "ipython",
    "version": 3
   },
   "file_extension": ".py",
   "mimetype": "text/x-python",
   "name": "python",
   "nbconvert_exporter": "python",
   "pygments_lexer": "ipython3",
   "version": "3.10.10"
  },
  "orig_nbformat": 4
 },
 "nbformat": 4,
 "nbformat_minor": 2
}
