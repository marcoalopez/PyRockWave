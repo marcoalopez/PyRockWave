{
 "cells": [
  {
   "attachments": {},
   "cell_type": "markdown",
   "metadata": {},
   "source": [
    "# Example of usage\n",
    "\n",
    "This is a Jupyter notebook showing some of the functionality of the PyRockWave codes, including the use of its database. This is in intensive development (alpha state), so the code and functionality may be subject to major changes. That is why there are still no instructions on how to install it and no specific documentation on how to use it. However, the code is completely open source, so you can have fun with it at your own risk.\n",
    "\n",
    "## Using the database\n",
    "\n",
    "The code includes, among others, a (still incomplete) database of the elastic properties of common minerals. This database differs from other existing databases in that it is not a passive database, i.e. a set of text files containing data on elastic properties, but a file with functions that return the elastic properties of minerals under specific conditions and with which it has to interact. The idea is to provide an up-to-date, well-documented database of elastic properties with a rigorous tracking of changes (key for reproducibility).\n",
    "\n",
    "The first action in a Jupyter notebook is to import the database as follows"
   ]
  },
  {
   "cell_type": "code",
   "execution_count": 1,
   "metadata": {},
   "outputs": [],
   "source": [
    "import elastic_database as edb"
   ]
  },
  {
   "attachments": {},
   "cell_type": "markdown",
   "metadata": {},
   "source": [
    "If you then type ``edb.`` and press the TAB key, you will get a menu with all the options available in the database. For example, let's extract the properties of alpha quartz at a pressure of 1.8 GPa."
   ]
  },
  {
   "cell_type": "code",
   "execution_count": 2,
   "metadata": {},
   "outputs": [
    {
     "data": {
      "text/plain": [
       "<class 'ElasticClass.ElasticProps'>\n",
       "\n",
       "Mineral Name: Alpha_quartz\n",
       "Reference Source: https://doi.org/10.1007/s00269-014-0711-z\n",
       "Crystal System: Trigonal\n",
       "Pressure (GPa): 1.8\n",
       "Temperature (°C): 25\n",
       "Density (g/cm3): 2.763\n",
       "\n",
       "Elastic Tensor (Cij) in GPa:\n",
       "[[ 93.52  18.88  24.43  11.     0.     0.  ]\n",
       " [ 18.88  93.52  24.43 -11.     0.     0.  ]\n",
       " [ 24.43  24.43 129.83   0.     0.     0.  ]\n",
       " [ 11.   -11.     0.    62.1    0.     0.  ]\n",
       " [  0.     0.     0.     0.    62.1   11.  ]\n",
       " [  0.     0.     0.     0.    11.    37.32]]\n",
       "\n",
       "Calculated average properties:\n",
       "Bulk Modulus (GPa) → VRH, (Reuss, Voigt)\n",
       "49.551, (48.842, 50.261)\n",
       "\n",
       "Shear Modulus (GPa) → VRH, (Reuss, Voigt)\n",
       "46.575, (44.236, 48.913)\n",
       "\n",
       "Isotropic Poisson Ratio → VRH, (Reuss, Voigt)\n",
       "0.142, (0.152, 0.133))\n",
       "\n",
       "Pugh's ratio → VRH, (Reuss, Voigt)\n",
       "(1.064, (1.104, 1.028)\n",
       "\n",
       "Anisotropy indexes\n",
       "Universal Elastic Anisotropy: 0.558\n",
       "Kube's Anisotropy Index (proportional): 0.227\n",
       "\n",
       "Isotropic seismic properties → VRH, (Reuss, Voigt)\n",
       "Vp (km/s): 6.357, (6.247, 6.465)\n",
       "Vs (km/s): 4.106, (4.001, 4.207)\n",
       "Vp/Vs: 1.548, (1.561, 1.536)"
      ]
     },
     "execution_count": 2,
     "metadata": {},
     "output_type": "execute_result"
    }
   ],
   "source": [
    "edb.alpha_quartz(1.8)"
   ]
  },
  {
   "attachments": {},
   "cell_type": "markdown",
   "metadata": {},
   "source": [
    "As you can see, the command returns a summary of the different properties of alpha quartz at 1.8 GPa pressure, including some average elastic properties of alpha quartz. If you want to access the function's own documentation you can use the ``help()`` or ``?`` command."
   ]
  },
  {
   "cell_type": "code",
   "execution_count": 3,
   "metadata": {},
   "outputs": [
    {
     "name": "stdout",
     "output_type": "stream",
     "text": [
      "\u001b[1;31mSignature:\u001b[0m \u001b[0medb\u001b[0m\u001b[1;33m.\u001b[0m\u001b[0malpha_quartz\u001b[0m\u001b[1;33m(\u001b[0m\u001b[0mP\u001b[0m\u001b[1;33m=\u001b[0m\u001b[1;36m1e-05\u001b[0m\u001b[1;33m)\u001b[0m\u001b[1;33m\u001b[0m\u001b[1;33m\u001b[0m\u001b[0m\n",
      "\u001b[1;31mDocstring:\u001b[0m\n",
      "Returns the corresponding elastic tensor (GPa) and density\n",
      "(g/cm3) and other derived elastic properties of alpha quartz\n",
      "as a function of pressure based on a polynomial fit from\n",
      "experimental data of Wang et al. (2006) [1]\n",
      "\n",
      "Caveats\n",
      "-------\n",
      "    - C44 elastic term is worse constrained than the others.\n",
      "    The fitting has an R-squared value of 0.96\n",
      "    - The function does not account for temperature effects\n",
      "    and assumes room temperature.\n",
      "\n",
      "Parameters\n",
      "----------\n",
      "P : numeric, optional\n",
      "    Pressure in GPa. Default value is 1e-5 GPa (RT).\n",
      "\n",
      "Returns\n",
      "-------\n",
      "properties : ElasticProps dataclass\n",
      "    An object containing the following properties:\n",
      "    - name: Name of the crystal ('alpha_quartz').\n",
      "    - crystal_system: Crystal system.\n",
      "    - temperature: Temperature in degrees Celsius (assumed 25).\n",
      "    - pressure: Pressure in GPa.\n",
      "    - density: Density in g/cm3.\n",
      "    - cijs: 6x6 array representing the elastic tensor.\n",
      "    - reference: Reference to the source publication.\n",
      "    - Other average (seismic) properties\n",
      "\n",
      "Examples\n",
      "--------\n",
      ">>> quartz_props = alpha_quartz(1.0)\n",
      "\n",
      "References\n",
      "----------\n",
      "[1] Wang, J., Mao, Z., Jiang, F., Duffy, T.S., 2015. Elasticity of\n",
      "single-crystal quartz to 10 GPa. Phys Chem Minerals 42, 203–212.\n",
      "https://doi.org/10.1007/s00269-014-0711-z\n",
      "\u001b[1;31mFile:\u001b[0m      c:\\users\\marco\\documents\\github\\pyrockwave\\src\\elastic_database.py\n",
      "\u001b[1;31mType:\u001b[0m      function"
     ]
    }
   ],
   "source": [
    "# alternatively you can use help(edb.alpha_quartz) or edb.alpha_quartz??\n",
    "edb.alpha_quartz?"
   ]
  },
  {
   "attachments": {},
   "cell_type": "markdown",
   "metadata": {},
   "source": [
    "Of course, you can store this information in a variable and access the different properties individually or in their entirety. For example:"
   ]
  },
  {
   "cell_type": "code",
   "execution_count": 4,
   "metadata": {},
   "outputs": [
    {
     "data": {
      "text/plain": [
       "array([[ 93.52,  18.88,  24.43,  11.  ,   0.  ,   0.  ],\n",
       "       [ 18.88,  93.52,  24.43, -11.  ,   0.  ,   0.  ],\n",
       "       [ 24.43,  24.43, 129.83,   0.  ,   0.  ,   0.  ],\n",
       "       [ 11.  , -11.  ,   0.  ,  62.1 ,   0.  ,   0.  ],\n",
       "       [  0.  ,   0.  ,   0.  ,   0.  ,  62.1 ,  11.  ],\n",
       "       [  0.  ,   0.  ,   0.  ,   0.  ,  11.  ,  37.32]])"
      ]
     },
     "execution_count": 4,
     "metadata": {},
     "output_type": "execute_result"
    }
   ],
   "source": [
    "quartz = edb.alpha_quartz(1.8)\n",
    "quartz.Cij"
   ]
  },
  {
   "cell_type": "code",
   "execution_count": 5,
   "metadata": {},
   "outputs": [
    {
     "name": "stdout",
     "output_type": "stream",
     "text": [
      "density = 2.763\n",
      "Shear modulus (Hill average) = 46.574527852653404\n"
     ]
    }
   ],
   "source": [
    "print(f'density = {quartz.density}')\n",
    "print(f'Shear modulus (Hill average) = {quartz.G_hill}')"
   ]
  },
  {
   "attachments": {},
   "cell_type": "markdown",
   "metadata": {},
   "source": [
    "Other random examples"
   ]
  },
  {
   "cell_type": "code",
   "execution_count": 6,
   "metadata": {},
   "outputs": [
    {
     "data": {
      "text/plain": [
       "<class 'ElasticClass.ElasticProps'>\n",
       "\n",
       "Mineral Name: Alpha_quartz\n",
       "Reference Source: https://doi.org/10.1007/s00269-014-0711-z\n",
       "Crystal System: Trigonal\n",
       "Pressure (GPa): 1.8\n",
       "Temperature (°C): 25\n",
       "Density (g/cm3): 2.763\n",
       "\n",
       "Elastic Tensor (Cij) in GPa:\n",
       "[[ 93.52  18.88  24.43  11.     0.     0.  ]\n",
       " [ 18.88  93.52  24.43 -11.     0.     0.  ]\n",
       " [ 24.43  24.43 129.83   0.     0.     0.  ]\n",
       " [ 11.   -11.     0.    62.1    0.     0.  ]\n",
       " [  0.     0.     0.     0.    62.1   11.  ]\n",
       " [  0.     0.     0.     0.    11.    37.32]]\n",
       "\n",
       "Calculated average properties:\n",
       "Bulk Modulus (GPa) → VRH, (Reuss, Voigt)\n",
       "49.551, (48.842, 50.261)\n",
       "\n",
       "Shear Modulus (GPa) → VRH, (Reuss, Voigt)\n",
       "46.575, (44.236, 48.913)\n",
       "\n",
       "Isotropic Poisson Ratio → VRH, (Reuss, Voigt)\n",
       "0.142, (0.152, 0.133))\n",
       "\n",
       "Pugh's ratio → VRH, (Reuss, Voigt)\n",
       "(1.064, (1.104, 1.028)\n",
       "\n",
       "Anisotropy indexes\n",
       "Universal Elastic Anisotropy: 0.558\n",
       "Kube's Anisotropy Index (proportional): 0.227\n",
       "\n",
       "Isotropic seismic properties → VRH, (Reuss, Voigt)\n",
       "Vp (km/s): 6.357, (6.247, 6.465)\n",
       "Vs (km/s): 4.106, (4.001, 4.207)\n",
       "Vp/Vs: 1.548, (1.561, 1.536)"
      ]
     },
     "execution_count": 6,
     "metadata": {},
     "output_type": "execute_result"
    }
   ],
   "source": [
    "# describe all the data\n",
    "quartz"
   ]
  },
  {
   "cell_type": "code",
   "execution_count": 7,
   "metadata": {},
   "outputs": [
    {
     "data": {
      "text/plain": [
       "<class 'ElasticClass.ElasticProps'>\n",
       "\n",
       "Mineral Name: Omphacite\n",
       "Reference Source: https://doi.org/10.1029/2018JB016964\n",
       "Crystal System: Monoclinic\n",
       "Pressure (GPa): 1.8\n",
       "Temperature (°C): 25\n",
       "Density (g/cm3): 3.388\n",
       "\n",
       "Elastic Tensor (Cij) in GPa:\n",
       "[[245.8   92.34  81.79   0.     6.62   0.  ]\n",
       " [ 92.34 210.    64.46   0.     4.48   0.  ]\n",
       " [ 81.79  64.46 267.18   0.    36.     0.  ]\n",
       " [  0.     0.     0.    80.88   0.     6.3 ]\n",
       " [  6.62   4.48  36.     0.    70.57   0.  ]\n",
       " [  0.     0.     0.     6.3    0.    78.15]]\n",
       "\n",
       "Calculated average properties:\n",
       "Bulk Modulus (GPa) → VRH, (Reuss, Voigt)\n",
       "131.057, (128.763, 133.351)\n",
       "\n",
       "Shear Modulus (GPa) → VRH, (Reuss, Voigt)\n",
       "76.617, (75.022, 78.213)\n",
       "\n",
       "Isotropic Poisson Ratio → VRH, (Reuss, Voigt)\n",
       "0.255, (0.256, 0.255))\n",
       "\n",
       "Pugh's ratio → VRH, (Reuss, Voigt)\n",
       "(1.711, (1.716, 1.705)\n",
       "\n",
       "Anisotropy indexes\n",
       "Universal Elastic Anisotropy: 0.248\n",
       "Kube's Anisotropy Index (proportional): 0.099\n",
       "\n",
       "Isotropic seismic properties → VRH, (Reuss, Voigt)\n",
       "Vp (km/s): 8.297, (8.218, 8.375)\n",
       "Vs (km/s): 4.755, (4.706, 4.805)\n",
       "Vp/Vs: 1.745, (1.746, 1.743)"
      ]
     },
     "execution_count": 7,
     "metadata": {},
     "output_type": "execute_result"
    }
   ],
   "source": [
    "edb.omphacite(1.8)"
   ]
  },
  {
   "cell_type": "code",
   "execution_count": 8,
   "metadata": {},
   "outputs": [
    {
     "data": {
      "text/plain": [
       "<class 'ElasticClass.ElasticProps'>\n",
       "\n",
       "Mineral Name: Diopside\n",
       "Reference Source: https://doi.org/10.1016/j.pepi.2013.12.011\n",
       "Crystal System: Monoclinic\n",
       "Pressure (GPa): 1.8\n",
       "Temperature (°C): 25\n",
       "Density (g/cm3): 3.313\n",
       "\n",
       "Elastic Tensor (Cij) in GPa:\n",
       "[[240.6   86.27  77.58   0.     9.64   0.  ]\n",
       " [ 86.27 190.59  63.43   0.     3.98   0.  ]\n",
       " [ 77.58  63.43 257.9    0.    38.72   0.  ]\n",
       " [  0.     0.     0.    82.06   0.     4.09]\n",
       " [  9.64   3.98  38.72   0.    71.81   0.  ]\n",
       " [  0.     0.     0.     4.09   0.    81.56]]\n",
       "\n",
       "Calculated average properties:\n",
       "Bulk Modulus (GPa) → VRH, (Reuss, Voigt)\n",
       "124.168, (121.265, 127.072)\n",
       "\n",
       "Shear Modulus (GPa) → VRH, (Reuss, Voigt)\n",
       "76.085, (74.297, 77.873)\n",
       "\n",
       "Isotropic Poisson Ratio → VRH, (Reuss, Voigt)\n",
       "0.246, (0.246, 0.246))\n",
       "\n",
       "Pugh's ratio → VRH, (Reuss, Voigt)\n",
       "(1.632, (1.632, 1.632)\n",
       "\n",
       "Anisotropy indexes\n",
       "Universal Elastic Anisotropy: 0.289\n",
       "Kube's Anisotropy Index (proportional): 0.115\n",
       "\n",
       "Isotropic seismic properties → VRH, (Reuss, Voigt)\n",
       "Vp (km/s): 8.252, (8.155, 8.348)\n",
       "Vs (km/s): 4.792, (4.736, 4.848)\n",
       "Vp/Vs: 1.722, (1.722, 1.722)"
      ]
     },
     "execution_count": 8,
     "metadata": {},
     "output_type": "execute_result"
    }
   ],
   "source": [
    "edb.diopside(1.8)"
   ]
  },
  {
   "cell_type": "code",
   "execution_count": 9,
   "metadata": {},
   "outputs": [
    {
     "data": {
      "text/plain": [
       "<class 'ElasticClass.ElasticProps'>\n",
       "\n",
       "Mineral Name: Enstatite\n",
       "Reference Source: https://doi.org/10.1002/2016GL069963\n",
       "Crystal System: Orthorhombic\n",
       "Pressure (GPa): 1.8\n",
       "Temperature (°C): 25\n",
       "Density (g/cm3): 3.337\n",
       "\n",
       "Elastic Tensor (Cij) in GPa:\n",
       "[[252.37  90.97  74.92   0.     0.     0.  ]\n",
       " [ 90.97 192.45  67.71   0.     0.     0.  ]\n",
       " [ 74.92  67.71 244.64   0.     0.     0.  ]\n",
       " [  0.     0.     0.    86.8    0.     0.  ]\n",
       " [  0.     0.     0.     0.    81.35   0.  ]\n",
       " [  0.     0.     0.     0.     0.    84.81]]\n",
       "\n",
       "Calculated average properties:\n",
       "Bulk Modulus (GPa) → VRH, (Reuss, Voigt)\n",
       "127.550, (126.583, 128.518)\n",
       "\n",
       "Shear Modulus (GPa) → VRH, (Reuss, Voigt)\n",
       "80.263, (79.543, 80.983)\n",
       "\n",
       "Isotropic Poisson Ratio → VRH, (Reuss, Voigt)\n",
       "0.240, (0.240, 0.240))\n",
       "\n",
       "Pugh's ratio → VRH, (Reuss, Voigt)\n",
       "(1.589, (1.591, 1.587)\n",
       "\n",
       "Anisotropy indexes\n",
       "Universal Elastic Anisotropy: 0.106\n",
       "Kube's Anisotropy Index (proportional): 0.043\n",
       "\n",
       "Isotropic seismic properties → VRH, (Reuss, Voigt)\n",
       "Vp (km/s): 8.384, (8.350, 8.418)\n",
       "Vs (km/s): 4.904, (4.882, 4.926)\n",
       "Vp/Vs: 1.710, (1.710, 1.709)"
      ]
     },
     "execution_count": 9,
     "metadata": {},
     "output_type": "execute_result"
    }
   ],
   "source": [
    "edb.enstatite(1.8)"
   ]
  },
  {
   "cell_type": "code",
   "execution_count": 10,
   "metadata": {},
   "outputs": [
    {
     "data": {
      "text/plain": [
       "<class 'ElasticClass.ElasticProps'>\n",
       "\n",
       "Mineral Name: Forsterite\n",
       "Reference Source: https://doi.org/10.1002/2016GL069949\n",
       "Crystal System: Orthorhombic\n",
       "Pressure (GPa): 1.8\n",
       "Temperature (°C): 1027\n",
       "Density (g/cm3): 3.285\n",
       "\n",
       "Elastic Tensor (Cij) in GPa:\n",
       "[[282.82  72.83  67.77   0.     0.     0.  ]\n",
       " [ 72.83 183.61  71.08   0.     0.     0.  ]\n",
       " [ 67.77  71.08 208.99   0.     0.     0.  ]\n",
       " [  0.     0.     0.    57.3    0.     0.  ]\n",
       " [  0.     0.     0.     0.    69.17   0.  ]\n",
       " [  0.     0.     0.     0.     0.    68.96]]\n",
       "\n",
       "Calculated average properties:\n",
       "Bulk Modulus (GPa) → VRH, (Reuss, Voigt)\n",
       "120.458, (118.829, 122.087)\n",
       "\n",
       "Shear Modulus (GPa) → VRH, (Reuss, Voigt)\n",
       "68.922, (67.842, 70.002)\n",
       "\n",
       "Isotropic Poisson Ratio → VRH, (Reuss, Voigt)\n",
       "0.260, (0.260, 0.259))\n",
       "\n",
       "Pugh's ratio → VRH, (Reuss, Voigt)\n",
       "(1.748, (1.752, 1.744)\n",
       "\n",
       "Anisotropy indexes\n",
       "Universal Elastic Anisotropy: 0.187\n",
       "Kube's Anisotropy Index (proportional): 0.075\n",
       "\n",
       "Isotropic seismic properties → VRH, (Reuss, Voigt)\n",
       "Vp (km/s): 8.040, (7.982, 8.098)\n",
       "Vs (km/s): 4.580, (4.544, 4.616)\n",
       "Vp/Vs: 1.755, (1.756, 1.754)"
      ]
     },
     "execution_count": 10,
     "metadata": {},
     "output_type": "execute_result"
    }
   ],
   "source": [
    "edb.forsterite_ZB2016(P=1.8)"
   ]
  },
  {
   "cell_type": "code",
   "execution_count": 11,
   "metadata": {},
   "outputs": [
    {
     "data": {
      "text/plain": [
       "<class 'ElasticClass.ElasticProps'>\n",
       "\n",
       "Mineral Name: Forsterite\n",
       "Reference Source: https://doi.org/10.1016/j.epsl.2015.06.045\n",
       "Crystal System: Orthorhombic\n",
       "Pressure (GPa): 1.8\n",
       "Temperature (°C): 627\n",
       "Density (g/cm3): 3.301\n",
       "\n",
       "Elastic Tensor (Cij) in GPa:\n",
       "[[310.33  53.85  67.18   0.     0.     0.  ]\n",
       " [ 53.85 189.12  78.3    0.     0.     0.  ]\n",
       " [ 67.18  78.3  220.88   0.     0.     0.  ]\n",
       " [  0.     0.     0.    60.23   0.     0.  ]\n",
       " [  0.     0.     0.     0.    74.11   0.  ]\n",
       " [  0.     0.     0.     0.     0.    73.78]]\n",
       "\n",
       "Calculated average properties:\n",
       "Bulk Modulus (GPa) → VRH, (Reuss, Voigt)\n",
       "122.586, (120.841, 124.332)\n",
       "\n",
       "Shear Modulus (GPa) → VRH, (Reuss, Voigt)\n",
       "74.507, (72.656, 76.357)\n",
       "\n",
       "Isotropic Poisson Ratio → VRH, (Reuss, Voigt)\n",
       "0.247, (0.250, 0.245))\n",
       "\n",
       "Pugh's ratio → VRH, (Reuss, Voigt)\n",
       "(1.645, (1.663, 1.628)\n",
       "\n",
       "Anisotropy indexes\n",
       "Universal Elastic Anisotropy: 0.284\n",
       "Kube's Anisotropy Index (proportional): 0.115\n",
       "\n",
       "Isotropic seismic properties → VRH, (Reuss, Voigt)\n",
       "Vp (km/s): 8.199, (8.121, 8.277)\n",
       "Vs (km/s): 4.751, (4.691, 4.809)\n",
       "Vp/Vs: 1.726, (1.731, 1.721)"
      ]
     },
     "execution_count": 11,
     "metadata": {},
     "output_type": "execute_result"
    }
   ],
   "source": [
    "edb.forsterite_Mao(P=1.8)"
   ]
  },
  {
   "cell_type": "code",
   "execution_count": 12,
   "metadata": {},
   "outputs": [
    {
     "data": {
      "text/plain": [
       "<class 'ElasticClass.ElasticProps'>\n",
       "\n",
       "Mineral Name: Zoisite\n",
       "Reference Source: https://doi.org/10.2138/am.2007.2329\n",
       "Crystal System: Orthorhombic\n",
       "Pressure (GPa): 0.0\n",
       "Temperature (°C): 25\n",
       "Density (g/cm3): 3.343\n",
       "\n",
       "Elastic Tensor (Cij) in GPa:\n",
       "[[279.8  94.7  88.7   0.    0.    0. ]\n",
       " [ 94.7 249.2  27.5   0.    0.    0. ]\n",
       " [ 88.7  27.5 209.4   0.    0.    0. ]\n",
       " [  0.    0.    0.   51.8   0.    0. ]\n",
       " [  0.    0.    0.    0.   81.4   0. ]\n",
       " [  0.    0.    0.    0.    0.   66.3]]\n",
       "\n",
       "Calculated average properties:\n",
       "Bulk Modulus (GPa) → VRH, (Reuss, Voigt)\n",
       "125.274, (121.637, 128.911)\n",
       "\n",
       "Shear Modulus (GPa) → VRH, (Reuss, Voigt)\n",
       "72.855, (70.643, 75.067)\n",
       "\n",
       "Isotropic Poisson Ratio → VRH, (Reuss, Voigt)\n",
       "0.256, (0.257, 0.256))\n",
       "\n",
       "Pugh's ratio → VRH, (Reuss, Voigt)\n",
       "(1.719, (1.722, 1.717)\n",
       "\n",
       "Anisotropy indexes\n",
       "Universal Elastic Anisotropy: 0.373\n",
       "Kube's Anisotropy Index (proportional): 0.148\n",
       "\n",
       "Isotropic seismic properties → VRH, (Reuss, Voigt)\n",
       "Vp (km/s): 8.157, (8.035, 8.277)\n",
       "Vs (km/s): 4.668, (4.597, 4.739)\n",
       "Vp/Vs: 1.747, (1.748, 1.747)"
      ]
     },
     "execution_count": 12,
     "metadata": {},
     "output_type": "execute_result"
    }
   ],
   "source": [
    "edb.zoisite()"
   ]
  },
  {
   "cell_type": "code",
   "execution_count": 13,
   "metadata": {},
   "outputs": [
    {
     "data": {
      "text/plain": [
       "<class 'ElasticClass.ElasticProps'>\n",
       "\n",
       "Mineral Name: Chlorite\n",
       "Reference Source: https://doi.org/10.1002/2014GL059334\n",
       "Crystal System: Monoclinic\n",
       "Pressure (GPa): 1.8\n",
       "Temperature (°C): 25\n",
       "Density (g/cm3): 2.594\n",
       "\n",
       "Elastic Tensor (Cij) in GPa:\n",
       "[[199.1   57.76  23.51   0.     3.55   0.  ]\n",
       " [ 57.76 201.96  31.01   0.     0.05   0.  ]\n",
       " [ 23.51  31.01 162.46   0.     0.78   0.  ]\n",
       " [  0.     0.     0.    24.55   0.     0.33]\n",
       " [  3.55   0.05   0.78   0.    23.81   0.  ]\n",
       " [  0.     0.     0.     0.33   0.    71.77]]\n",
       "\n",
       "Calculated average properties:\n",
       "Bulk Modulus (GPa) → VRH, (Reuss, Voigt)\n",
       "86.392, (85.220, 87.564)\n",
       "\n",
       "Shear Modulus (GPa) → VRH, (Reuss, Voigt)\n",
       "47.242, (40.376, 54.109)\n",
       "\n",
       "Isotropic Poisson Ratio → VRH, (Reuss, Voigt)\n",
       "0.269, (0.295, 0.244))\n",
       "\n",
       "Pugh's ratio → VRH, (Reuss, Voigt)\n",
       "(1.829, (2.111, 1.618)\n",
       "\n",
       "Anisotropy indexes\n",
       "Universal Elastic Anisotropy: 1.728\n",
       "Kube's Anisotropy Index (proportional): 0.655\n",
       "\n",
       "Isotropic seismic properties → VRH, (Reuss, Voigt)\n",
       "Vp (km/s): 7.589, (7.322, 7.847)\n",
       "Vs (km/s): 4.268, (3.945, 4.567)\n",
       "Vp/Vs: 1.778, (1.856, 1.718)"
      ]
     },
     "execution_count": 13,
     "metadata": {},
     "output_type": "execute_result"
    }
   ],
   "source": [
    "edb.chlorite(1.8)"
   ]
  },
  {
   "cell_type": "code",
   "execution_count": 14,
   "metadata": {},
   "outputs": [
    {
     "data": {
      "text/plain": [
       "<class 'ElasticClass.ElasticProps'>\n",
       "\n",
       "Mineral Name: Pyrope\n",
       "Reference Source: https://doi.org/10.1016/j.epsl.2012.11.041\n",
       "Crystal System: Cubic\n",
       "Pressure (GPa): 1.8\n",
       "Temperature (°C): 750\n",
       "Density (g/cm3): 3.740\n",
       "\n",
       "Elastic Tensor (Cij) in GPa:\n",
       "[[284.1  107.2  107.2    0.     0.     0.  ]\n",
       " [107.2  284.1  107.2    0.     0.     0.  ]\n",
       " [107.2  107.2  284.1    0.     0.     0.  ]\n",
       " [  0.     0.     0.    90.26   0.     0.  ]\n",
       " [  0.     0.     0.     0.    90.26   0.  ]\n",
       " [  0.     0.     0.     0.     0.    90.26]]\n",
       "\n",
       "Calculated average properties:\n",
       "Bulk Modulus (GPa) → VRH, (Reuss, Voigt)\n",
       "166.167, (166.167, 166.167)\n",
       "\n",
       "Shear Modulus (GPa) → VRH, (Reuss, Voigt)\n",
       "89.532, (89.527, 89.536)\n",
       "\n",
       "Isotropic Poisson Ratio → VRH, (Reuss, Voigt)\n",
       "0.272, (0.272, 0.272))\n",
       "\n",
       "Pugh's ratio → VRH, (Reuss, Voigt)\n",
       "(1.856, (1.856, 1.856)\n",
       "\n",
       "Anisotropy indexes\n",
       "Universal Elastic Anisotropy: 0.000\n",
       "Kube's Anisotropy Index (proportional): 0.000\n",
       "\n",
       "Isotropic seismic properties → VRH, (Reuss, Voigt)\n",
       "Vp (km/s): 8.738, (8.738, 8.738)\n",
       "Vs (km/s): 4.893, (4.893, 4.893)\n",
       "Vp/Vs: 1.786, (1.786, 1.786)"
      ]
     },
     "execution_count": 14,
     "metadata": {},
     "output_type": "execute_result"
    }
   ],
   "source": [
    "edb.pyrope(1.8)"
   ]
  },
  {
   "cell_type": "code",
   "execution_count": 15,
   "metadata": {},
   "outputs": [
    {
     "data": {
      "text/plain": [
       "<class 'ElasticClass.ElasticProps'>\n",
       "\n",
       "Mineral Name: plagioclase_An37\n",
       "Reference Source: https://doi.org/10.1002/2015JB012736\n",
       "Crystal System: Triclinic\n",
       "Pressure (GPa): 0.0\n",
       "Temperature (°C): 25\n",
       "Density (g/cm3): 2.666\n",
       "\n",
       "Elastic Tensor (Cij) in GPa:\n",
       "[[ 96.2  46.1  38.4   5.9  -0.2  -0.4]\n",
       " [ 46.1 189.4  15.4  -7.   -5.1  -6.8]\n",
       " [ 38.4  15.4 171.9   2.2   7.2  -9.8]\n",
       " [  5.9  -7.    2.2  23.6  -1.1  -4.8]\n",
       " [ -0.2  -5.1   7.2  -1.1  33.1   1.4]\n",
       " [ -0.4  -6.8  -9.8  -4.8   1.4  35.5]]\n",
       "\n",
       "Calculated average properties:\n",
       "Bulk Modulus (GPa) → VRH, (Reuss, Voigt)\n",
       "70.920, (68.807, 73.033)\n",
       "\n",
       "Shear Modulus (GPa) → VRH, (Reuss, Voigt)\n",
       "37.910, (33.539, 42.280)\n",
       "\n",
       "Isotropic Poisson Ratio → VRH, (Reuss, Voigt)\n",
       "0.273, (0.290, 0.257))\n",
       "\n",
       "Pugh's ratio → VRH, (Reuss, Voigt)\n",
       "(1.871, (2.052, 1.727)\n",
       "\n",
       "Anisotropy indexes\n",
       "Universal Elastic Anisotropy: 1.364\n",
       "Kube's Anisotropy Index (proportional): 0.521\n",
       "\n",
       "Isotropic seismic properties → VRH, (Reuss, Voigt)\n",
       "Vp (km/s): 6.750, (6.526, 6.967)\n",
       "Vs (km/s): 3.771, (3.547, 3.982)\n",
       "Vp/Vs: 1.790, (1.840, 1.750)"
      ]
     },
     "execution_count": 15,
     "metadata": {},
     "output_type": "execute_result"
    }
   ],
   "source": [
    "edb.plagioclase('An37')"
   ]
  },
  {
   "cell_type": "code",
   "execution_count": 16,
   "metadata": {},
   "outputs": [
    {
     "data": {
      "text/plain": [
       "<class 'ElasticClass.ElasticProps'>\n",
       "\n",
       "Mineral Name: Pargasite\n",
       "Reference Source: https://doi.org/10.1016/j.pepi.2016.10.010\n",
       "Crystal System: Monoclinic\n",
       "Pressure (GPa): 0.0\n",
       "Temperature (°C): 25\n",
       "Density (g/cm3): 3.163\n",
       "\n",
       "Elastic Tensor (Cij) in GPa:\n",
       "[[141.6  57.1  49.6   0.   -0.2   0. ]\n",
       " [ 57.1 197.8  60.9   0.  -10.9   0. ]\n",
       " [ 49.6  60.9 225.4   0.  -31.4   0. ]\n",
       " [  0.    0.    0.   75.8   0.    3.3]\n",
       " [ -0.2 -10.9 -31.4   0.   49.9   0. ]\n",
       " [  0.    0.    0.    3.3   0.   51.7]]\n",
       "\n",
       "Calculated average properties:\n",
       "Bulk Modulus (GPa) → VRH, (Reuss, Voigt)\n",
       "96.768, (93.537, 100.000)\n",
       "\n",
       "Shear Modulus (GPa) → VRH, (Reuss, Voigt)\n",
       "59.536, (57.112, 61.960)\n",
       "\n",
       "Isotropic Poisson Ratio → VRH, (Reuss, Voigt)\n",
       "0.245, (0.246, 0.243))\n",
       "\n",
       "Pugh's ratio → VRH, (Reuss, Voigt)\n",
       "(1.625, (1.638, 1.614)\n",
       "\n",
       "Anisotropy indexes\n",
       "Universal Elastic Anisotropy: 0.493\n",
       "Kube's Anisotropy Index (proportional): 0.194\n",
       "\n",
       "Isotropic seismic properties → VRH, (Reuss, Voigt)\n",
       "Vp (km/s): 7.463, (7.324, 7.598)\n",
       "Vs (km/s): 4.338, (4.249, 4.426)\n",
       "Vp/Vs: 1.720, (1.724, 1.717)"
      ]
     },
     "execution_count": 16,
     "metadata": {},
     "output_type": "execute_result"
    }
   ],
   "source": [
    "edb.amphiboles('Pargasite')"
   ]
  },
  {
   "cell_type": "code",
   "execution_count": 17,
   "metadata": {},
   "outputs": [
    {
     "name": "stdout",
     "output_type": "stream",
     "text": [
      "\u001b[1;31mSignature:\u001b[0m \u001b[0medb\u001b[0m\u001b[1;33m.\u001b[0m\u001b[0mamphiboles\u001b[0m\u001b[1;33m(\u001b[0m\u001b[0mtype\u001b[0m\u001b[1;33m=\u001b[0m\u001b[1;34m'Hornblende'\u001b[0m\u001b[1;33m)\u001b[0m\u001b[1;33m\u001b[0m\u001b[1;33m\u001b[0m\u001b[0m\n",
      "\u001b[1;31mDocstring:\u001b[0m\n",
      "Returns the corresponding elastic tensor (GPa) and density\n",
      "(g/cm3) and other derived elastic properties of different\n",
      "types of Ca-Na amphibole based on experimental data of\n",
      "Brown and Abramson (2016) [1]\n",
      "\n",
      "Caveats\n",
      "-------\n",
      "    - The function does not account for temperature or\n",
      "    pressure effects and assumes room conditions\n",
      "\n",
      "Parameters\n",
      "----------\n",
      "type : str\n",
      "    the type of Ca-Na amphibole\n",
      "\n",
      "Returns\n",
      "-------\n",
      "properties : ElasticProps dataclass\n",
      "    An object containing the following properties:\n",
      "    - name: Name of the crystal.\n",
      "    - crystal_system: Crystal system.\n",
      "    - temperature: Temperature in degrees Celsius (assumed 25).\n",
      "    - pressure: Pressure in GPa.\n",
      "    - density: Density in g/cm3.\n",
      "    - cijs: 6x6 array representing the elastic tensor.\n",
      "    - reference: Reference to the source publication.\n",
      "    - Other average (seismic) properties\n",
      "\n",
      "Examples\n",
      "--------\n",
      ">>> amph = amphiboles(type='Pargasite')\n",
      "\n",
      "References\n",
      "----------\n",
      "[1] Brown, J.M., Abramson, E.H., 2016. Elasticity of calcium and\n",
      "calcium-sodium amphiboles. Physics of the Earth and Planetary Interiors\n",
      "261, 161–171. https://doi.org/10.1016/j.pepi.2016.10.010\n",
      "\u001b[1;31mFile:\u001b[0m      c:\\users\\marco\\documents\\github\\pyrockwave\\src\\elastic_database.py\n",
      "\u001b[1;31mType:\u001b[0m      function"
     ]
    }
   ],
   "source": [
    "edb.amphiboles?"
   ]
  },
  {
   "cell_type": "code",
   "execution_count": 18,
   "metadata": {},
   "outputs": [
    {
     "data": {
      "text/plain": [
       "<class 'ElasticClass.ElasticProps'>\n",
       "\n",
       "Mineral Name: Antigorite\n",
       "Reference Source: https://doi.org/10.1029/2022GL099411\n",
       "Crystal System: Monoclinic\n",
       "Pressure (GPa): 0.0\n",
       "Temperature (°C): 25\n",
       "Density (g/cm3): 2.615\n",
       "\n",
       "Elastic Tensor (Cij) in GPa:\n",
       "[[190.6  61.3  21.3   0.    2.9   0. ]\n",
       " [ 61.3 208.2  19.    0.   -1.2   0. ]\n",
       " [ 21.3  19.   85.4   0.    0.4   0. ]\n",
       " [  0.    0.    0.   13.5   0.   -3.2]\n",
       " [  2.9  -1.2   0.4   0.   20.    0. ]\n",
       " [  0.    0.    0.   -3.2   0.   67.5]]\n",
       "\n",
       "Calculated average properties:\n",
       "Bulk Modulus (GPa) → VRH, (Reuss, Voigt)\n",
       "68.741, (61.104, 76.378)\n",
       "\n",
       "Shear Modulus (GPa) → VRH, (Reuss, Voigt)\n",
       "37.055, (28.404, 45.707)\n",
       "\n",
       "Isotropic Poisson Ratio → VRH, (Reuss, Voigt)\n",
       "0.272, (0.299, 0.251))\n",
       "\n",
       "Pugh's ratio → VRH, (Reuss, Voigt)\n",
       "(1.855, (2.151, 1.671)\n",
       "\n",
       "Anisotropy indexes\n",
       "Universal Elastic Anisotropy: 3.296\n",
       "Kube's Anisotropy Index (proportional): 1.087\n",
       "\n",
       "Isotropic seismic properties → VRH, (Reuss, Voigt)\n",
       "Vp (km/s): 6.722, (6.152, 7.247)\n",
       "Vs (km/s): 3.764, (3.296, 4.181)\n",
       "Vp/Vs: 1.786, (1.867, 1.733)"
      ]
     },
     "execution_count": 18,
     "metadata": {},
     "output_type": "execute_result"
    }
   ],
   "source": [
    "edb.antigorite()"
   ]
  },
  {
   "cell_type": "code",
   "execution_count": 19,
   "metadata": {
    "tags": []
   },
   "outputs": [
    {
     "name": "stdout",
     "output_type": "stream",
     "text": [
      "Notebook tested in 2023-07-20 using:\n",
      "Python 3.10.12 | packaged by Anaconda, Inc. | (main, Jul  5 2023, 19:09:20) [MSC v.1916 64 bit (AMD64)]\n"
     ]
    }
   ],
   "source": [
    "import sys\n",
    "from datetime import date    \n",
    "today = date.today().isoformat()\n",
    "\n",
    "print(f'Notebook tested in {today} using:')\n",
    "print('Python', sys.version)"
   ]
  }
 ],
 "metadata": {
  "kernelspec": {
   "display_name": "Python 3 (ipykernel)",
   "language": "python",
   "name": "python3"
  },
  "language_info": {
   "codemirror_mode": {
    "name": "ipython",
    "version": 3
   },
   "file_extension": ".py",
   "mimetype": "text/x-python",
   "name": "python",
   "nbconvert_exporter": "python",
   "pygments_lexer": "ipython3",
   "version": "3.10.12"
  }
 },
 "nbformat": 4,
 "nbformat_minor": 4
}
