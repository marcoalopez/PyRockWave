{
 "cells": [
  {
   "cell_type": "code",
   "execution_count": 1,
   "metadata": {},
   "outputs": [],
   "source": [
    "import numpy as np\n",
    "import pressure_derivatives as pdev"
   ]
  },
  {
   "cell_type": "code",
   "execution_count": 2,
   "metadata": {},
   "outputs": [
    {
     "data": {
      "text/plain": [
       "92.355875"
      ]
     },
     "execution_count": 2,
     "metadata": {},
     "output_type": "execute_result"
    }
   ],
   "source": [
    "np.polyval([0.0275, 3.7960, 86.6], 1.5)"
   ]
  },
  {
   "cell_type": "code",
   "execution_count": 3,
   "metadata": {},
   "outputs": [
    {
     "data": {
      "text/plain": [
       "(2.648,\n",
       " array([[ 86.6 ,   6.74,  12.4 ,  17.8 ,   0.  ,   0.  ],\n",
       "        [  6.74,  86.6 ,  12.4 , -17.8 ,   0.  ,   0.  ],\n",
       "        [ 12.4 ,  12.4 , 106.4 ,   0.  ,   0.  ,   0.  ],\n",
       "        [ 17.8 , -17.8 ,   0.  ,  58.  ,   0.  ,   0.  ],\n",
       "        [  0.  ,   0.  ,   0.  ,   0.  ,  58.  ,  17.8 ],\n",
       "        [  0.  ,   0.  ,   0.  ,   0.  ,  17.8 ,  39.93]]))"
      ]
     },
     "execution_count": 3,
     "metadata": {},
     "output_type": "execute_result"
    }
   ],
   "source": [
    "pdev.alpha_quartz()"
   ]
  },
  {
   "cell_type": "code",
   "execution_count": 4,
   "metadata": {},
   "outputs": [
    {
     "data": {
      "text/plain": [
       "(2.744,\n",
       " array([[ 92.36,  16.93,  22.52,  12.04,   0.  ,   0.  ],\n",
       "        [ 16.93,  92.36,  22.52, -12.04,   0.  ,   0.  ],\n",
       "        [ 22.52,  22.52, 126.04,   0.  ,   0.  ,   0.  ],\n",
       "        [ 12.04, -12.04,   0.  ,  61.58,   0.  ,   0.  ],\n",
       "        [  0.  ,   0.  ,   0.  ,   0.  ,  61.58,  12.04],\n",
       "        [  0.  ,   0.  ,   0.  ,   0.  ,  12.04,  37.71]]))"
      ]
     },
     "execution_count": 4,
     "metadata": {},
     "output_type": "execute_result"
    }
   ],
   "source": [
    "pdev.alpha_quartz(1.5)"
   ]
  },
  {
   "cell_type": "code",
   "execution_count": 5,
   "metadata": {},
   "outputs": [
    {
     "data": {
      "text/plain": [
       "(2.807,\n",
       " array([[ 96.26,  23.31,  28.72,   8.75,   0.  ,   0.  ],\n",
       "        [ 23.31,  96.26,  28.72,  -8.75,   0.  ,   0.  ],\n",
       "        [ 28.72,  28.72, 138.52,   0.  ,   0.  ,   0.  ],\n",
       "        [  8.75,  -8.75,   0.  ,  63.08,   0.  ,   0.  ],\n",
       "        [  0.  ,   0.  ,   0.  ,   0.  ,  63.08,   8.75],\n",
       "        [  0.  ,   0.  ,   0.  ,   0.  ,   8.75,  36.48]]))"
      ]
     },
     "execution_count": 5,
     "metadata": {},
     "output_type": "execute_result"
    }
   ],
   "source": [
    "pdev.alpha_quartz(2.5)"
   ]
  },
  {
   "cell_type": "code",
   "execution_count": 6,
   "metadata": {},
   "outputs": [
    {
     "data": {
      "text/plain": [
       "2.807"
      ]
     },
     "execution_count": 6,
     "metadata": {},
     "output_type": "execute_result"
    }
   ],
   "source": [
    "density, _ = pdev.alpha_quartz(2.5)\n",
    "density"
   ]
  }
 ],
 "metadata": {
  "kernelspec": {
   "display_name": "main",
   "language": "python",
   "name": "python3"
  },
  "language_info": {
   "codemirror_mode": {
    "name": "ipython",
    "version": 3
   },
   "file_extension": ".py",
   "mimetype": "text/x-python",
   "name": "python",
   "nbconvert_exporter": "python",
   "pygments_lexer": "ipython3",
   "version": "3.10.11"
  },
  "orig_nbformat": 4
 },
 "nbformat": 4,
 "nbformat_minor": 2
}
