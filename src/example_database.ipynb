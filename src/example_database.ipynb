{
 "cells": [
  {
   "cell_type": "code",
   "execution_count": 23,
   "metadata": {},
   "outputs": [],
   "source": [
    "import matplotlib.pyplot as plt\n",
    "import numpy as np\n",
    "import pressure_derivatives as pdev\n",
    "from scipy.optimize import curve_fit"
   ]
  },
  {
   "cell_type": "code",
   "execution_count": 2,
   "metadata": {},
   "outputs": [
    {
     "data": {
      "text/plain": [
       "92.355875"
      ]
     },
     "execution_count": 2,
     "metadata": {},
     "output_type": "execute_result"
    }
   ],
   "source": [
    "np.polyval([0.0275, 3.7960, 86.6], 1.5)"
   ]
  },
  {
   "cell_type": "code",
   "execution_count": 3,
   "metadata": {},
   "outputs": [
    {
     "data": {
      "text/plain": [
       "(2.648,\n",
       " array([[ 86.6 ,   6.74,  12.4 ,  17.8 ,   0.  ,   0.  ],\n",
       "        [  6.74,  86.6 ,  12.4 , -17.8 ,   0.  ,   0.  ],\n",
       "        [ 12.4 ,  12.4 , 106.4 ,   0.  ,   0.  ,   0.  ],\n",
       "        [ 17.8 , -17.8 ,   0.  ,  58.  ,   0.  ,   0.  ],\n",
       "        [  0.  ,   0.  ,   0.  ,   0.  ,  58.  ,  17.8 ],\n",
       "        [  0.  ,   0.  ,   0.  ,   0.  ,  17.8 ,  39.93]]))"
      ]
     },
     "execution_count": 3,
     "metadata": {},
     "output_type": "execute_result"
    }
   ],
   "source": [
    "pdev.alpha_quartz()"
   ]
  },
  {
   "cell_type": "code",
   "execution_count": 4,
   "metadata": {},
   "outputs": [
    {
     "data": {
      "text/plain": [
       "(2.744,\n",
       " array([[ 92.36,  16.93,  22.52,  12.04,   0.  ,   0.  ],\n",
       "        [ 16.93,  92.36,  22.52, -12.04,   0.  ,   0.  ],\n",
       "        [ 22.52,  22.52, 126.04,   0.  ,   0.  ,   0.  ],\n",
       "        [ 12.04, -12.04,   0.  ,  61.58,   0.  ,   0.  ],\n",
       "        [  0.  ,   0.  ,   0.  ,   0.  ,  61.58,  12.04],\n",
       "        [  0.  ,   0.  ,   0.  ,   0.  ,  12.04,  37.71]]))"
      ]
     },
     "execution_count": 4,
     "metadata": {},
     "output_type": "execute_result"
    }
   ],
   "source": [
    "pdev.alpha_quartz(1.5)"
   ]
  },
  {
   "cell_type": "code",
   "execution_count": 5,
   "metadata": {},
   "outputs": [
    {
     "data": {
      "text/plain": [
       "(2.807,\n",
       " array([[ 96.26,  23.31,  28.72,   8.75,   0.  ,   0.  ],\n",
       "        [ 23.31,  96.26,  28.72,  -8.75,   0.  ,   0.  ],\n",
       "        [ 28.72,  28.72, 138.52,   0.  ,   0.  ,   0.  ],\n",
       "        [  8.75,  -8.75,   0.  ,  63.08,   0.  ,   0.  ],\n",
       "        [  0.  ,   0.  ,   0.  ,   0.  ,  63.08,   8.75],\n",
       "        [  0.  ,   0.  ,   0.  ,   0.  ,   8.75,  36.48]]))"
      ]
     },
     "execution_count": 5,
     "metadata": {},
     "output_type": "execute_result"
    }
   ],
   "source": [
    "pdev.alpha_quartz(2.5)"
   ]
  },
  {
   "cell_type": "code",
   "execution_count": 6,
   "metadata": {},
   "outputs": [
    {
     "data": {
      "text/plain": [
       "2.807"
      ]
     },
     "execution_count": 6,
     "metadata": {},
     "output_type": "execute_result"
    }
   ],
   "source": [
    "density, _ = pdev.alpha_quartz(2.5)\n",
    "density"
   ]
  },
  {
   "cell_type": "code",
   "execution_count": 7,
   "metadata": {},
   "outputs": [],
   "source": [
    "temperatures = np.array([300,300,300,300,300,300,300,300,300,500,500,500,500,500,750,750,750,750,750,900,900,900,900])\n",
    "pressures = np.array([0,3.1,5.3,7.8,9.9,12,14,16.6,19.2,2.7,6.8,8.6,10.9,14.1,4,5.5,9,10.4,12.5,4.5,8.4,10.1,13.3])\n",
    "\n",
    "c11 = np.array([320.2,343,358,376.4,387.8,403,418,434.4,449,332,361,371,385,402,333,344,368,373,384,330,356,364,381])\n",
    "c22 = np.array([196.5,213,225,236.7,250,259.1,267.7,279.9,284,204,226,238,250,263,205,214,233,237,245,203,223,231,247])\n",
    "c33 = np.array([232.3,251,263,273,282.7,293.1,301.9,310.8,326.3,240,260,271,281,290,238,248,267,272,278,236,258,263,279])\n",
    "\n",
    "c44 = np.array([63.2,69,73,75.9,79.5,81,83.5,85.9,87.9,66.1,73.1,76.3,79,81.1,66.1,68.3,74.3,75.6,77.4,65.3,71.4,73.4,76.7])\n",
    "c55 = np.array([76.6,82,85,88.2,90,91.5,92,92.9,93.1,79.4,85,87,88.6,90.6,78.9,80.9,85.8,86.3,88.3,78.2,82.6,84.7,86.7])\n",
    "c66 = np.array([79.7,87.1,91.2,95.4,97.7,99.2,101.5,104.1,106.4,82,90,93,96,98,80,83,89,92,93,78,84,87,92])\n",
    "\n",
    "c12 = np.array([71,83,92,101,109,117,124,134,137,77,93,100,109,120,78,84,99,103,105,73,91,97,100])\n",
    "c13 = np.array([71,82,91,102,108,115,123,132,143,79,94,100,108,117,80,87,99,103,106,79,93,97,104])\n",
    "c23 = np.array([76,87,95,104,110,119,123,134,141,82,95,103,109,119,84,88,101,104,112,84,96,99,112])"
   ]
  },
  {
   "cell_type": "code",
   "execution_count": 8,
   "metadata": {},
   "outputs": [
    {
     "name": "stdout",
     "output_type": "stream",
     "text": [
      "Qt5Agg\n"
     ]
    }
   ],
   "source": [
    "%matplotlib qt\n",
    "print(plt.get_backend())"
   ]
  },
  {
   "cell_type": "code",
   "execution_count": 27,
   "metadata": {},
   "outputs": [
    {
     "data": {
      "text/plain": [
       "(Text(0.5, 0, 'T (K)'), Text(0.5, 0.5, 'P (GPa)'), Text(0.5, 0, 'Cijs'))"
      ]
     },
     "execution_count": 27,
     "metadata": {},
     "output_type": "execute_result"
    },
    {
     "name": "stderr",
     "output_type": "stream",
     "text": [
      "c:\\Users\\Marco\\miniconda3\\envs\\main\\lib\\site-packages\\ipykernel\\eventloops.py:113: UserWarning: This figure was using a layout engine that is incompatible with subplots_adjust and/or tight_layout; not calling subplots_adjust.\n",
      "  app.exec_()\n"
     ]
    }
   ],
   "source": [
    "# make figure\n",
    "fig, ax = plt.subplots(subplot_kw={\"projection\": \"3d\"}, constrained_layout=True)\n",
    "\n",
    "ax.plot_trisurf(temperatures, pressures, c11, alpha=0.6, linewidth=0.2, antialiased=True, label='C11')\n",
    "ax.plot_trisurf(temperatures, pressures, c22, alpha=0.6, linewidth=0.2, antialiased=True, label='C22')\n",
    "ax.plot_trisurf(temperatures, pressures, c33, alpha=0.6, linewidth=0.2, antialiased=True, label='C33')\n",
    "\n",
    "ax.set_xlabel(r'T (K)'), ax.set_ylabel(r'P (GPa)'), ax.set_zlabel(r'Cijs')\n",
    "#ax.legend()"
   ]
  },
  {
   "cell_type": "code",
   "execution_count": 10,
   "metadata": {},
   "outputs": [],
   "source": [
    "# make figure\n",
    "fig, ax = plt.subplots(subplot_kw={\"projection\": \"3d\"}, constrained_layout=True)\n",
    "\n",
    "ax.plot_trisurf(temperatures, pressures, c44, alpha=0.6, linewidth=0.2, antialiased=True, label='C44')\n",
    "ax.plot_trisurf(temperatures, pressures, c55, alpha=0.6, linewidth=0.2, antialiased=True, label='C55')\n",
    "ax.plot_trisurf(temperatures, pressures, c66, alpha=0.6, linewidth=0.2, antialiased=True, label='C66')\n",
    "\n",
    "_ = ax.set_xlabel(r'T (K)'), ax.set_ylabel(r'P (GPa)'), ax.set_zlabel(r'Cijs')"
   ]
  },
  {
   "cell_type": "code",
   "execution_count": 21,
   "metadata": {},
   "outputs": [],
   "source": [
    "# make figure\n",
    "fig, ax = plt.subplots(subplot_kw={\"projection\": \"3d\"}, constrained_layout=True)\n",
    "\n",
    "ax.scatter(temperatures, pressures, c12, antialiased=True, label='C12')\n",
    "ax.scatter(temperatures, pressures, c13, antialiased=True, label='C13')\n",
    "ax.scatter(temperatures, pressures, c23, antialiased=True, label='C23')\n",
    "ax.plot_trisurf(temperatures, pressures, c12, alpha=0.5, linewidth=0.2, antialiased=True, label='C12')\n",
    "ax.plot_trisurf(temperatures, pressures, c13, alpha=0.5, linewidth=0.2, antialiased=True, label='C13')\n",
    "ax.plot_trisurf(temperatures, pressures, c23, alpha=0.5, linewidth=0.2, antialiased=True, label='C23')\n",
    "\n",
    "_ = ax.set_xlabel(r'T (K)'), ax.set_ylabel(r'P (GPa)'), ax.set_zlabel(r'Cijs')"
   ]
  },
  {
   "cell_type": "code",
   "execution_count": 22,
   "metadata": {},
   "outputs": [
    {
     "data": {
      "text/plain": [
       "<mpl_toolkits.mplot3d.art3d.Path3DCollection at 0x156d7529ba0>"
      ]
     },
     "execution_count": 22,
     "metadata": {},
     "output_type": "execute_result"
    },
    {
     "name": "stderr",
     "output_type": "stream",
     "text": [
      "c:\\Users\\Marco\\miniconda3\\envs\\main\\lib\\site-packages\\ipykernel\\eventloops.py:113: UserWarning: This figure was using a layout engine that is incompatible with subplots_adjust and/or tight_layout; not calling subplots_adjust.\n",
      "  app.exec_()\n",
      "c:\\Users\\Marco\\miniconda3\\envs\\main\\lib\\site-packages\\ipykernel\\eventloops.py:113: UserWarning: The figure layout has changed to tight\n",
      "  app.exec_()\n"
     ]
    }
   ],
   "source": [
    "fig, ax = plt.subplots(subplot_kw={\"projection\": \"3d\"}, constrained_layout=True)\n",
    "\n",
    "ax.scatter(temperatures, pressures, c12, antialiased=True, label='C12')\n",
    "ax.scatter(temperatures, pressures, c13, antialiased=True, label='C13')\n",
    "ax.scatter(temperatures, pressures, c23, antialiased=True, label='C23')"
   ]
  },
  {
   "attachments": {},
   "cell_type": "markdown",
   "metadata": {},
   "source": [
    "polynomial 3d surface model (poly21)\n",
    "$$\n",
    "z = a_0 + a_1x + a_2y + a_3xy + a_4x^2 \n",
    "$$\n",
    "\n",
    "polynomial 3d surface model 2 (poly13)\n",
    "$$\n",
    "z = a_0 + a_1x + a_2y + a_3xy + a_4y^2 + a_5xy^2 + a_6y^3\n",
    "$$"
   ]
  },
  {
   "cell_type": "code",
   "execution_count": 31,
   "metadata": {},
   "outputs": [],
   "source": [
    "def model1(tupla, a0, a1, a2, a3, a4):\n",
    "    x, y = tupla\n",
    "    return a0 + a1*x + a2*y + a3*x*y + a4*x**2\n",
    "\n",
    "def model2(tupla, a0, a1, a2, a3, a4, a5, a6):\n",
    "    x, y = tupla\n",
    "    return a0 + a1*x + a2*y + a3*x*y + a4*y**2 + a5*x*y**2 + a6*y**3\n",
    "\n",
    "popt, pcov = curve_fit(model1, xdata=(temperatures, pressures), ydata=c11)\n",
    "popt2, pcov2 = curve_fit(model2, xdata=(temperatures, pressures), ydata=c11)"
   ]
  },
  {
   "cell_type": "code",
   "execution_count": 32,
   "metadata": {},
   "outputs": [
    {
     "data": {
      "text/plain": [
       "array([ 3.31796966e+02, -3.52499587e-02,  7.23782166e+00, -1.75027244e-03,\n",
       "        8.59461259e-06])"
      ]
     },
     "execution_count": 32,
     "metadata": {},
     "output_type": "execute_result"
    }
   ],
   "source": [
    "popt"
   ]
  },
  {
   "cell_type": "code",
   "execution_count": 33,
   "metadata": {},
   "outputs": [
    {
     "data": {
      "text/plain": [
       "array([[ 1.60957810e+01, -5.39601426e-02, -4.25913103e-01,\n",
       "         7.39539874e-04,  3.91138892e-05],\n",
       "       [-5.39601426e-02,  2.02498347e-04,  8.15136005e-04,\n",
       "        -1.60334260e-06, -1.59185582e-07],\n",
       "       [-4.25913103e-01,  8.15136005e-04,  4.46288401e-02,\n",
       "        -8.55054202e-05, -2.49208369e-08],\n",
       "       [ 7.39539874e-04, -1.60334260e-06, -8.55054202e-05,\n",
       "         2.00821185e-07, -1.80235632e-10],\n",
       "       [ 3.91138892e-05, -1.59185582e-07, -2.49208369e-08,\n",
       "        -1.80235632e-10,  1.38487812e-10]])"
      ]
     },
     "execution_count": 33,
     "metadata": {},
     "output_type": "execute_result"
    }
   ],
   "source": [
    "pcov"
   ]
  },
  {
   "cell_type": "code",
   "execution_count": 36,
   "metadata": {},
   "outputs": [],
   "source": [
    "# make data\n",
    "ts = np.linspace(300, 900)\n",
    "ps = np.linspace(0, 20)\n",
    "Ts, Ps = np.meshgrid(ts, ps)\n",
    "Zs = model1((Ts, Ps), popt[0], popt[1], popt[2], popt[3], popt[4])"
   ]
  },
  {
   "cell_type": "code",
   "execution_count": 37,
   "metadata": {},
   "outputs": [
    {
     "data": {
      "text/plain": [
       "<mpl_toolkits.mplot3d.art3d.Poly3DCollection at 0x156db0363e0>"
      ]
     },
     "execution_count": 37,
     "metadata": {},
     "output_type": "execute_result"
    }
   ],
   "source": [
    "# make figure\n",
    "fig, ax = plt.subplots(subplot_kw={\"projection\": \"3d\"}, constrained_layout=True)\n",
    "\n",
    "ax.scatter(temperatures, pressures, c11, antialiased=True, label='C11')\n",
    "ax.plot_surface(Ts, Ps, Zs, alpha=0.6, rstride=1, cstride=1)"
   ]
  },
  {
   "cell_type": "code",
   "execution_count": 38,
   "metadata": {},
   "outputs": [
    {
     "data": {
      "text/plain": [
       "<mpl_toolkits.mplot3d.art3d.Poly3DCollection at 0x156db147220>"
      ]
     },
     "execution_count": 38,
     "metadata": {},
     "output_type": "execute_result"
    }
   ],
   "source": [
    "Zs = model2((Ts, Ps), popt2[0], popt2[1], popt2[2], popt2[3], popt2[4], popt2[5], popt2[6])\n",
    "\n",
    "# make figure\n",
    "fig, ax = plt.subplots(subplot_kw={\"projection\": \"3d\"}, constrained_layout=True)\n",
    "\n",
    "ax.scatter(temperatures, pressures, c11, antialiased=True, label='C11')\n",
    "ax.plot_surface(Ts, Ps, Zs, alpha=0.6, rstride=1, cstride=1)"
   ]
  },
  {
   "cell_type": "code",
   "execution_count": 50,
   "metadata": {},
   "outputs": [
    {
     "name": "stdout",
     "output_type": "stream",
     "text": [
      "Polynomial model poly13\n",
      "Coefficients (2-std):\n",
      "a0 = 334.1440, 6.1681\n",
      "a1 = -0.0456, 0.0157\n",
      "a2 = 6.2656, 1.8802\n",
      "a3 = 0.0035, 0.0038\n",
      "a4 = 0.0421, 0.1873\n",
      "a5 = -0.0003, 0.0002\n",
      "a6 = 0.0010, 0.0056\n"
     ]
    }
   ],
   "source": [
    "sigma2 = 2 * np.sqrt(np.diag(pcov2))\n",
    "\n",
    "print(\"Polynomial model poly13\")\n",
    "print(\"Coefficients (2-std):\")\n",
    "for index, item in enumerate(popt2):\n",
    "        print(f\"a{index} = {item:.4f}, {sigma2[index]:.4f}\")"
   ]
  }
 ],
 "metadata": {
  "kernelspec": {
   "display_name": "main",
   "language": "python",
   "name": "python3"
  },
  "language_info": {
   "codemirror_mode": {
    "name": "ipython",
    "version": 3
   },
   "file_extension": ".py",
   "mimetype": "text/x-python",
   "name": "python",
   "nbconvert_exporter": "python",
   "pygments_lexer": "ipython3",
   "version": "3.10.11"
  },
  "orig_nbformat": 4
 },
 "nbformat": 4,
 "nbformat_minor": 2
}
