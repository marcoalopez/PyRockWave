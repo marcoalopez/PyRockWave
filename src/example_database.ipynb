{
 "cells": [
  {
   "cell_type": "markdown",
   "metadata": {},
   "source": [
    "# Using the PyRockWave tool and the elastic mineral database\n",
    "\n",
    "One of the features of PyRockWave is that it includes access to a (still incomplete) database of elastic properties of common minerals. This database is not a passive collection of data, but a file of functions written in Python that return the elastic properties of minerals under certain conditions. Although the development of this database is somewhat independent of the PyRockWave tool, it is intended that the various versions of PyRockWave will include the latest version of the database at the time of release. The idea is to provide an up-to-date, well-documented database of elastic properties with rigorous tracking of changes (key to reproducibility).\n",
    "\n",
    "In this Jupyter notebook, we will show you how to access and use the elastic mineral database through the PyRockWave tool. The steps are as follows:"
   ]
  },
  {
   "cell_type": "code",
   "execution_count": 1,
   "metadata": {},
   "outputs": [
    {
     "name": "stdout",
     "output_type": "stream",
     "text": [
      "Mineral Elastic Database v.2025.2.11 imported\n"
     ]
    }
   ],
   "source": [
    "# import some some Python scientific libraries \n",
    "import numpy as np\n",
    "import pandas as pd\n",
    "np.set_printoptions(suppress=True)\n",
    "\n",
    "# import the database\n",
    "import elastic_database as db"
   ]
  },
  {
   "cell_type": "markdown",
   "metadata": {},
   "source": [
    "If you then type ``db.`` and press the TAB key, you will get a menu with all the options available in the database. For example, let's extract the properties of alpha quartz at a pressure of 1.8 GPa."
   ]
  },
  {
   "cell_type": "code",
   "execution_count": 2,
   "metadata": {},
   "outputs": [
    {
     "data": {
      "text/plain": [
       "<class 'ElasticClass.ElasticProps'>\n",
       "\n",
       "Mineral Name: Alpha_quartz\n",
       "Reference Source: https://doi.org/10.1007/s00269-014-0711-z\n",
       "Crystal System: Trigonal\n",
       "Pressure (GPa): 1.8\n",
       "Temperature (°C): 25\n",
       "Density (g/cm3): 2.763\n",
       "\n",
       "Elastic Tensor (Cij) in GPa:\n",
       "[[ 93.52  18.88  24.43  11.     0.     0.  ]\n",
       " [ 18.88  93.52  24.43 -11.     0.     0.  ]\n",
       " [ 24.43  24.43 129.83   0.     0.     0.  ]\n",
       " [ 11.   -11.     0.    62.1    0.     0.  ]\n",
       " [  0.     0.     0.     0.    62.1   11.  ]\n",
       " [  0.     0.     0.     0.    11.    37.32]]\n",
       "\n",
       "Tensor decomposition (Browaeys & Chevrot approach):\n",
       "    Isotropy = 72.4 %\n",
       "    Anisotropy = 27.6 %\n",
       "\n",
       "Anisotropy indexes:\n",
       "    Universal Elastic Anisotropy:           0.558\n",
       "    Kube's Anisotropy Index (proportional): 0.227\n",
       "\n",
       "Calculated elastic average properties:\n",
       "Unit:GPa  Bulk_modulus  Shear_modulus  Poisson_ratio\n",
       "   Voigt        50.261         48.913          0.133\n",
       "    Hill        49.551         46.575          0.142\n",
       "   Reuss        48.842         44.236          0.152\n",
       "\n",
       "Isotropic seismic properties:\n",
       "Unit:km/s    Vp    Vs  Vp/vs\n",
       "    Voigt 6.465 4.207  1.536\n",
       "     Hill 6.357 4.106  1.548\n",
       "    Reuss 6.247 4.001  1.561"
      ]
     },
     "execution_count": 2,
     "metadata": {},
     "output_type": "execute_result"
    }
   ],
   "source": [
    "db.alpha_quartz(P=1.8)"
   ]
  },
  {
   "cell_type": "markdown",
   "metadata": {},
   "source": [
    "As you can see, the command returns a summary of the different properties of alpha quartz at 1.8 GPa pressure, including some average elastic properties, isotropic seismic properties, and several anisotropy measures. If you want to access the function's own documentation you can use the ``help()`` or ``?`` command."
   ]
  },
  {
   "cell_type": "code",
   "execution_count": 3,
   "metadata": {},
   "outputs": [
    {
     "name": "stdout",
     "output_type": "stream",
     "text": [
      "\u001b[1;31mSignature:\u001b[0m \u001b[0mdb\u001b[0m\u001b[1;33m.\u001b[0m\u001b[0malpha_quartz\u001b[0m\u001b[1;33m(\u001b[0m\u001b[0mP\u001b[0m\u001b[1;33m=\u001b[0m\u001b[1;36m1e-05\u001b[0m\u001b[1;33m)\u001b[0m\u001b[1;33m\u001b[0m\u001b[1;33m\u001b[0m\u001b[0m\n",
      "\u001b[1;31mDocstring:\u001b[0m\n",
      "Returns the corresponding elastic tensor (GPa) and density\n",
      "(g/cm3) and other derived elastic properties of alpha quartz\n",
      "as a function of pressure based on a polynomial fit from\n",
      "experimental data of Wang et al. (2015) [1]\n",
      "\n",
      "Caveats\n",
      "-------\n",
      "    - C44 elastic term is worse constrained than the others.\n",
      "    The fitting has an R-squared value of 0.96\n",
      "    - The function does not account for temperature effects.\n",
      "    Room temperature is assumed.\n",
      "\n",
      "Parameters\n",
      "----------\n",
      "P : numeric, optional\n",
      "    Pressure in GPa. Default value is 1e-5 GPa (RT).\n",
      "\n",
      "Returns\n",
      "-------\n",
      "properties : ElasticProps dataclass\n",
      "    An object containing the following properties:\n",
      "    - name: Name of the crystal ('alpha_quartz').\n",
      "    - crystal_system: Crystal system.\n",
      "    - temperature: Temperature in degrees Celsius (assumed 25).\n",
      "    - pressure: Pressure in GPa.\n",
      "    - density: Density in g/cm3.\n",
      "    - cijs: 6x6 array representing the elastic tensor.\n",
      "    - sijs: 6x6 array representing the compliance tensor\n",
      "    - reference: Reference to the source publication.\n",
      "    - decompose: the decomposition of the elastic tensor\n",
      "        into lower symmetriy classes\n",
      "    - Other average (seismic & elastic) properties\n",
      "    - Several anisotropy indexes\n",
      "\n",
      "Examples\n",
      "--------\n",
      ">>> quartz_props = alpha_quartz(1.0)\n",
      "\n",
      "References\n",
      "----------\n",
      "[1] Wang, J., Mao, Z., Jiang, F., Duffy, T.S., 2015. Elasticity of\n",
      "single-crystal quartz to 10 GPa. Phys Chem Minerals 42, 203–212.\n",
      "https://doi.org/10.1007/s00269-014-0711-z\n",
      "\u001b[1;31mFile:\u001b[0m      c:\\users\\marco\\documents\\github\\pyrockwave\\src\\elastic_database.py\n",
      "\u001b[1;31mType:\u001b[0m      function"
     ]
    }
   ],
   "source": [
    "# alternatively you can use help(db.alpha_quartz) or db.alpha_quartz??\n",
    "db.alpha_quartz?"
   ]
  },
  {
   "cell_type": "markdown",
   "metadata": {},
   "source": [
    "You can store this information in a variable and access the different properties individually. For example:"
   ]
  },
  {
   "cell_type": "code",
   "execution_count": 4,
   "metadata": {},
   "outputs": [
    {
     "data": {
      "text/plain": [
       "array([[ 93.52,  18.88,  24.43,  11.  ,   0.  ,   0.  ],\n",
       "       [ 18.88,  93.52,  24.43, -11.  ,   0.  ,   0.  ],\n",
       "       [ 24.43,  24.43, 129.83,   0.  ,   0.  ,   0.  ],\n",
       "       [ 11.  , -11.  ,   0.  ,  62.1 ,   0.  ,   0.  ],\n",
       "       [  0.  ,   0.  ,   0.  ,   0.  ,  62.1 ,  11.  ],\n",
       "       [  0.  ,   0.  ,   0.  ,   0.  ,  11.  ,  37.32]])"
      ]
     },
     "execution_count": 4,
     "metadata": {},
     "output_type": "execute_result"
    }
   ],
   "source": [
    "quartz = db.alpha_quartz(1.8)\n",
    "\n",
    "# show the elastic (stiffness) tensor\n",
    "quartz.Cij"
   ]
  },
  {
   "cell_type": "code",
   "execution_count": 5,
   "metadata": {},
   "outputs": [
    {
     "name": "stdout",
     "output_type": "stream",
     "text": [
      "density = 2.763\n",
      "Shear modulus (Hill average) = 46.57\n",
      "Pugh ratio (Hill) = 1.06\n"
     ]
    }
   ],
   "source": [
    "# print some properties\n",
    "print(f'density = {quartz.density}')\n",
    "print(f'Shear modulus (Hill average) = {quartz.G_hill:.2f}')\n",
    "print(f'Pugh ratio (Hill) = {quartz.K_hill / quartz.G_hill:.2f}')"
   ]
  },
  {
   "cell_type": "code",
   "execution_count": 6,
   "metadata": {},
   "outputs": [
    {
     "data": {
      "text/html": [
       "<div>\n",
       "<style scoped>\n",
       "    .dataframe tbody tr th:only-of-type {\n",
       "        vertical-align: middle;\n",
       "    }\n",
       "\n",
       "    .dataframe tbody tr th {\n",
       "        vertical-align: top;\n",
       "    }\n",
       "\n",
       "    .dataframe thead th {\n",
       "        text-align: right;\n",
       "    }\n",
       "</style>\n",
       "<table border=\"1\" class=\"dataframe\">\n",
       "  <thead>\n",
       "    <tr style=\"text-align: right;\">\n",
       "      <th></th>\n",
       "      <th>Unit:km/s</th>\n",
       "      <th>Vp</th>\n",
       "      <th>Vs</th>\n",
       "      <th>Vp/vs</th>\n",
       "    </tr>\n",
       "  </thead>\n",
       "  <tbody>\n",
       "    <tr>\n",
       "      <th>0</th>\n",
       "      <td>Voigt</td>\n",
       "      <td>6.464861</td>\n",
       "      <td>4.207462</td>\n",
       "      <td>1.5365</td>\n",
       "    </tr>\n",
       "    <tr>\n",
       "      <th>1</th>\n",
       "      <td>Hill</td>\n",
       "      <td>6.356828</td>\n",
       "      <td>4.105668</td>\n",
       "      <td>1.5483</td>\n",
       "    </tr>\n",
       "    <tr>\n",
       "      <th>2</th>\n",
       "      <td>Reuss</td>\n",
       "      <td>6.246927</td>\n",
       "      <td>4.001284</td>\n",
       "      <td>1.5612</td>\n",
       "    </tr>\n",
       "  </tbody>\n",
       "</table>\n",
       "</div>"
      ],
      "text/plain": [
       "  Unit:km/s        Vp        Vs   Vp/vs\n",
       "0     Voigt  6.464861  4.207462  1.5365\n",
       "1      Hill  6.356828  4.105668  1.5483\n",
       "2     Reuss  6.246927  4.001284  1.5612"
      ]
     },
     "execution_count": 6,
     "metadata": {},
     "output_type": "execute_result"
    }
   ],
   "source": [
    "# summarize isotropic seismic properties\n",
    "quartz.wavespeeds"
   ]
  },
  {
   "cell_type": "code",
   "execution_count": 7,
   "metadata": {},
   "outputs": [
    {
     "data": {
      "text/html": [
       "<div>\n",
       "<style scoped>\n",
       "    .dataframe tbody tr th:only-of-type {\n",
       "        vertical-align: middle;\n",
       "    }\n",
       "\n",
       "    .dataframe tbody tr th {\n",
       "        vertical-align: top;\n",
       "    }\n",
       "\n",
       "    .dataframe thead th {\n",
       "        text-align: right;\n",
       "    }\n",
       "</style>\n",
       "<table border=\"1\" class=\"dataframe\">\n",
       "  <thead>\n",
       "    <tr style=\"text-align: right;\">\n",
       "      <th></th>\n",
       "      <th>Unit:GPa</th>\n",
       "      <th>Bulk_modulus</th>\n",
       "      <th>Shear_modulus</th>\n",
       "      <th>Poisson_ratio</th>\n",
       "    </tr>\n",
       "  </thead>\n",
       "  <tbody>\n",
       "    <tr>\n",
       "      <th>0</th>\n",
       "      <td>Voigt</td>\n",
       "      <td>50.261111</td>\n",
       "      <td>48.912667</td>\n",
       "      <td>0.132597</td>\n",
       "    </tr>\n",
       "    <tr>\n",
       "      <th>1</th>\n",
       "      <td>Hill</td>\n",
       "      <td>49.551424</td>\n",
       "      <td>46.574528</td>\n",
       "      <td>0.142154</td>\n",
       "    </tr>\n",
       "    <tr>\n",
       "      <th>2</th>\n",
       "      <td>Reuss</td>\n",
       "      <td>48.841737</td>\n",
       "      <td>44.236389</td>\n",
       "      <td>0.152160</td>\n",
       "    </tr>\n",
       "  </tbody>\n",
       "</table>\n",
       "</div>"
      ],
      "text/plain": [
       "  Unit:GPa  Bulk_modulus  Shear_modulus  Poisson_ratio\n",
       "0    Voigt     50.261111      48.912667       0.132597\n",
       "1     Hill     49.551424      46.574528       0.142154\n",
       "2    Reuss     48.841737      44.236389       0.152160"
      ]
     },
     "execution_count": 7,
     "metadata": {},
     "output_type": "execute_result"
    }
   ],
   "source": [
    "# summarize average elastic properties\n",
    "quartz.elastic"
   ]
  },
  {
   "cell_type": "markdown",
   "metadata": {},
   "source": [
    "> **Hint**. You can save this information as text files using the method ``to_csv()``, for example: ``quartz.wavespeeds.to_csv(\"filename.csv\")``"
   ]
  },
  {
   "cell_type": "code",
   "execution_count": 8,
   "metadata": {},
   "outputs": [
    {
     "data": {
      "text/plain": [
       "{'isotropic': array([[115.48,  17.65,  17.65,   0.  ,   0.  ,   0.  ],\n",
       "        [ 17.65, 115.48,  17.65,   0.  ,   0.  ,   0.  ],\n",
       "        [ 17.65,  17.65, 115.48,   0.  ,   0.  ,   0.  ],\n",
       "        [  0.  ,   0.  ,   0.  ,  48.91,   0.  ,   0.  ],\n",
       "        [  0.  ,   0.  ,   0.  ,   0.  ,  48.91,   0.  ],\n",
       "        [  0.  ,   0.  ,   0.  ,   0.  ,   0.  ,  48.91]]),\n",
       " 'hexagonal': array([[-21.96,   1.23,   6.78,   0.  ,   0.  ,   0.  ],\n",
       "        [  1.23, -21.96,   6.78,   0.  ,   0.  ,   0.  ],\n",
       "        [  6.78,   6.78,  14.35,   0.  ,   0.  ,   0.  ],\n",
       "        [  0.  ,   0.  ,   0.  ,  13.19,   0.  ,   0.  ],\n",
       "        [  0.  ,   0.  ,   0.  ,   0.  ,  13.19,   0.  ],\n",
       "        [  0.  ,   0.  ,   0.  ,   0.  ,   0.  , -11.59]]),\n",
       " 'tetragonal': array([[-0.,  0.,  0.,  0.,  0.,  0.],\n",
       "        [ 0., -0.,  0.,  0.,  0.,  0.],\n",
       "        [ 0.,  0.,  0.,  0.,  0.,  0.],\n",
       "        [ 0.,  0.,  0.,  0.,  0.,  0.],\n",
       "        [ 0.,  0.,  0.,  0.,  0.,  0.],\n",
       "        [ 0.,  0.,  0.,  0.,  0.,  0.]]),\n",
       " 'orthorhombic': array([[-0.,  0.,  0.,  0.,  0.,  0.],\n",
       "        [ 0., -0.,  0.,  0.,  0.,  0.],\n",
       "        [ 0.,  0.,  0.,  0.,  0.,  0.],\n",
       "        [ 0.,  0.,  0.,  0.,  0.,  0.],\n",
       "        [ 0.,  0.,  0.,  0.,  0.,  0.],\n",
       "        [ 0.,  0.,  0.,  0.,  0.,  0.]]),\n",
       " 'monoclinic': array([[-0.,  0.,  0.,  0.,  0.,  0.],\n",
       "        [ 0., -0.,  0.,  0.,  0.,  0.],\n",
       "        [ 0.,  0.,  0.,  0.,  0.,  0.],\n",
       "        [ 0.,  0.,  0.,  0.,  0.,  0.],\n",
       "        [ 0.,  0.,  0.,  0.,  0.,  0.],\n",
       "        [ 0.,  0.,  0.,  0.,  0.,  0.]]),\n",
       " 'others': array([[ -0.,   0.,   0.,  11.,   0.,   0.],\n",
       "        [  0.,  -0.,   0., -11.,   0.,   0.],\n",
       "        [  0.,   0.,   0.,   0.,   0.,   0.],\n",
       "        [ 11., -11.,   0.,   0.,   0.,   0.],\n",
       "        [  0.,   0.,   0.,   0.,   0.,  11.],\n",
       "        [  0.,   0.,   0.,   0.,  11.,   0.]])}"
      ]
     },
     "execution_count": 8,
     "metadata": {},
     "output_type": "execute_result"
    }
   ],
   "source": [
    "# decompose the elastic tensor into lower symmetry classes according to Browaeys and Chevrot (2004) method\n",
    "quartz.decompose"
   ]
  },
  {
   "cell_type": "code",
   "execution_count": 9,
   "metadata": {},
   "outputs": [
    {
     "data": {
      "text/plain": [
       "array([[115.48,  17.65,  17.65,   0.  ,   0.  ,   0.  ],\n",
       "       [ 17.65, 115.48,  17.65,   0.  ,   0.  ,   0.  ],\n",
       "       [ 17.65,  17.65, 115.48,   0.  ,   0.  ,   0.  ],\n",
       "       [  0.  ,   0.  ,   0.  ,  48.91,   0.  ,   0.  ],\n",
       "       [  0.  ,   0.  ,   0.  ,   0.  ,  48.91,   0.  ],\n",
       "       [  0.  ,   0.  ,   0.  ,   0.  ,   0.  ,  48.91]])"
      ]
     },
     "execution_count": 9,
     "metadata": {},
     "output_type": "execute_result"
    }
   ],
   "source": [
    "# show the isotropic part of the elastic tensor\n",
    "quartz.decompose['isotropic']"
   ]
  },
  {
   "cell_type": "code",
   "execution_count": 10,
   "metadata": {},
   "outputs": [
    {
     "data": {
      "text/plain": [
       "{'isotropic': np.float64(72.39),\n",
       " 'hexagonal': np.float64(15.62),\n",
       " 'tetragonal': np.float64(0.0),\n",
       " 'orthorhombic': np.float64(0.0),\n",
       " 'monoclinic': np.float64(0.0),\n",
       " 'others': np.float64(11.99),\n",
       " 'anisotropic': np.float64(27.61)}"
      ]
     },
     "execution_count": 10,
     "metadata": {},
     "output_type": "execute_result"
    }
   ],
   "source": [
    "# percentages of decomposed elastic tensor\n",
    "quartz.percent"
   ]
  },
  {
   "cell_type": "markdown",
   "metadata": {},
   "source": [
    "\n",
    "These percentages above indicate that, according to the method of Browaeys and Chevrot (2004), the elastic tensor of quartz under these conditions can be decomposed into an isotropic part of 72.4% and an anisotropic part of 27.6%. Of the anisotropic part, 15.6% has hexagonal symmetry and 12.0% trigonal symmetry (here labelled \"others\"). Adding together the isotropic, hexagonal and other parts gives the undecomposed elastic tensor.\n",
    "\n",
    "---\n",
    "\n",
    "TODO"
   ]
  },
  {
   "cell_type": "code",
   "execution_count": 11,
   "metadata": {},
   "outputs": [
    {
     "data": {
      "text/plain": [
       "<class 'ElasticClass.ElasticProps'>\n",
       "\n",
       "Mineral Name: Omphacite\n",
       "Reference Source: https://doi.org/10.1029/2018JB016964\n",
       "Crystal System: Monoclinic\n",
       "Pressure (GPa): 1.8\n",
       "Temperature (°C): 25\n",
       "Density (g/cm3): 3.388\n",
       "\n",
       "Elastic Tensor (Cij) in GPa:\n",
       "[[245.8   92.34  81.79   0.     6.62   0.  ]\n",
       " [ 92.34 210.    64.46   0.     4.48   0.  ]\n",
       " [ 81.79  64.46 267.18   0.    36.     0.  ]\n",
       " [  0.     0.     0.    80.88   0.     6.3 ]\n",
       " [  6.62   4.48  36.     0.    70.57   0.  ]\n",
       " [  0.     0.     0.     6.3    0.    78.15]]\n",
       "\n",
       "Tensor decomposition (Browaeys & Chevrot approach):\n",
       "    Isotropy = 76.6 %\n",
       "    Anisotropy = 23.4 %\n",
       "\n",
       "Anisotropy indexes:\n",
       "    Universal Elastic Anisotropy:           0.248\n",
       "    Kube's Anisotropy Index (proportional): 0.099\n",
       "\n",
       "Calculated elastic average properties:\n",
       "Unit:GPa  Bulk_modulus  Shear_modulus  Poisson_ratio\n",
       "   Voigt       133.351         78.213          0.255\n",
       "    Hill       131.057         76.617          0.255\n",
       "   Reuss       128.763         75.022          0.256\n",
       "\n",
       "Isotropic seismic properties:\n",
       "Unit:km/s    Vp    Vs  Vp/vs\n",
       "    Voigt 8.375 4.805  1.743\n",
       "     Hill 8.297 4.755  1.745\n",
       "    Reuss 8.218 4.706  1.746"
      ]
     },
     "execution_count": 11,
     "metadata": {},
     "output_type": "execute_result"
    }
   ],
   "source": [
    "db.omphacite(1.8)"
   ]
  },
  {
   "cell_type": "code",
   "execution_count": 12,
   "metadata": {},
   "outputs": [
    {
     "data": {
      "text/plain": [
       "<class 'ElasticClass.ElasticProps'>\n",
       "\n",
       "Mineral Name: Diopside\n",
       "Reference Source: https://doi.org/10.1016/j.pepi.2013.12.011\n",
       "Crystal System: Monoclinic\n",
       "Pressure (GPa): 1.8\n",
       "Temperature (°C): 25\n",
       "Density (g/cm3): 3.313\n",
       "\n",
       "Elastic Tensor (Cij) in GPa:\n",
       "[[240.6   86.27  77.58   0.     9.64   0.  ]\n",
       " [ 86.27 190.59  63.43   0.     3.98   0.  ]\n",
       " [ 77.58  63.43 257.9    0.    38.72   0.  ]\n",
       " [  0.     0.     0.    82.06   0.     4.09]\n",
       " [  9.64   3.98  38.72   0.    71.81   0.  ]\n",
       " [  0.     0.     0.     4.09   0.    81.56]]\n",
       "\n",
       "Tensor decomposition (Browaeys & Chevrot approach):\n",
       "    Isotropy = 74.4 %\n",
       "    Anisotropy = 25.6 %\n",
       "\n",
       "Anisotropy indexes:\n",
       "    Universal Elastic Anisotropy:           0.289\n",
       "    Kube's Anisotropy Index (proportional): 0.115\n",
       "\n",
       "Calculated elastic average properties:\n",
       "Unit:GPa  Bulk_modulus  Shear_modulus  Poisson_ratio\n",
       "   Voigt       127.072         77.873          0.246\n",
       "    Hill       124.168         76.085          0.246\n",
       "   Reuss       121.265         74.297          0.246\n",
       "\n",
       "Isotropic seismic properties:\n",
       "Unit:km/s    Vp    Vs  Vp/vs\n",
       "    Voigt 8.348 4.848  1.722\n",
       "     Hill 8.252 4.792  1.722\n",
       "    Reuss 8.155 4.736  1.722"
      ]
     },
     "execution_count": 12,
     "metadata": {},
     "output_type": "execute_result"
    }
   ],
   "source": [
    "db.diopside(1.8)"
   ]
  },
  {
   "cell_type": "code",
   "execution_count": 13,
   "metadata": {},
   "outputs": [
    {
     "data": {
      "text/plain": [
       "<class 'ElasticClass.ElasticProps'>\n",
       "\n",
       "Mineral Name: Enstatite\n",
       "Reference Source: https://doi.org/10.1002/2016GL069963\n",
       "Crystal System: Orthorhombic\n",
       "Pressure (GPa): 1.8\n",
       "Temperature (°C): 25\n",
       "Density (g/cm3): 3.337\n",
       "\n",
       "Elastic Tensor (Cij) in GPa:\n",
       "[[252.37  90.97  74.92   0.     0.     0.  ]\n",
       " [ 90.97 192.45  67.71   0.     0.     0.  ]\n",
       " [ 74.92  67.71 244.64   0.     0.     0.  ]\n",
       " [  0.     0.     0.    86.8    0.     0.  ]\n",
       " [  0.     0.     0.     0.    81.35   0.  ]\n",
       " [  0.     0.     0.     0.     0.    84.81]]\n",
       "\n",
       "Tensor decomposition (Browaeys & Chevrot approach):\n",
       "    Isotropy = 85.2 %\n",
       "    Anisotropy = 14.8 %\n",
       "\n",
       "Anisotropy indexes:\n",
       "    Universal Elastic Anisotropy:           0.106\n",
       "    Kube's Anisotropy Index (proportional): 0.043\n",
       "\n",
       "Calculated elastic average properties:\n",
       "Unit:GPa  Bulk_modulus  Shear_modulus  Poisson_ratio\n",
       "   Voigt       128.518         80.983           0.24\n",
       "    Hill       127.550         80.263           0.24\n",
       "   Reuss       126.583         79.543           0.24\n",
       "\n",
       "Isotropic seismic properties:\n",
       "Unit:km/s    Vp    Vs  Vp/vs\n",
       "    Voigt 8.418 4.926  1.709\n",
       "     Hill 8.384 4.904  1.710\n",
       "    Reuss 8.350 4.882  1.710"
      ]
     },
     "execution_count": 13,
     "metadata": {},
     "output_type": "execute_result"
    }
   ],
   "source": [
    "db.enstatite(1.8)"
   ]
  },
  {
   "cell_type": "code",
   "execution_count": 15,
   "metadata": {},
   "outputs": [
    {
     "data": {
      "text/plain": [
       "<class 'ElasticClass.ElasticProps'>\n",
       "\n",
       "Mineral Name: Forsterite\n",
       "Reference Source: https://doi.org/10.1002/2016GL069949\n",
       "Crystal System: Orthorhombic\n",
       "Pressure (GPa): 0.0\n",
       "Temperature (°C): 26\n",
       "Density (g/cm3): 3.341\n",
       "\n",
       "Elastic Tensor (Cij) in GPa:\n",
       "[[319.2  71.   71.    0.    0.    0. ]\n",
       " [ 71.  195.5  74.9   0.    0.    0. ]\n",
       " [ 71.   74.9 232.7   0.    0.    0. ]\n",
       " [  0.    0.    0.   62.6   0.    0. ]\n",
       " [  0.    0.    0.    0.   77.5   0. ]\n",
       " [  0.    0.    0.    0.    0.   75.2]]\n",
       "\n",
       "Tensor decomposition (Browaeys & Chevrot approach):\n",
       "    Isotropy = 77.9 %\n",
       "    Anisotropy = 22.1 %\n",
       "\n",
       "Anisotropy indexes:\n",
       "    Universal Elastic Anisotropy:           0.235\n",
       "    Kube's Anisotropy Index (proportional): 0.094\n",
       "\n",
       "Calculated elastic average properties:\n",
       "Unit:GPa  Bulk_modulus  Shear_modulus  Poisson_ratio\n",
       "   Voigt       131.244         78.427          0.251\n",
       "    Hill       129.105         76.909          0.251\n",
       "   Reuss       126.965         75.392          0.252\n",
       "\n",
       "Isotropic seismic properties:\n",
       "Unit:km/s    Vp    Vs  Vp/vs\n",
       "    Voigt 8.401 4.845  1.734\n",
       "     Hill 8.327 4.798  1.736\n",
       "    Reuss 8.252 4.750  1.737"
      ]
     },
     "execution_count": 15,
     "metadata": {},
     "output_type": "execute_result"
    }
   ],
   "source": [
    "db.forsterite(type=\"RT\")"
   ]
  },
  {
   "cell_type": "code",
   "execution_count": 17,
   "metadata": {},
   "outputs": [
    {
     "data": {
      "text/plain": [
       "<class 'ElasticClass.ElasticProps'>\n",
       "\n",
       "Mineral Name: Forsterite\n",
       "Reference Source: https://doi.org/10.1016/j.epsl.2015.06.045\n",
       "Crystal System: Orthorhombic\n",
       "Pressure (GPa): 2.0\n",
       "Temperature (°C): 627\n",
       "Density (g/cm3): 3.393\n",
       "\n",
       "Elastic Tensor (Cij) in GPa:\n",
       "[[311.87  55.44  68.12   0.     0.     0.  ]\n",
       " [ 55.44 190.16  78.69   0.     0.     0.  ]\n",
       " [ 68.12  78.69 222.06   0.     0.     0.  ]\n",
       " [  0.     0.     0.    60.63   0.     0.  ]\n",
       " [  0.     0.     0.     0.    74.43   0.  ]\n",
       " [  0.     0.     0.     0.     0.    74.09]]\n",
       "\n",
       "Tensor decomposition (Browaeys & Chevrot approach):\n",
       "    Isotropy = 76.1 %\n",
       "    Anisotropy = 23.9 %\n",
       "\n",
       "Anisotropy indexes:\n",
       "    Universal Elastic Anisotropy:           0.279\n",
       "    Kube's Anisotropy Index (proportional): 0.113\n",
       "\n",
       "Calculated elastic average properties:\n",
       "Unit:GPa  Bulk_modulus  Shear_modulus  Poisson_ratio\n",
       "   Voigt       125.399         76.619          0.246\n",
       "    Hill       123.622         74.799          0.248\n",
       "   Reuss       121.845         72.979          0.250\n",
       "\n",
       "Isotropic seismic properties:\n",
       "Unit:km/s    Vp    Vs  Vp/vs\n",
       "    Voigt 8.189 4.752  1.723\n",
       "     Hill 8.113 4.695  1.728\n",
       "    Reuss 8.037 4.638  1.733"
      ]
     },
     "execution_count": 17,
     "metadata": {},
     "output_type": "execute_result"
    }
   ],
   "source": [
    "db.forsterite(P=2.0, type=\"MT\")"
   ]
  },
  {
   "cell_type": "code",
   "execution_count": 18,
   "metadata": {},
   "outputs": [
    {
     "data": {
      "text/plain": [
       "<class 'ElasticClass.ElasticProps'>\n",
       "\n",
       "Mineral Name: Zoisite\n",
       "Reference Source: https://doi.org/10.2138/am.2007.2329\n",
       "Crystal System: Orthorhombic\n",
       "Pressure (GPa): 0.0\n",
       "Temperature (°C): 25\n",
       "Density (g/cm3): 3.343\n",
       "\n",
       "Elastic Tensor (Cij) in GPa:\n",
       "[[279.8  94.7  88.7   0.    0.    0. ]\n",
       " [ 94.7 249.2  27.5   0.    0.    0. ]\n",
       " [ 88.7  27.5 209.4   0.    0.    0. ]\n",
       " [  0.    0.    0.   51.8   0.    0. ]\n",
       " [  0.    0.    0.    0.   81.4   0. ]\n",
       " [  0.    0.    0.    0.    0.   66.3]]\n",
       "\n",
       "Tensor decomposition (Browaeys & Chevrot approach):\n",
       "    Isotropy = 74.4 %\n",
       "    Anisotropy = 25.6 %\n",
       "\n",
       "Anisotropy indexes:\n",
       "    Universal Elastic Anisotropy:           0.373\n",
       "    Kube's Anisotropy Index (proportional): 0.148\n",
       "\n",
       "Calculated elastic average properties:\n",
       "Unit:GPa  Bulk_modulus  Shear_modulus  Poisson_ratio\n",
       "   Voigt       128.911         75.067          0.256\n",
       "    Hill       125.274         72.855          0.256\n",
       "   Reuss       121.637         70.643          0.257\n",
       "\n",
       "Isotropic seismic properties:\n",
       "Unit:km/s    Vp    Vs  Vp/vs\n",
       "    Voigt 8.277 4.739  1.747\n",
       "     Hill 8.157 4.668  1.747\n",
       "    Reuss 8.035 4.597  1.748"
      ]
     },
     "execution_count": 18,
     "metadata": {},
     "output_type": "execute_result"
    }
   ],
   "source": [
    "db.zoisite()"
   ]
  },
  {
   "cell_type": "code",
   "execution_count": 19,
   "metadata": {},
   "outputs": [
    {
     "data": {
      "text/plain": [
       "<class 'ElasticClass.ElasticProps'>\n",
       "\n",
       "Mineral Name: Chlorite\n",
       "Reference Source: https://doi.org/10.1002/2014GL059334\n",
       "Crystal System: Monoclinic\n",
       "Pressure (GPa): 1.8\n",
       "Temperature (°C): 25\n",
       "Density (g/cm3): 2.594\n",
       "\n",
       "Elastic Tensor (Cij) in GPa:\n",
       "[[199.1   57.76  23.51   0.     3.55   0.  ]\n",
       " [ 57.76 201.96  31.01   0.     0.05   0.  ]\n",
       " [ 23.51  31.01 162.46   0.     0.78   0.  ]\n",
       " [  0.     0.     0.    24.55   0.     0.33]\n",
       " [  3.55   0.05   0.78   0.    23.81   0.  ]\n",
       " [  0.     0.     0.     0.33   0.    71.77]]\n",
       "\n",
       "Tensor decomposition (Browaeys & Chevrot approach):\n",
       "    Isotropy = 72.6 %\n",
       "    Anisotropy = 27.4 %\n",
       "\n",
       "Anisotropy indexes:\n",
       "    Universal Elastic Anisotropy:           1.728\n",
       "    Kube's Anisotropy Index (proportional): 0.655\n",
       "\n",
       "Calculated elastic average properties:\n",
       "Unit:GPa  Bulk_modulus  Shear_modulus  Poisson_ratio\n",
       "   Voigt        87.564         54.109          0.244\n",
       "    Hill        86.392         47.242          0.269\n",
       "   Reuss        85.220         40.376          0.295\n",
       "\n",
       "Isotropic seismic properties:\n",
       "Unit:km/s    Vp    Vs  Vp/vs\n",
       "    Voigt 7.847 4.567  1.718\n",
       "     Hill 7.589 4.268  1.778\n",
       "    Reuss 7.322 3.945  1.856"
      ]
     },
     "execution_count": 19,
     "metadata": {},
     "output_type": "execute_result"
    }
   ],
   "source": [
    "db.chlorite(1.8)"
   ]
  },
  {
   "cell_type": "code",
   "execution_count": 20,
   "metadata": {},
   "outputs": [
    {
     "data": {
      "text/plain": [
       "<class 'ElasticClass.ElasticProps'>\n",
       "\n",
       "Mineral Name: Pyrope\n",
       "Reference Source: https://doi.org/10.1016/j.epsl.2012.11.041\n",
       "Crystal System: Cubic\n",
       "Pressure (GPa): 1.8\n",
       "Temperature (°C): 750\n",
       "Density (g/cm3): 3.740\n",
       "\n",
       "Elastic Tensor (Cij) in GPa:\n",
       "[[284.1  107.2  107.2    0.     0.     0.  ]\n",
       " [107.2  284.1  107.2    0.     0.     0.  ]\n",
       " [107.2  107.2  284.1    0.     0.     0.  ]\n",
       " [  0.     0.     0.    90.26   0.     0.  ]\n",
       " [  0.     0.     0.     0.    90.26   0.  ]\n",
       " [  0.     0.     0.     0.     0.    90.26]]\n",
       "\n",
       "Tensor decomposition (Browaeys & Chevrot approach):\n",
       "    Isotropy = 99.1 %\n",
       "    Anisotropy = 0.9 %\n",
       "\n",
       "Anisotropy indexes:\n",
       "    Universal Elastic Anisotropy:           0.000\n",
       "    Kube's Anisotropy Index (proportional): 0.000\n",
       "\n",
       "Calculated elastic average properties:\n",
       "Unit:GPa  Bulk_modulus  Shear_modulus  Poisson_ratio\n",
       "   Voigt       166.167         89.536          0.272\n",
       "    Hill       166.167         89.532          0.272\n",
       "   Reuss       166.167         89.527          0.272\n",
       "\n",
       "Isotropic seismic properties:\n",
       "Unit:km/s    Vp    Vs  Vp/vs\n",
       "    Voigt 8.738 4.893  1.786\n",
       "     Hill 8.738 4.893  1.786\n",
       "    Reuss 8.738 4.893  1.786"
      ]
     },
     "execution_count": 20,
     "metadata": {},
     "output_type": "execute_result"
    }
   ],
   "source": [
    "db.pyrope(1.8)"
   ]
  },
  {
   "cell_type": "code",
   "execution_count": 21,
   "metadata": {},
   "outputs": [
    {
     "data": {
      "text/plain": [
       "<class 'ElasticClass.ElasticProps'>\n",
       "\n",
       "Mineral Name: plagioclase_An37\n",
       "Reference Source: https://doi.org/10.1002/2015JB012736\n",
       "Crystal System: Triclinic\n",
       "Pressure (GPa): 0.0\n",
       "Temperature (°C): 25\n",
       "Density (g/cm3): 2.666\n",
       "\n",
       "Elastic Tensor (Cij) in GPa:\n",
       "[[ 96.2  46.1  38.4   5.9  -0.2  -0.4]\n",
       " [ 46.1 189.4  15.4  -7.   -5.1  -6.8]\n",
       " [ 38.4  15.4 171.9   2.2   7.2  -9.8]\n",
       " [  5.9  -7.    2.2  23.6  -1.1  -4.8]\n",
       " [ -0.2  -5.1   7.2  -1.1  33.1   1.4]\n",
       " [ -0.4  -6.8  -9.8  -4.8   1.4  35.5]]\n",
       "\n",
       "Tensor decomposition (Browaeys & Chevrot approach):\n",
       "    Isotropy = 57.7 %\n",
       "    Anisotropy = 42.3 %\n",
       "\n",
       "Anisotropy indexes:\n",
       "    Universal Elastic Anisotropy:           1.364\n",
       "    Kube's Anisotropy Index (proportional): 0.521\n",
       "\n",
       "Calculated elastic average properties:\n",
       "Unit:GPa  Bulk_modulus  Shear_modulus  Poisson_ratio\n",
       "   Voigt        73.033         42.280          0.257\n",
       "    Hill        70.920         37.910          0.273\n",
       "   Reuss        68.807         33.539          0.290\n",
       "\n",
       "Isotropic seismic properties:\n",
       "Unit:km/s    Vp    Vs  Vp/vs\n",
       "    Voigt 6.967 3.982   1.75\n",
       "     Hill 6.750 3.771   1.79\n",
       "    Reuss 6.526 3.547   1.84"
      ]
     },
     "execution_count": 21,
     "metadata": {},
     "output_type": "execute_result"
    }
   ],
   "source": [
    "db.plagioclase('An37')"
   ]
  },
  {
   "cell_type": "code",
   "execution_count": 22,
   "metadata": {},
   "outputs": [
    {
     "data": {
      "text/plain": [
       "<class 'ElasticClass.ElasticProps'>\n",
       "\n",
       "Mineral Name: Pargasite\n",
       "Reference Source: https://doi.org/10.1016/j.pepi.2016.10.010\n",
       "Crystal System: Monoclinic\n",
       "Pressure (GPa): 0.0\n",
       "Temperature (°C): 25\n",
       "Density (g/cm3): 3.163\n",
       "\n",
       "Elastic Tensor (Cij) in GPa:\n",
       "[[141.6  57.1  49.6   0.   -0.2   0. ]\n",
       " [ 57.1 197.8  60.9   0.  -10.9   0. ]\n",
       " [ 49.6  60.9 225.4   0.  -31.4   0. ]\n",
       " [  0.    0.    0.   75.8   0.    3.3]\n",
       " [ -0.2 -10.9 -31.4   0.   49.9   0. ]\n",
       " [  0.    0.    0.    3.3   0.   51.7]]\n",
       "\n",
       "Tensor decomposition (Browaeys & Chevrot approach):\n",
       "    Isotropy = 69.4 %\n",
       "    Anisotropy = 30.6 %\n",
       "\n",
       "Anisotropy indexes:\n",
       "    Universal Elastic Anisotropy:           0.493\n",
       "    Kube's Anisotropy Index (proportional): 0.194\n",
       "\n",
       "Calculated elastic average properties:\n",
       "Unit:GPa  Bulk_modulus  Shear_modulus  Poisson_ratio\n",
       "   Voigt       100.000         61.960          0.243\n",
       "    Hill        96.768         59.536          0.245\n",
       "   Reuss        93.537         57.112          0.246\n",
       "\n",
       "Isotropic seismic properties:\n",
       "Unit:km/s    Vp    Vs  Vp/vs\n",
       "    Voigt 7.598 4.426  1.717\n",
       "     Hill 7.463 4.339  1.720\n",
       "    Reuss 7.324 4.249  1.724"
      ]
     },
     "execution_count": 22,
     "metadata": {},
     "output_type": "execute_result"
    }
   ],
   "source": [
    "db.amphiboles('Pargasite')"
   ]
  },
  {
   "cell_type": "code",
   "execution_count": 23,
   "metadata": {},
   "outputs": [
    {
     "name": "stdout",
     "output_type": "stream",
     "text": [
      "\u001b[1;31mSignature:\u001b[0m \u001b[0mdb\u001b[0m\u001b[1;33m.\u001b[0m\u001b[0mamphiboles\u001b[0m\u001b[1;33m(\u001b[0m\u001b[0mtype\u001b[0m\u001b[1;33m=\u001b[0m\u001b[1;34m'Hornblende'\u001b[0m\u001b[1;33m)\u001b[0m\u001b[1;33m\u001b[0m\u001b[1;33m\u001b[0m\u001b[0m\n",
      "\u001b[1;31mDocstring:\u001b[0m\n",
      "Returns the corresponding elastic tensor (GPa) and density\n",
      "(g/cm3) and other derived elastic properties of different\n",
      "types of Ca-Na amphibole based on experimental data of\n",
      "Brown and Abramson (2016) [1]\n",
      "\n",
      "Caveats\n",
      "-------\n",
      "    - The function does not account for temperature or\n",
      "    pressure effects and assumes room conditions\n",
      "\n",
      "Parameters\n",
      "----------\n",
      "type : str\n",
      "    the type of Ca-Na amphibole\n",
      "\n",
      "Returns\n",
      "-------\n",
      "properties : ElasticProps dataclass\n",
      "    An object containing the following properties:\n",
      "    - name: Name of the crystal ('alpha_quartz').\n",
      "    - crystal_system: Crystal system.\n",
      "    - temperature: Temperature in degrees Celsius (assumed 25).\n",
      "    - pressure: Pressure in GPa.\n",
      "    - density: Density in g/cm3.\n",
      "    - cijs: 6x6 array representing the elastic tensor.\n",
      "    - sijs: 6x6 array representing the compliance tensor\n",
      "    - reference: Reference to the source publication.\n",
      "    - decompose: the decomposition of the elastic tensor\n",
      "        into lower symmetriy classes\n",
      "    - Other average (seismic & elastic) properties\n",
      "    - Several anisotropy indexes\n",
      "\n",
      "Examples\n",
      "--------\n",
      ">>> amph = amphiboles(type='Pargasite')\n",
      "\n",
      "References\n",
      "----------\n",
      "[1] Brown, J.M., Abramson, E.H., 2016. Elasticity of calcium and\n",
      "calcium-sodium amphiboles. Physics of the Earth and Planetary Interiors\n",
      "261, 161–171. https://doi.org/10.1016/j.pepi.2016.10.010\n",
      "\u001b[1;31mFile:\u001b[0m      c:\\users\\marco\\documents\\github\\pyrockwave\\src\\elastic_database.py\n",
      "\u001b[1;31mType:\u001b[0m      function"
     ]
    }
   ],
   "source": [
    "db.amphiboles?"
   ]
  },
  {
   "cell_type": "code",
   "execution_count": 24,
   "metadata": {},
   "outputs": [
    {
     "data": {
      "text/plain": [
       "<class 'ElasticClass.ElasticProps'>\n",
       "\n",
       "Mineral Name: Antigorite\n",
       "Reference Source: https://doi.org/10.1029/2022GL099411\n",
       "Crystal System: Monoclinic\n",
       "Pressure (GPa): 5.0\n",
       "Temperature (°C): 25\n",
       "Density (g/cm3): 2.793\n",
       "\n",
       "Elastic Tensor (Cij) in GPa:\n",
       "[[184.84  51.26  45.01   0.     2.9    0.  ]\n",
       " [ 51.26 208.2   38.2    0.    -1.2    0.  ]\n",
       " [ 45.01  38.2  151.51   0.     0.4    0.  ]\n",
       " [  0.     0.     0.    13.5    0.    -3.2 ]\n",
       " [  2.9   -1.2    0.4    0.    20.     0.  ]\n",
       " [  0.     0.     0.    -3.2    0.    71.85]]\n",
       "\n",
       "Tensor decomposition (Browaeys & Chevrot approach):\n",
       "    Isotropy = 69.2 %\n",
       "    Anisotropy = 30.8 %\n",
       "\n",
       "Anisotropy indexes:\n",
       "    Universal Elastic Anisotropy:           3.202\n",
       "    Kube's Anisotropy Index (proportional): 1.101\n",
       "\n",
       "Calculated elastic average properties:\n",
       "Unit:GPa  Bulk_modulus  Shear_modulus  Poisson_ratio\n",
       "   Voigt        90.388         48.409          0.273\n",
       "    Hill        89.487         38.997          0.310\n",
       "   Reuss        88.586         29.585          0.350\n",
       "\n",
       "Isotropic seismic properties:\n",
       "Unit:km/s    Vp    Vs  Vp/vs\n",
       "    Voigt 7.448 4.163  1.789\n",
       "     Hill 7.117 3.737  1.905\n",
       "    Reuss 6.771 3.255  2.080"
      ]
     },
     "execution_count": 24,
     "metadata": {},
     "output_type": "execute_result"
    }
   ],
   "source": [
    "db.antigorite(5.0)"
   ]
  },
  {
   "cell_type": "code",
   "execution_count": 25,
   "metadata": {
    "tags": []
   },
   "outputs": [
    {
     "name": "stdout",
     "output_type": "stream",
     "text": [
      "Notebook tested in 2025-03-27 using:\n",
      "Python 3.10.15 | packaged by Anaconda, Inc. | (main, Oct  3 2024, 07:22:19) [MSC v.1929 64 bit (AMD64)]\n",
      "Numpy 2.2.2\n"
     ]
    }
   ],
   "source": [
    "import sys\n",
    "from datetime import date    \n",
    "today = date.today().isoformat()\n",
    "\n",
    "print(f'Notebook tested in {today} using:')\n",
    "print('Python', sys.version)\n",
    "print('Numpy', np.__version__)"
   ]
  }
 ],
 "metadata": {
  "kernelspec": {
   "display_name": "main",
   "language": "python",
   "name": "python3"
  },
  "language_info": {
   "codemirror_mode": {
    "name": "ipython",
    "version": 3
   },
   "file_extension": ".py",
   "mimetype": "text/x-python",
   "name": "python",
   "nbconvert_exporter": "python",
   "pygments_lexer": "ipython3",
   "version": "3.10.15"
  }
 },
 "nbformat": 4,
 "nbformat_minor": 4
}
