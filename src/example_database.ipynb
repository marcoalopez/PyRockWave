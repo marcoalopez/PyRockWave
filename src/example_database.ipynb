{
 "cells": [
  {
   "cell_type": "code",
   "execution_count": 1,
   "metadata": {},
   "outputs": [],
   "source": [
    "import numpy as np\n",
    "import database as db"
   ]
  },
  {
   "cell_type": "code",
   "execution_count": 2,
   "metadata": {},
   "outputs": [
    {
     "data": {
      "text/plain": [
       "92.355875"
      ]
     },
     "execution_count": 2,
     "metadata": {},
     "output_type": "execute_result"
    }
   ],
   "source": [
    "np.polyval([0.0275, 3.7960, 86.6], 1.5)"
   ]
  },
  {
   "cell_type": "code",
   "execution_count": 3,
   "metadata": {},
   "outputs": [
    {
     "data": {
      "text/plain": [
       "<class 'ElasticClass.ElasticTensor'>\n",
       "\n",
       "Mineral Name: alpha_quartz\n",
       "Reference Source: https://doi.org/10.1007/s00269-014-0711-z\n",
       "Crystal System: Trigonal\n",
       "Pressure (GPa): 1.5\n",
       "Temperature (°C): 25\n",
       "Density (g/cm3): 2.744\n",
       "\n",
       "Stiffness Tensor (Cij) in GPa:\n",
       "[[ 92.36  16.93  22.52  12.04   0.     0.  ]\n",
       " [ 16.93  92.36  22.52 -12.04   0.     0.  ]\n",
       " [ 22.52  22.52 126.04   0.     0.     0.  ]\n",
       " [ 12.04 -12.04   0.    61.58   0.     0.  ]\n",
       " [  0.     0.     0.     0.    61.58  12.04]\n",
       " [  0.     0.     0.     0.    12.04  37.71]]\n",
       "\n",
       "Calculated properties:\n",
       "Bulk Modulus Voigt Average (GPa): 48.300\n",
       "Bulk Modulus Reuss Average (GPa): 47.037\n",
       "Bulk Modulus VRH Average (GPa): 47.668\n",
       "Shear Modulus Voigt Average (GPa): 48.760\n",
       "Shear Modulus Reuss Average (GPa): 43.893\n",
       "Shear Modulus VRH Average (GPa): 46.326\n",
       "Universal Elastic Anisotropy: 0.581\n",
       "Isotropic Average Poisson Ratio: 0.133\n",
       "Isotropic Average Vp (km/s): 6.315\n",
       "Isotropic Average Vs (km/s): 4.109\n",
       "Isotropic Average Vp/Vs: 1.537"
      ]
     },
     "execution_count": 3,
     "metadata": {},
     "output_type": "execute_result"
    }
   ],
   "source": [
    "db.alpha_quartz(1.5)"
   ]
  },
  {
   "cell_type": "code",
   "execution_count": 4,
   "metadata": {},
   "outputs": [
    {
     "data": {
      "text/plain": [
       "array([[ 93.52,  18.88,  24.43,  11.  ,   0.  ,   0.  ],\n",
       "       [ 18.88,  93.52,  24.43, -11.  ,   0.  ,   0.  ],\n",
       "       [ 24.43,  24.43, 129.83,   0.  ,   0.  ,   0.  ],\n",
       "       [ 11.  , -11.  ,   0.  ,  62.1 ,   0.  ,   0.  ],\n",
       "       [  0.  ,   0.  ,   0.  ,   0.  ,  62.1 ,  11.  ],\n",
       "       [  0.  ,   0.  ,   0.  ,   0.  ,  11.  ,  37.32]])"
      ]
     },
     "execution_count": 4,
     "metadata": {},
     "output_type": "execute_result"
    }
   ],
   "source": [
    "quartz = db.alpha_quartz(1.8)\n",
    "quartz.Cij"
   ]
  },
  {
   "cell_type": "code",
   "execution_count": 5,
   "metadata": {},
   "outputs": [
    {
     "data": {
      "text/plain": [
       "2.763"
      ]
     },
     "execution_count": 5,
     "metadata": {},
     "output_type": "execute_result"
    }
   ],
   "source": [
    "quartz.density"
   ]
  },
  {
   "cell_type": "code",
   "execution_count": 6,
   "metadata": {},
   "outputs": [
    {
     "data": {
      "text/plain": [
       "<class 'ElasticClass.ElasticTensor'>\n",
       "\n",
       "Mineral Name: alpha_quartz\n",
       "Reference Source: https://doi.org/10.1007/s00269-014-0711-z\n",
       "Crystal System: Trigonal\n",
       "Pressure (GPa): 2.5\n",
       "Temperature (°C): 25\n",
       "Density (g/cm3): 2.807\n",
       "\n",
       "Stiffness Tensor (Cij) in GPa:\n",
       "[[ 96.26  23.31  28.72   8.75   0.     0.  ]\n",
       " [ 23.31  96.26  28.72  -8.75   0.     0.  ]\n",
       " [ 28.72  28.72 138.52   0.     0.     0.  ]\n",
       " [  8.75  -8.75   0.    63.08   0.     0.  ]\n",
       " [  0.     0.     0.     0.    63.08   8.75]\n",
       " [  0.     0.     0.     0.     8.75  36.48]]\n",
       "\n",
       "Calculated properties:\n",
       "Bulk Modulus Voigt Average (GPa): 54.727\n",
       "Bulk Modulus Reuss Average (GPa): 52.934\n",
       "Bulk Modulus VRH Average (GPa): 53.830\n",
       "Shear Modulus Voigt Average (GPa): 49.214\n",
       "Shear Modulus Reuss Average (GPa): 44.831\n",
       "Shear Modulus VRH Average (GPa): 47.022\n",
       "Universal Elastic Anisotropy: 0.523\n",
       "Isotropic Average Poisson Ratio: 0.162\n",
       "Isotropic Average Vp (km/s): 6.443\n",
       "Isotropic Average Vs (km/s): 4.093\n",
       "Isotropic Average Vp/Vs: 1.574"
      ]
     },
     "execution_count": 6,
     "metadata": {},
     "output_type": "execute_result"
    }
   ],
   "source": [
    "db.alpha_quartz(2.5)"
   ]
  },
  {
   "cell_type": "code",
   "execution_count": 7,
   "metadata": {},
   "outputs": [
    {
     "data": {
      "text/plain": [
       "<class 'ElasticClass.ElasticTensor'>\n",
       "\n",
       "Mineral Name: omphacite\n",
       "Reference Source: https://doi.org/10.1029/2018JB016964\n",
       "Crystal System: Monoclinic\n",
       "Pressure (GPa): 1.8\n",
       "Temperature (°C): 25\n",
       "Density (g/cm3): 3.388\n",
       "\n",
       "Stiffness Tensor (Cij) in GPa:\n",
       "[[245.8   92.34  81.79   0.     6.62   0.  ]\n",
       " [ 92.34 210.    64.46   0.     4.48   0.  ]\n",
       " [ 81.79  64.46 267.18   0.    36.     0.  ]\n",
       " [  0.     0.     0.    80.88   0.     6.3 ]\n",
       " [  6.62   4.48  36.     0.    70.57   0.  ]\n",
       " [  0.     0.     0.     6.3    0.    78.15]]\n",
       "\n",
       "Calculated properties:\n",
       "Bulk Modulus Voigt Average (GPa): 133.351\n",
       "Bulk Modulus Reuss Average (GPa): 128.763\n",
       "Bulk Modulus VRH Average (GPa): 131.057\n",
       "Shear Modulus Voigt Average (GPa): 78.213\n",
       "Shear Modulus Reuss Average (GPa): 75.022\n",
       "Shear Modulus VRH Average (GPa): 76.617\n",
       "Universal Elastic Anisotropy: 0.248\n",
       "Isotropic Average Poisson Ratio: 0.255\n",
       "Isotropic Average Vp (km/s): 8.297\n",
       "Isotropic Average Vs (km/s): 4.755\n",
       "Isotropic Average Vp/Vs: 1.745"
      ]
     },
     "execution_count": 7,
     "metadata": {},
     "output_type": "execute_result"
    }
   ],
   "source": [
    "db.omphacite(1.8)"
   ]
  },
  {
   "cell_type": "code",
   "execution_count": 8,
   "metadata": {},
   "outputs": [
    {
     "data": {
      "text/plain": [
       "<class 'ElasticClass.ElasticTensor'>\n",
       "\n",
       "Mineral Name: diopside\n",
       "Reference Source: https://doi.org/10.1016/j.pepi.2013.12.011\n",
       "Crystal System: Monoclinic\n",
       "Pressure (GPa): 1.8\n",
       "Temperature (°C): 25\n",
       "Density (g/cm3): 3.313\n",
       "\n",
       "Stiffness Tensor (Cij) in GPa:\n",
       "[[240.6   86.27  77.58   0.     9.64   0.  ]\n",
       " [ 86.27 190.59  63.43   0.     3.98   0.  ]\n",
       " [ 77.58  63.43 257.9    0.    38.72   0.  ]\n",
       " [  0.     0.     0.    82.06   0.     4.09]\n",
       " [  9.64   3.98  38.72   0.    71.81   0.  ]\n",
       " [  0.     0.     0.     4.09   0.    81.56]]\n",
       "\n",
       "Calculated properties:\n",
       "Bulk Modulus Voigt Average (GPa): 127.072\n",
       "Bulk Modulus Reuss Average (GPa): 121.265\n",
       "Bulk Modulus VRH Average (GPa): 124.168\n",
       "Shear Modulus Voigt Average (GPa): 77.873\n",
       "Shear Modulus Reuss Average (GPa): 74.297\n",
       "Shear Modulus VRH Average (GPa): 76.085\n",
       "Universal Elastic Anisotropy: 0.289\n",
       "Isotropic Average Poisson Ratio: 0.246\n",
       "Isotropic Average Vp (km/s): 8.252\n",
       "Isotropic Average Vs (km/s): 4.792\n",
       "Isotropic Average Vp/Vs: 1.722"
      ]
     },
     "execution_count": 8,
     "metadata": {},
     "output_type": "execute_result"
    }
   ],
   "source": [
    "db.diopside(1.8)"
   ]
  },
  {
   "cell_type": "code",
   "execution_count": 9,
   "metadata": {},
   "outputs": [
    {
     "data": {
      "text/plain": [
       "<class 'ElasticClass.ElasticTensor'>\n",
       "\n",
       "Mineral Name: enstatite\n",
       "Reference Source: https://doi.org/10.1002/2016GL069963\n",
       "Crystal System: Orthorhombic\n",
       "Pressure (GPa): 1.8\n",
       "Temperature (°C): 25\n",
       "Density (g/cm3): 3.337\n",
       "\n",
       "Stiffness Tensor (Cij) in GPa:\n",
       "[[252.37  90.97  74.92   0.     0.     0.  ]\n",
       " [ 90.97 192.45  67.71   0.     0.     0.  ]\n",
       " [ 74.92  67.71 244.64   0.     0.     0.  ]\n",
       " [  0.     0.     0.    86.8    0.     0.  ]\n",
       " [  0.     0.     0.     0.    81.35   0.  ]\n",
       " [  0.     0.     0.     0.     0.    84.81]]\n",
       "\n",
       "Calculated properties:\n",
       "Bulk Modulus Voigt Average (GPa): 128.518\n",
       "Bulk Modulus Reuss Average (GPa): 126.583\n",
       "Bulk Modulus VRH Average (GPa): 127.550\n",
       "Shear Modulus Voigt Average (GPa): 80.983\n",
       "Shear Modulus Reuss Average (GPa): 79.543\n",
       "Shear Modulus VRH Average (GPa): 80.263\n",
       "Universal Elastic Anisotropy: 0.106\n",
       "Isotropic Average Poisson Ratio: 0.240\n",
       "Isotropic Average Vp (km/s): 8.384\n",
       "Isotropic Average Vs (km/s): 4.904\n",
       "Isotropic Average Vp/Vs: 1.710"
      ]
     },
     "execution_count": 9,
     "metadata": {},
     "output_type": "execute_result"
    }
   ],
   "source": [
    "db.enstatite(1.8)"
   ]
  },
  {
   "cell_type": "code",
   "execution_count": 10,
   "metadata": {},
   "outputs": [
    {
     "data": {
      "text/plain": [
       "<class 'ElasticClass.ElasticTensor'>\n",
       "\n",
       "Mineral Name: forsterite\n",
       "Reference Source: https://doi.org/10.1002/2016GL069949\n",
       "Crystal System: Orthorhombic\n",
       "Pressure (GPa): 1.8\n",
       "Temperature (°C): 1027\n",
       "Density (g/cm3): 3.285\n",
       "\n",
       "Stiffness Tensor (Cij) in GPa:\n",
       "[[282.82  72.83  67.77   0.     0.     0.  ]\n",
       " [ 72.83 183.61  71.08   0.     0.     0.  ]\n",
       " [ 67.77  71.08 208.99   0.     0.     0.  ]\n",
       " [  0.     0.     0.    57.3    0.     0.  ]\n",
       " [  0.     0.     0.     0.    69.17   0.  ]\n",
       " [  0.     0.     0.     0.     0.    68.96]]\n",
       "\n",
       "Calculated properties:\n",
       "Bulk Modulus Voigt Average (GPa): 122.087\n",
       "Bulk Modulus Reuss Average (GPa): 118.829\n",
       "Bulk Modulus VRH Average (GPa): 120.458\n",
       "Shear Modulus Voigt Average (GPa): 70.002\n",
       "Shear Modulus Reuss Average (GPa): 67.842\n",
       "Shear Modulus VRH Average (GPa): 68.922\n",
       "Universal Elastic Anisotropy: 0.187\n",
       "Isotropic Average Poisson Ratio: 0.260\n",
       "Isotropic Average Vp (km/s): 8.040\n",
       "Isotropic Average Vs (km/s): 4.580\n",
       "Isotropic Average Vp/Vs: 1.755"
      ]
     },
     "execution_count": 10,
     "metadata": {},
     "output_type": "execute_result"
    }
   ],
   "source": [
    "db.forsterite_ZB2016(P=1.8)"
   ]
  },
  {
   "cell_type": "code",
   "execution_count": 11,
   "metadata": {},
   "outputs": [
    {
     "data": {
      "text/plain": [
       "<class 'ElasticClass.ElasticTensor'>\n",
       "\n",
       "Mineral Name: zoisite\n",
       "Reference Source: https://doi.org/10.2138/am.2007.2329\n",
       "Crystal System: Orthorhombic\n",
       "Pressure (GPa): 0.0\n",
       "Temperature (°C): 25\n",
       "Density (g/cm3): 3.343\n",
       "\n",
       "Stiffness Tensor (Cij) in GPa:\n",
       "[[279.8  94.7  88.7   0.    0.    0. ]\n",
       " [ 94.7 249.2  27.5   0.    0.    0. ]\n",
       " [ 88.7  27.5 209.4   0.    0.    0. ]\n",
       " [  0.    0.    0.   51.8   0.    0. ]\n",
       " [  0.    0.    0.    0.   81.4   0. ]\n",
       " [  0.    0.    0.    0.    0.   66.3]]\n",
       "\n",
       "Calculated properties:\n",
       "Bulk Modulus Voigt Average (GPa): 128.911\n",
       "Bulk Modulus Reuss Average (GPa): 121.637\n",
       "Bulk Modulus VRH Average (GPa): 125.274\n",
       "Shear Modulus Voigt Average (GPa): 75.067\n",
       "Shear Modulus Reuss Average (GPa): 70.643\n",
       "Shear Modulus VRH Average (GPa): 72.855\n",
       "Universal Elastic Anisotropy: 0.373\n",
       "Isotropic Average Poisson Ratio: 0.256\n",
       "Isotropic Average Vp (km/s): 8.157\n",
       "Isotropic Average Vs (km/s): 4.668\n",
       "Isotropic Average Vp/Vs: 1.747"
      ]
     },
     "execution_count": 11,
     "metadata": {},
     "output_type": "execute_result"
    }
   ],
   "source": [
    "db.zoisite()"
   ]
  }
 ],
 "metadata": {
  "kernelspec": {
   "display_name": "main",
   "language": "python",
   "name": "python3"
  },
  "language_info": {
   "codemirror_mode": {
    "name": "ipython",
    "version": 3
   },
   "file_extension": ".py",
   "mimetype": "text/x-python",
   "name": "python",
   "nbconvert_exporter": "python",
   "pygments_lexer": "ipython3",
   "version": "3.10.11"
  },
  "orig_nbformat": 4
 },
 "nbformat": 4,
 "nbformat_minor": 2
}
