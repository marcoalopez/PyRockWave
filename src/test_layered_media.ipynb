{
 "cells": [
  {
   "cell_type": "code",
   "execution_count": 1,
   "metadata": {},
   "outputs": [
    {
     "name": "stdout",
     "output_type": "stream",
     "text": [
      "Mineral Elastic Database v.2024.2.01 imported\n"
     ]
    }
   ],
   "source": [
    "# import some some Python scientific libraries \n",
    "import numpy as np\n",
    "np.set_printoptions(suppress=True)\n",
    "\n",
    "# import the database\n",
    "import elastic_database as db"
   ]
  },
  {
   "cell_type": "code",
   "execution_count": 2,
   "metadata": {},
   "outputs": [],
   "source": [
    "%run layered_media.py"
   ]
  },
  {
   "cell_type": "code",
   "execution_count": 3,
   "metadata": {},
   "outputs": [],
   "source": [
    "fo = db.forsterite_Mao(P=1.8)\n",
    "pl = db.plagioclase('An37')"
   ]
  },
  {
   "cell_type": "code",
   "execution_count": 4,
   "metadata": {},
   "outputs": [
    {
     "data": {
      "text/plain": [
       "array([[310.33,  53.85,  67.18,   0.  ,   0.  ,   0.  ],\n",
       "       [ 53.85, 189.12,  78.3 ,   0.  ,   0.  ,   0.  ],\n",
       "       [ 67.18,  78.3 , 220.88,   0.  ,   0.  ,   0.  ],\n",
       "       [  0.  ,   0.  ,   0.  ,  60.23,   0.  ,   0.  ],\n",
       "       [  0.  ,   0.  ,   0.  ,   0.  ,  74.11,   0.  ],\n",
       "       [  0.  ,   0.  ,   0.  ,   0.  ,   0.  ,  73.78]])"
      ]
     },
     "execution_count": 4,
     "metadata": {},
     "output_type": "execute_result"
    }
   ],
   "source": [
    "fo.Cij"
   ]
  },
  {
   "cell_type": "code",
   "execution_count": 5,
   "metadata": {},
   "outputs": [
    {
     "data": {
      "text/plain": [
       "array([[ 96.2,  46.1,  38.4,   5.9,  -0.2,  -0.4],\n",
       "       [ 46.1, 189.4,  15.4,  -7. ,  -5.1,  -6.8],\n",
       "       [ 38.4,  15.4, 171.9,   2.2,   7.2,  -9.8],\n",
       "       [  5.9,  -7. ,   2.2,  23.6,  -1.1,  -4.8],\n",
       "       [ -0.2,  -5.1,   7.2,  -1.1,  33.1,   1.4],\n",
       "       [ -0.4,  -6.8,  -9.8,  -4.8,   1.4,  35.5]])"
      ]
     },
     "execution_count": 5,
     "metadata": {},
     "output_type": "execute_result"
    }
   ],
   "source": [
    "pl.Cij"
   ]
  },
  {
   "cell_type": "code",
   "execution_count": 6,
   "metadata": {},
   "outputs": [],
   "source": [
    "v1 = 0.45\n",
    "v2 = 0.55"
   ]
  },
  {
   "cell_type": "code",
   "execution_count": 7,
   "metadata": {},
   "outputs": [
    {
     "name": "stdout",
     "output_type": "stream",
     "text": [
      "Effective stiffness matrix:\n",
      " [[191.32   47.569  49.501   4.579   0.249  -0.411]\n",
      " [ 47.569 184.02   40.111  -5.093  -3.045  -4.659]\n",
      " [ 49.501  40.111 190.634   1.907   5.885  -5.976]\n",
      " [  4.579  -5.093   1.907  32.47   -1.147  -3.588]\n",
      " [  0.249  -3.045   5.885  -1.147  43.948   1.103]\n",
      " [ -0.411  -4.659  -5.976  -3.588   1.103  52.469]]\n",
      "\n",
      "Effective compliance matrix:\n",
      " [[ 0.0059 -0.0013 -0.0012 -0.0018  0.0001 -0.0003]\n",
      " [-0.0013  0.006  -0.0003  0.0023  0.001   0.0005]\n",
      " [-0.0012 -0.0003  0.0058 -0.0003 -0.0009  0.0011]\n",
      " [-0.0018  0.0023 -0.0003  0.0314  0.0009  0.004 ]\n",
      " [ 0.0001  0.001  -0.0009  0.0009  0.0229 -0.0009]\n",
      " [-0.0003  0.0005  0.0011  0.004  -0.0009  0.0193]]\n",
      "\n",
      "Effective stiffness from compliance matrix:\n",
      " [[189.213  39.426  41.668   8.674  -1.075  -2.491]\n",
      " [ 39.426 180.409  16.385 -10.104  -7.385  -3.183]\n",
      " [ 41.668  16.385 184.318   4.076   5.505 -10.951]\n",
      " [  8.674 -10.104   4.076  34.001  -0.991  -6.938]\n",
      " [ -1.075  -7.385   5.505  -0.991  44.242   2.01 ]\n",
      " [ -2.491  -3.183 -10.951  -6.938   2.01   53.942]]\n"
     ]
    }
   ],
   "source": [
    "eff_c, eff_s, eff_c_frm_s = schoenberg_muir_layered_medium(fo.Cij, pl.Cij, v1, v2)\n",
    "print(\"Effective stiffness matrix:\\n\", np.around(eff_c, 3))\n",
    "print(\"\")\n",
    "print(\"Effective compliance matrix:\\n\", np.around(eff_s, 4))\n",
    "print(\"\")\n",
    "print(\"Effective stiffness from compliance matrix:\\n\", np.around(eff_c_frm_s, 3))"
   ]
  },
  {
   "cell_type": "code",
   "execution_count": 8,
   "metadata": {},
   "outputs": [
    {
     "data": {
      "text/plain": [
       "array([[ 0.006, -0.001, -0.001, -0.001,  0.   , -0.   ],\n",
       "       [-0.001,  0.006, -0.001,  0.001,  0.001,  0.   ],\n",
       "       [-0.001, -0.001,  0.006, -0.   , -0.001,  0.001],\n",
       "       [-0.001,  0.001, -0.   ,  0.031,  0.001,  0.002],\n",
       "       [ 0.   ,  0.001, -0.001,  0.001,  0.023, -0.   ],\n",
       "       [-0.   ,  0.   ,  0.001,  0.002, -0.   ,  0.019]])"
      ]
     },
     "execution_count": 8,
     "metadata": {},
     "output_type": "execute_result"
    }
   ],
   "source": [
    "np.around(np.linalg.inv(eff_c), 3)"
   ]
  },
  {
   "cell_type": "markdown",
   "metadata": {},
   "source": [
    "---"
   ]
  },
  {
   "cell_type": "code",
   "execution_count": 9,
   "metadata": {},
   "outputs": [
    {
     "data": {
      "text/plain": [
       "array([[ 96.2,  46.1,  38.4,   5.9,  -0.2,  -0.4],\n",
       "       [ 46.1, 189.4,  15.4,  -7. ,  -5.1,  -6.8],\n",
       "       [ 38.4,  15.4, 171.9,   2.2,   7.2,  -9.8],\n",
       "       [  5.9,  -7. ,   2.2,  23.6,  -1.1,  -4.8],\n",
       "       [ -0.2,  -5.1,   7.2,  -1.1,  33.1,   1.4],\n",
       "       [ -0.4,  -6.8,  -9.8,  -4.8,   1.4,  35.5]])"
      ]
     },
     "execution_count": 9,
     "metadata": {},
     "output_type": "execute_result"
    }
   ],
   "source": [
    "pl.Cij"
   ]
  },
  {
   "cell_type": "code",
   "execution_count": 10,
   "metadata": {},
   "outputs": [
    {
     "data": {
      "text/plain": [
       "array([[171.9,   2.2,   7.2],\n",
       "       [  2.2,  23.6,  -1.1],\n",
       "       [  7.2,  -1.1,  33.1]])"
      ]
     },
     "execution_count": 10,
     "metadata": {},
     "output_type": "execute_result"
    }
   ],
   "source": [
    "# Cnn\n",
    "pl.Cij[2:5, 2:5]"
   ]
  },
  {
   "cell_type": "code",
   "execution_count": 11,
   "metadata": {},
   "outputs": [
    {
     "data": {
      "text/plain": [
       "array([[38.4,  5.9, -0.2],\n",
       "       [15.4, -7. , -5.1],\n",
       "       [-9.8, -4.8,  1.4]])"
      ]
     },
     "execution_count": 11,
     "metadata": {},
     "output_type": "execute_result"
    }
   ],
   "source": [
    "# Ctn\n",
    "pl.Cij[[0,1,5], 2:5]"
   ]
  },
  {
   "cell_type": "code",
   "execution_count": 12,
   "metadata": {},
   "outputs": [
    {
     "data": {
      "text/plain": [
       "array([[ 96.2,  46.1,  38.4],\n",
       "       [ 46.1, 189.4,  15.4],\n",
       "       [ -0.4,  -6.8,  -9.8]])"
      ]
     },
     "execution_count": 12,
     "metadata": {},
     "output_type": "execute_result"
    }
   ],
   "source": [
    "# Ctt\n",
    "pl.Cij[[0,1,5], 0:3]"
   ]
  },
  {
   "cell_type": "code",
   "execution_count": 13,
   "metadata": {},
   "outputs": [
    {
     "data": {
      "text/plain": [
       "array([[ 96.2,  46.1,  -0.4],\n",
       "       [ 46.1, 189.4,  -6.8],\n",
       "       [ -0.4,  -6.8,  35.5]])"
      ]
     },
     "execution_count": 13,
     "metadata": {},
     "output_type": "execute_result"
    }
   ],
   "source": [
    "np.array([[pl.Cij[0,0], pl.Cij[0,1], pl.Cij[0,5]], [pl.Cij[0,1], pl.Cij[1,1], pl.Cij[1,5]], [pl.Cij[0,5], pl.Cij[1,5], pl.Cij[5,5]]])"
   ]
  },
  {
   "cell_type": "code",
   "execution_count": 14,
   "metadata": {},
   "outputs": [
    {
     "data": {
      "text/plain": [
       "array([[ 96.2,  46.1,  -0.4],\n",
       "       [ 46.1, 189.4,  -6.8],\n",
       "       [ -0.4,  -6.8,  35.5]])"
      ]
     },
     "execution_count": 14,
     "metadata": {},
     "output_type": "execute_result"
    }
   ],
   "source": [
    "row_indices = np.array([0, 0, 0, 0, 1, 1, 0, 1, 5])\n",
    "col_indices = np.array([0, 1, 5, 1, 1, 5, 5, 5, 5])\n",
    "\n",
    "pl.Cij[row_indices, col_indices].reshape(3, 3)"
   ]
  },
  {
   "cell_type": "code",
   "execution_count": 15,
   "metadata": {},
   "outputs": [
    {
     "data": {
      "text/plain": [
       "array([[ 96.2,  46.1,  -0.4],\n",
       "       [ 46.1, 189.4,  -6.8],\n",
       "       [ -0.4,  -6.8,  35.5]])"
      ]
     },
     "execution_count": 15,
     "metadata": {},
     "output_type": "execute_result"
    }
   ],
   "source": [
    "row_indices = [0, 1, 5]\n",
    "col_indices = [0, 1, 5]\n",
    "\n",
    "pl.Cij[np.ix_(row_indices, col_indices)]"
   ]
  },
  {
   "cell_type": "markdown",
   "metadata": {},
   "source": [
    "---"
   ]
  },
  {
   "cell_type": "code",
   "execution_count": 16,
   "metadata": {},
   "outputs": [],
   "source": [
    "Cnn = np.array([[190.6342, 1.9067, 5.8847],\n",
    "                [  1.9067, 32.4701, -1.1466],\n",
    "                [  5.8847, -1.1466, 43.948 ]])\n",
    "\n",
    "Ctn = np.array([[49.5007, 4.5791, 0.249 ],\n",
    "                [40.1111, -5.093, -3.0449],\n",
    "                [-5.9755, -3.5877, 1.1028]])\n",
    "\n",
    "Ctt = np.array([[191.3203, 47.5692, -0.4109],\n",
    "                [ 47.5692, 184.0196, -4.6592],\n",
    "                [ -0.4109, -4.6592, 52.4687]])"
   ]
  },
  {
   "cell_type": "code",
   "execution_count": 17,
   "metadata": {},
   "outputs": [
    {
     "data": {
      "text/plain": [
       "array([[191.3203,  47.5692,  -0.4109,  49.5007,  40.1111,  -5.9755],\n",
       "       [ 47.5692, 184.0196,  -4.6592,   4.5791,  -5.093 ,  -3.5877],\n",
       "       [ -0.4109,  -4.6592,  52.4687,   0.249 ,  -3.0449,   1.1028],\n",
       "       [ 49.5007,   4.5791,   0.249 , 190.6342,   1.9067,   5.8847],\n",
       "       [ 40.1111,  -5.093 ,  -3.0449,   1.9067,  32.4701,  -1.1466],\n",
       "       [ -5.9755,  -3.5877,   1.1028,   5.8847,  -1.1466,  43.948 ]])"
      ]
     },
     "execution_count": 17,
     "metadata": {},
     "output_type": "execute_result"
    }
   ],
   "source": [
    " # Assemble the effective stiffness matrix\n",
    "effective_stiffness = np.zeros((6, 6))\n",
    "effective_stiffness[:3, :3] = Ctt[:3, :3]\n",
    "effective_stiffness[3:, 3:] = Cnn[:3, :3]\n",
    "effective_stiffness[:3, 3:] = Ctn[:3, :3].T\n",
    "effective_stiffness[3:, :3] = Ctn[:3, :3]\n",
    "\n",
    "effective_stiffness"
   ]
  },
  {
   "cell_type": "code",
   "execution_count": 18,
   "metadata": {},
   "outputs": [
    {
     "data": {
      "text/plain": [
       "array([[191.3203,  47.5692,  -0.4109,  49.5007,   4.5791,   0.249 ],\n",
       "       [ 47.5692, 184.0196,  -4.6592,  40.1111,  -5.093 ,  -3.0449],\n",
       "       [ -0.4109,  -4.6592,  52.4687,  -5.9755,  -3.5877,   1.1028],\n",
       "       [ 49.5007,  40.1111,  -5.9755, 190.6342,   1.9067,   5.8847],\n",
       "       [  4.5791,  -5.093 ,  -3.5877,   1.9067,  32.4701,  -1.1466],\n",
       "       [  0.249 ,  -3.0449,   1.1028,   5.8847,  -1.1466,  43.948 ]])"
      ]
     },
     "execution_count": 18,
     "metadata": {},
     "output_type": "execute_result"
    }
   ],
   "source": [
    "np.block([\n",
    "        [Ctt, Ctn],\n",
    "        [Ctn.T, Cnn]\n",
    "    ])"
   ]
  },
  {
   "cell_type": "code",
   "execution_count": 19,
   "metadata": {},
   "outputs": [
    {
     "data": {
      "text/plain": [
       "array([[191.3203,  47.5692,  49.5007,   4.5791,   0.249 ,  -0.4109],\n",
       "       [191.3203,  47.5692,  49.5007,   4.5791,   0.249 ,  -0.4109],\n",
       "       [ 49.5007,  -5.093 , 190.6342,   1.9067,   5.8847,  -3.0449],\n",
       "       [  4.5791,   4.5791,   1.9067,   0.    ,   0.    ,   0.    ],\n",
       "       [  0.249 ,   0.249 ,   5.8847,   0.    ,   0.    ,   0.    ],\n",
       "       [ -0.4109,  -0.4109,  -3.0449,   0.    ,   0.    ,  52.4687]])"
      ]
     },
     "execution_count": 19,
     "metadata": {},
     "output_type": "execute_result"
    }
   ],
   "source": [
    "# Effective stiffness tensor in full Voigt notation\n",
    "eff_c = np.zeros((6, 6))\n",
    "eff_c[0, 0] = Ctt[0, 0]\n",
    "eff_c[0, 1] = Ctt[0, 1]\n",
    "eff_c[0, 2] = Ctn[0, 0]\n",
    "eff_c[0, 3] = Ctn[0, 1]\n",
    "eff_c[0, 4] = Ctn[0, 2]\n",
    "eff_c[0, 5] = Ctt[0, 2]\n",
    "eff_c[1, :] = eff_c[0, :]  # Due to symmetry\n",
    "eff_c[2, 0] = Ctn[0, 0]\n",
    "eff_c[2, 1] = Ctn[1, 1]\n",
    "eff_c[2, 2] = Cnn[0, 0]\n",
    "eff_c[2, 3] = Cnn[0, 1]\n",
    "eff_c[2, 4] = Cnn[0, 2]\n",
    "eff_c[2, 5] = Ctn[1, 2]\n",
    "eff_c[3:, :] = eff_c[:, 3:].T  # Due to symmetry\n",
    "eff_c[5, 5] = Ctt[2, 2]\n",
    "\n",
    "eff_c"
   ]
  },
  {
   "cell_type": "code",
   "execution_count": 20,
   "metadata": {},
   "outputs": [
    {
     "data": {
      "text/plain": [
       "array([[191.3203,  47.5692,  49.5007,   4.5791,   0.249 ,  -0.4109],\n",
       "       [ 47.5692, 184.0196,  40.1111,  -5.093 ,  -3.0449,  -4.6592],\n",
       "       [ 49.5007,  40.1111, 190.6342,   1.9067,   5.8847,  -5.9755],\n",
       "       [  4.5791,  -5.093 ,   1.9067,  32.4701,  -1.1466,  -3.5877],\n",
       "       [  0.249 ,  -3.0449,   5.8847,  -1.1466,  43.948 ,   1.1028],\n",
       "       [ -0.4109,  -4.6592,  -5.9755,  -3.5877,   1.1028,  52.4687]])"
      ]
     },
     "execution_count": 20,
     "metadata": {},
     "output_type": "execute_result"
    }
   ],
   "source": [
    "eff_c = np.array(\n",
    "    [\n",
    "        [Ctt[0, 0], Ctt[0, 1], Ctn[0, 0], Ctn[0, 1], Ctn[0, 2], Ctt[0, 2]],\n",
    "        [Ctt[1, 0], Ctt[1, 1], Ctn[1, 0], Ctn[1, 1], Ctn[1, 2], Ctt[1, 2]],\n",
    "        [Ctn[0, 0], Ctn[1, 0], Cnn[0, 0], Cnn[1, 0], Cnn[0, 2], Ctn[2, 0]],\n",
    "        [Ctn[0, 1], Ctn[1, 1], Cnn[1, 0], Cnn[1, 1], Cnn[1, 2], Ctn[2, 1]],\n",
    "        [Ctn[0, 2], Ctn[1, 2], Cnn[0, 2], Cnn[1, 2], Cnn[2, 2], Ctn[2, 2]],\n",
    "        [Ctt[0, 2], Ctt[1, 2], Ctn[2, 0], Ctn[2, 1], Ctn[2, 2], Ctt[2, 2]],\n",
    "    ]\n",
    ")\n",
    "\n",
    "eff_c\n"
   ]
  },
  {
   "cell_type": "code",
   "execution_count": 21,
   "metadata": {},
   "outputs": [
    {
     "data": {
      "text/plain": [
       "array([[191.3203,  47.5692,  49.5007,   4.5791,   0.249 ,  -0.4109],\n",
       "       [ 47.5692, 184.0196,  40.1111,  -5.093 ,  -3.0449,  -4.6592],\n",
       "       [ 49.5007,  40.1111, 190.6342,   1.9067,   5.8847,  -5.9755],\n",
       "       [  4.5791,  -5.093 ,   1.9067,  32.4701,  -1.1466,  -3.5877],\n",
       "       [  0.249 ,  -3.0449,   5.8847,  -1.1466,  43.948 ,   1.1028],\n",
       "       [ -0.4109,  -4.6592,  -5.9755,  -3.5877,   1.1028,  52.4687]])"
      ]
     },
     "execution_count": 21,
     "metadata": {},
     "output_type": "execute_result"
    }
   ],
   "source": [
    "# Effective stiffness tensor in full Voigt notation\n",
    "eff_c = np.zeros((6, 6))\n",
    "eff_c[0, 0] = Ctt[0, 0]\n",
    "eff_c[1, 1] = Ctt[1, 1]\n",
    "eff_c[2, 2] = Cnn[0, 0]\n",
    "eff_c[3, 3] = Cnn[1, 1]\n",
    "eff_c[4, 4] = Cnn[2, 2]\n",
    "eff_c[5, 5] = Ctt[2, 2]\n",
    "\n",
    "eff_c[0, 1] = Ctt[0,1]\n",
    "eff_c[0, 2] = Ctn[0,0]\n",
    "eff_c[0, 3] = Ctn[0,1]\n",
    "eff_c[0, 4] = Ctn[0,2]\n",
    "eff_c[0, 5] = Ctt[0,2]\n",
    "eff_c[1, 2] = Ctn[1,0]\n",
    "eff_c[1, 3] = Ctn[1,1]\n",
    "eff_c[1, 4] = Ctn[1,2]\n",
    "eff_c[1, 5] = Ctt[1,2]\n",
    "eff_c[2, 3] = Cnn[1,0]\n",
    "eff_c[2, 4] = Cnn[0,2]\n",
    "eff_c[2, 5] = Ctn[2,0]\n",
    "eff_c[3, 4] = Cnn[1,2]\n",
    "eff_c[3, 5] = Ctn[2,1]\n",
    "eff_c[4, 5] = Ctn[2,2]\n",
    "\n",
    "# Symmetrize the tensor\n",
    "eff_c2 = eff_c.copy()\n",
    "np.fill_diagonal(eff_c2, 0)\n",
    "eff_c = eff_c + eff_c2.T\n",
    "\n",
    "eff_c"
   ]
  },
  {
   "cell_type": "code",
   "execution_count": null,
   "metadata": {},
   "outputs": [],
   "source": []
  }
 ],
 "metadata": {
  "kernelspec": {
   "display_name": "main",
   "language": "python",
   "name": "python3"
  },
  "language_info": {
   "codemirror_mode": {
    "name": "ipython",
    "version": 3
   },
   "file_extension": ".py",
   "mimetype": "text/x-python",
   "name": "python",
   "nbconvert_exporter": "python",
   "pygments_lexer": "ipython3",
   "version": "3.10.13"
  }
 },
 "nbformat": 4,
 "nbformat_minor": 2
}
