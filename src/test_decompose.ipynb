{
 "cells": [
  {
   "cell_type": "markdown",
   "metadata": {},
   "source": [
    "# Understanding and testing decompose functions\n",
    "\n",
    "Premise: Any triclinic vector X in a given 3-D cartesian coordinate system can be decomposed by a cascade of projections into a sum of vectors belonging to the different symmetry classes: $X = X_{tric} + X_{mon} + X_{ort} + X_{tet} + X_{hex} + X_{iso}$."
   ]
  },
  {
   "cell_type": "code",
   "execution_count": 1,
   "metadata": {},
   "outputs": [],
   "source": [
    "import numpy as np\n",
    "np.set_printoptions(suppress=True)\n",
    "from decompose import *"
   ]
  },
  {
   "cell_type": "markdown",
   "metadata": {},
   "source": [
    "## Test using the Olivine data"
   ]
  },
  {
   "cell_type": "code",
   "execution_count": 2,
   "metadata": {},
   "outputs": [],
   "source": [
    "# Elastic stiffness tensor of Olivine used in Browaeys and Chevrot (2004)\n",
    "Cij = np.array(\n",
    "    [[192,  66,  60, 0.0, 0.0, 0.0],\n",
    "    [  66, 160,  56, 0.0, 0.0, 0.0],\n",
    "    [  60,  56, 272, 0.0, 0.0, 0.0],\n",
    "    [ 0.0, 0.0, 0.0,  60, 0.0, 0.0],\n",
    "    [ 0.0, 0.0, 0.0, 0.0,  62, 0.0],\n",
    "    [ 0.0, 0.0, 0.0, 0.0, 0.0,  49]])"
   ]
  },
  {
   "cell_type": "code",
   "execution_count": 3,
   "metadata": {},
   "outputs": [
    {
     "data": {
      "text/plain": [
       "{'isotropic': array([[194.67,  67.33,  67.33,   0.  ,   0.  ,   0.  ],\n",
       "        [ 67.33, 194.67,  67.33,   0.  ,   0.  ,   0.  ],\n",
       "        [ 67.33,  67.33, 194.67,   0.  ,   0.  ,   0.  ],\n",
       "        [  0.  ,   0.  ,   0.  ,  63.67,   0.  ,   0.  ],\n",
       "        [  0.  ,   0.  ,   0.  ,   0.  ,  63.67,   0.  ],\n",
       "        [  0.  ,   0.  ,   0.  ,   0.  ,   0.  ,  63.67]]),\n",
       " 'hexagonal': array([[-21.67,   1.67,  -9.33,   0.  ,   0.  ,   0.  ],\n",
       "        [  1.67, -21.67,  -9.33,   0.  ,   0.  ,   0.  ],\n",
       "        [ -9.33,  -9.33,  77.33,   0.  ,   0.  ,   0.  ],\n",
       "        [  0.  ,   0.  ,   0.  ,  -2.67,   0.  ,   0.  ],\n",
       "        [  0.  ,   0.  ,   0.  ,   0.  ,  -2.67,   0.  ],\n",
       "        [  0.  ,   0.  ,   0.  ,   0.  ,   0.  , -11.67]]),\n",
       " 'tetragonal': array([[ 3., -3.,  0.,  0.,  0.,  0.],\n",
       "        [-3.,  3.,  0.,  0.,  0.,  0.],\n",
       "        [ 0.,  0.,  0.,  0.,  0.,  0.],\n",
       "        [ 0.,  0.,  0., -0.,  0.,  0.],\n",
       "        [ 0.,  0.,  0.,  0., -0.,  0.],\n",
       "        [ 0.,  0.,  0.,  0.,  0., -3.]]),\n",
       " 'orthorhombic': array([[ 16.,   0.,   2.,   0.,   0.,   0.],\n",
       "        [  0., -16.,  -2.,   0.,   0.,   0.],\n",
       "        [  2.,  -2.,   0.,   0.,   0.,   0.],\n",
       "        [  0.,   0.,   0.,  -1.,   0.,   0.],\n",
       "        [  0.,   0.,   0.,   0.,   1.,   0.],\n",
       "        [  0.,   0.,   0.,   0.,   0.,  -0.]]),\n",
       " 'monoclinic': array([[ 0.,  0.,  0.,  0.,  0.,  0.],\n",
       "        [ 0.,  0.,  0.,  0.,  0.,  0.],\n",
       "        [ 0.,  0.,  0.,  0.,  0.,  0.],\n",
       "        [ 0.,  0.,  0., -0.,  0.,  0.],\n",
       "        [ 0.,  0.,  0.,  0., -0.,  0.],\n",
       "        [ 0.,  0.,  0.,  0.,  0., -0.]]),\n",
       " 'remainder': array([[0., 0., 0., 0., 0., 0.],\n",
       "        [0., 0., 0., 0., 0., 0.],\n",
       "        [0., 0., 0., 0., 0., 0.],\n",
       "        [0., 0., 0., 0., 0., 0.],\n",
       "        [0., 0., 0., 0., 0., 0.],\n",
       "        [0., 0., 0., 0., 0., 0.]])}"
      ]
     },
     "execution_count": 3,
     "metadata": {},
     "output_type": "execute_result"
    }
   ],
   "source": [
    "# decompose tensor\n",
    "olivine = decompose_Cij(Cij)\n",
    "\n",
    "# show\n",
    "olivine"
   ]
  },
  {
   "cell_type": "code",
   "execution_count": 4,
   "metadata": {},
   "outputs": [
    {
     "data": {
      "text/plain": [
       "array([[-21.7,   1.7,  -9.3,   0. ,   0. ,   0. ],\n",
       "       [  1.7, -21.7,  -9.3,   0. ,   0. ,   0. ],\n",
       "       [ -9.3,  -9.3,  77.3,   0. ,   0. ,   0. ],\n",
       "       [  0. ,   0. ,   0. ,  -2.7,   0. ,   0. ],\n",
       "       [  0. ,   0. ,   0. ,   0. ,  -2.7,   0. ],\n",
       "       [  0. ,   0. ,   0. ,   0. ,   0. , -11.7]])"
      ]
     },
     "execution_count": 4,
     "metadata": {},
     "output_type": "execute_result"
    }
   ],
   "source": [
    "np.around(olivine['hexagonal'], decimals=1)"
   ]
  },
  {
   "cell_type": "code",
   "execution_count": 5,
   "metadata": {},
   "outputs": [
    {
     "data": {
      "text/plain": [
       "array([[192.,  66.,  60.,   0.,   0.,   0.],\n",
       "       [ 66., 160.,  56.,   0.,   0.,   0.],\n",
       "       [ 60.,  56., 272.,   0.,   0.,   0.],\n",
       "       [  0.,   0.,   0.,  60.,   0.,   0.],\n",
       "       [  0.,   0.,   0.,   0.,  62.,   0.],\n",
       "       [  0.,   0.,   0.,   0.,   0.,  49.]])"
      ]
     },
     "execution_count": 5,
     "metadata": {},
     "output_type": "execute_result"
    }
   ],
   "source": [
    "Cij"
   ]
  },
  {
   "cell_type": "code",
   "execution_count": 6,
   "metadata": {},
   "outputs": [
    {
     "data": {
      "text/plain": [
       "array([[192.,  66.,  60.,   0.,   0.,   0.],\n",
       "       [ 66., 160.,  56.,   0.,   0.,   0.],\n",
       "       [ 60.,  56., 272.,   0.,   0.,   0.],\n",
       "       [  0.,   0.,   0.,  60.,   0.,   0.],\n",
       "       [  0.,   0.,   0.,   0.,  62.,   0.],\n",
       "       [  0.,   0.,   0.,   0.,   0.,  49.]])"
      ]
     },
     "execution_count": 6,
     "metadata": {},
     "output_type": "execute_result"
    }
   ],
   "source": [
    "olivine['orthorhombic'] + olivine['tetragonal'] + np.around(olivine['hexagonal'], decimals=1) + np.around(olivine['isotropic'], decimals=1)"
   ]
  },
  {
   "cell_type": "code",
   "execution_count": 7,
   "metadata": {},
   "outputs": [
    {
     "data": {
      "text/plain": [
       "array([192.        , 160.        , 272.        ,  79.19595949,\n",
       "        84.85281374,  93.33809512, 120.        , 124.        ,\n",
       "        98.        ,   0.        ,   0.        ,   0.        ,\n",
       "         0.        ,   0.        ,   0.        ,   0.        ,\n",
       "         0.        ,   0.        ,   0.        ,   0.        ,\n",
       "         0.        ])"
      ]
     },
     "execution_count": 7,
     "metadata": {},
     "output_type": "execute_result"
    }
   ],
   "source": [
    "tensor_to_vector(Cij)"
   ]
  },
  {
   "cell_type": "code",
   "execution_count": 8,
   "metadata": {},
   "outputs": [
    {
     "data": {
      "text/plain": [
       "array([192.        , 160.        , 272.        ,  79.19595949,\n",
       "        84.85281374,  93.33809512, 120.        , 124.        ,\n",
       "        98.        ,   0.        ,   0.        ,   0.        ,\n",
       "         0.        ,   0.        ,   0.        ,   0.        ,\n",
       "         0.        ,   0.        ,   0.        ,   0.        ,\n",
       "         0.        ])"
      ]
     },
     "execution_count": 8,
     "metadata": {},
     "output_type": "execute_result"
    }
   ],
   "source": [
    "sum_vector = (tensor_to_vector(olivine['orthorhombic']) +\n",
    "              tensor_to_vector(olivine['tetragonal']) +\n",
    "              tensor_to_vector(olivine['hexagonal']) +\n",
    "              tensor_to_vector(olivine['isotropic']))\n",
    "sum_vector "
   ]
  },
  {
   "cell_type": "markdown",
   "metadata": {},
   "source": [
    "### Estimate the percentages of the norm of the different symmetry classes\n",
    "\n",
    "The different elastic symmetry parts of the tensor can be presented as percentages of the norm of the elastic tensor using the following convention:\n",
    "\n",
    "$$\n",
    "percent = 100 \\frac{[N^2(X_{tric}) + N^2(X_{mon}) + N^2(X_{ort}) + N^2(X_{tet}) + N^2(X_{hex}) + N^2(X_{iso})]}{N^2(X)}\n",
    "$$\n",
    "\n",
    "These norms are defined by the square root of the scalar product (i.e. dot product) of vectors. I have a norm defined by \n",
    "\n",
    "$$\n",
    "N(c) = \\sqrt{\\langle X, X \\rangle} = N(X)\n",
    "$$\n",
    "\n",
    "This is the Euclidean norm which is equivalent to:\n",
    "\n",
    "$$\n",
    "N(X) = \\sqrt{x_1^2 + x_2^2 + ... + x_{21}^2}\n",
    "$$\n",
    "\n",
    "These are the different common ways of estimate the Euclidean norm using numpy:\n"
   ]
  },
  {
   "cell_type": "code",
   "execution_count": 9,
   "metadata": {},
   "outputs": [
    {
     "data": {
      "text/plain": [
       "444.98539301869226"
      ]
     },
     "execution_count": 9,
     "metadata": {},
     "output_type": "execute_result"
    }
   ],
   "source": [
    "# using linalg.norm\n",
    "np.linalg.norm(sum_vector)"
   ]
  },
  {
   "cell_type": "code",
   "execution_count": 10,
   "metadata": {},
   "outputs": [
    {
     "data": {
      "text/plain": [
       "444.98539301869226"
      ]
     },
     "execution_count": 10,
     "metadata": {},
     "output_type": "execute_result"
    }
   ],
   "source": [
    "np.sqrt(np.sum(sum_vector**2))"
   ]
  },
  {
   "cell_type": "code",
   "execution_count": 11,
   "metadata": {},
   "outputs": [
    {
     "data": {
      "text/plain": [
       "444.98539301869226"
      ]
     },
     "execution_count": 11,
     "metadata": {},
     "output_type": "execute_result"
    }
   ],
   "source": [
    "# using the dot product inside the sqrt\n",
    "np.sqrt(np.dot(sum_vector, sum_vector))"
   ]
  },
  {
   "cell_type": "markdown",
   "metadata": {},
   "source": [
    "For estimating the percentages they use the square of the norm which if I understand correctly will be as follows (?)"
   ]
  },
  {
   "cell_type": "code",
   "execution_count": 12,
   "metadata": {},
   "outputs": [
    {
     "data": {
      "text/plain": [
       "198012.00000000003"
      ]
     },
     "execution_count": 12,
     "metadata": {},
     "output_type": "execute_result"
    }
   ],
   "source": [
    "np.linalg.norm(tensor_to_vector(Cij))**2"
   ]
  },
  {
   "cell_type": "code",
   "execution_count": 13,
   "metadata": {},
   "outputs": [],
   "source": [
    "# Calculate squared norms for each symmetry class using the decomposed vectorr\n",
    "norm_squared_X = np.linalg.norm(tensor_to_vector(Cij))**2\n",
    "norm_squared_isotropic = np.linalg.norm(tensor_to_vector(olivine['isotropic']))**2\n",
    "norm_squared_hexagonal = np.linalg.norm(tensor_to_vector(olivine['hexagonal']))**2\n",
    "norm_squared_tetragonal = np.linalg.norm(tensor_to_vector(olivine['tetragonal']))**2\n",
    "norm_squared_orthorhombic = np.linalg.norm(tensor_to_vector(olivine['orthorhombic']))**2\n",
    "norm_squared_monoclinic = np.linalg.norm(tensor_to_vector(olivine['monoclinic']))**2\n",
    "norm_squared_remainder = np.linalg.norm(tensor_to_vector(olivine['remainder']))**2\n",
    "sumaX_squared = norm_squared_isotropic + norm_squared_hexagonal + norm_squared_tetragonal + norm_squared_orthorhombic + norm_squared_monoclinic + norm_squared_remainder"
   ]
  },
  {
   "cell_type": "code",
   "execution_count": 14,
   "metadata": {},
   "outputs": [
    {
     "data": {
      "text/plain": [
       "95.71926292345915"
      ]
     },
     "execution_count": 14,
     "metadata": {},
     "output_type": "execute_result"
    }
   ],
   "source": [
    "100 * (norm_squared_isotropic / norm_squared_X)"
   ]
  },
  {
   "cell_type": "code",
   "execution_count": 15,
   "metadata": {},
   "outputs": [
    {
     "data": {
      "text/plain": [
       "95.71622058890803"
      ]
     },
     "execution_count": 15,
     "metadata": {},
     "output_type": "execute_result"
    }
   ],
   "source": [
    "100 * (norm_squared_isotropic / sumaX_squared)"
   ]
  },
  {
   "cell_type": "code",
   "execution_count": 16,
   "metadata": {},
   "outputs": [
    {
     "data": {
      "text/plain": [
       "(198018.29379999998, 198012.00000000003)"
      ]
     },
     "execution_count": 16,
     "metadata": {},
     "output_type": "execute_result"
    }
   ],
   "source": [
    "sumaX_squared, norm_squared_X"
   ]
  },
  {
   "cell_type": "code",
   "execution_count": 17,
   "metadata": {},
   "outputs": [
    {
     "name": "stdout",
     "output_type": "stream",
     "text": [
      "Based on vector squared norms\n",
      " isotropic:   95.72 %\n",
      " hexagonal:    3.98 %\n",
      " tetragonal:   0.04 %\n",
      " orthorhombic: 0.27 %\n",
      " monoclinic:   0.00 %\n",
      " others:       0.00 %\n"
     ]
    }
   ],
   "source": [
    "# Calculate squared norms for each symmetry class using the decomposed vector\n",
    "print(\"Based on vector squared norms\\n\",\n",
    "      f\"isotropic:   {100 * norm_squared_isotropic / sumaX_squared:.2f} %\\n\",\n",
    "      f\"hexagonal:    {100 * norm_squared_hexagonal / sumaX_squared:.2f} %\\n\",\n",
    "      f\"tetragonal:   {100 * norm_squared_tetragonal / sumaX_squared:.2f} %\\n\",\n",
    "      f\"orthorhombic: {100 * norm_squared_orthorhombic / sumaX_squared:.2f} %\\n\",\n",
    "      f\"monoclinic:   {100 * norm_squared_monoclinic / sumaX_squared:.2f} %\\n\",\n",
    "      f\"others:       {100 * norm_squared_remainder / sumaX_squared:.2f} %\")"
   ]
  },
  {
   "cell_type": "code",
   "execution_count": 18,
   "metadata": {},
   "outputs": [],
   "source": [
    "# Calculate non-squared norms for each symmetry class using the decomposed vector\n",
    "norm_X = np.linalg.norm(tensor_to_vector(Cij))\n",
    "norm_isotropic = np.linalg.norm(tensor_to_vector(olivine['isotropic']))\n",
    "norm_hexagonal = np.linalg.norm(tensor_to_vector(olivine['hexagonal']))\n",
    "norm_tetragonal = np.linalg.norm(tensor_to_vector(olivine['tetragonal']))\n",
    "norm_orthorhombic = np.linalg.norm(tensor_to_vector(olivine['orthorhombic']))\n",
    "norm_monoclinic = np.linalg.norm(tensor_to_vector(olivine['monoclinic']))\n",
    "norm_remainder = np.linalg.norm(tensor_to_vector(olivine['remainder']))\n",
    "sumaX = norm_isotropic + norm_hexagonal + norm_tetragonal + norm_orthorhombic + norm_monoclinic + norm_remainder"
   ]
  },
  {
   "cell_type": "code",
   "execution_count": 19,
   "metadata": {},
   "outputs": [
    {
     "data": {
      "text/plain": [
       "97.83622178082061"
      ]
     },
     "execution_count": 19,
     "metadata": {},
     "output_type": "execute_result"
    }
   ],
   "source": [
    "100 * (norm_isotropic / norm_X)"
   ]
  },
  {
   "cell_type": "code",
   "execution_count": 20,
   "metadata": {},
   "outputs": [
    {
     "data": {
      "text/plain": [
       "78.3391956141678"
      ]
     },
     "execution_count": 20,
     "metadata": {},
     "output_type": "execute_result"
    }
   ],
   "source": [
    "100 * (norm_isotropic / sumaX)"
   ]
  },
  {
   "cell_type": "code",
   "execution_count": 21,
   "metadata": {},
   "outputs": [
    {
     "name": "stdout",
     "output_type": "stream",
     "text": [
      "Based on vector non-squared norms\n",
      " isotropic:   78.34 %\n",
      " hexagonal:   15.97 %\n",
      " tetragonal:   1.53 %\n",
      " orthorhombic: 4.17 %\n",
      " monoclinic:   0.00 %\n",
      " others:       0.00 %\n"
     ]
    }
   ],
   "source": [
    "print(\"Based on vector non-squared norms\\n\",\n",
    "      f\"isotropic:   {100 * norm_isotropic / sumaX:.2f} %\\n\",\n",
    "      f\"hexagonal:   {100 * norm_hexagonal / sumaX:.2f} %\\n\",\n",
    "      f\"tetragonal:   {100 * norm_tetragonal / sumaX:.2f} %\\n\",\n",
    "      f\"orthorhombic: {100 * norm_orthorhombic / sumaX:.2f} %\\n\",\n",
    "      f\"monoclinic:   {100 * norm_monoclinic / sumaX:.2f} %\\n\",\n",
    "      f\"others:       {100 * norm_remainder / sumaX:.2f} %\")"
   ]
  },
  {
   "cell_type": "code",
   "execution_count": 22,
   "metadata": {},
   "outputs": [
    {
     "data": {
      "text/plain": [
       "{'isotropic': 78.34,\n",
       " 'hexagonal': 15.97,\n",
       " 'tetragonal': 1.53,\n",
       " 'orthorhombic': 4.17,\n",
       " 'monoclinic': 0.0,\n",
       " 'remainder': 0.0,\n",
       " 'anisotropic': 21.66}"
      ]
     },
     "execution_count": 22,
     "metadata": {},
     "output_type": "execute_result"
    }
   ],
   "source": [
    "# This is the method currently implemented in the script\n",
    "calc_percentages(olivine)"
   ]
  },
  {
   "cell_type": "code",
   "execution_count": 23,
   "metadata": {},
   "outputs": [],
   "source": [
    "# Calculate squared norms for each symmetry class using the decomposed tensors\n",
    "norm_squared_C = np.linalg.norm(Cij)**2\n",
    "normC_squared_isotropic = np.linalg.norm(olivine['isotropic'])**2\n",
    "normC_squared_hexagonal = np.linalg.norm(olivine['hexagonal'])**2\n",
    "normC_squared_tetragonal = np.linalg.norm(olivine['tetragonal'])**2\n",
    "normC_squared_orthorhombic = np.linalg.norm(olivine['orthorhombic'])**2\n",
    "normC_squared_monoclinic = np.linalg.norm(olivine['monoclinic'])**2\n",
    "normC_squared_remainder = np.linalg.norm(olivine['remainder'])**2\n",
    "sumaC_squared = normC_squared_isotropic + normC_squared_hexagonal + normC_squared_tetragonal + normC_squared_orthorhombic + normC_squared_monoclinic + normC_squared_remainder"
   ]
  },
  {
   "cell_type": "code",
   "execution_count": 24,
   "metadata": {},
   "outputs": [
    {
     "data": {
      "text/plain": [
       "90.84373938282378"
      ]
     },
     "execution_count": 24,
     "metadata": {},
     "output_type": "execute_result"
    }
   ],
   "source": [
    "100 * (normC_squared_isotropic / norm_squared_C)"
   ]
  },
  {
   "cell_type": "code",
   "execution_count": 25,
   "metadata": {},
   "outputs": [
    {
     "data": {
      "text/plain": [
       "95.03361078621785"
      ]
     },
     "execution_count": 25,
     "metadata": {},
     "output_type": "execute_result"
    }
   ],
   "source": [
    "100 * (normC_squared_isotropic / sumaC_squared)"
   ]
  },
  {
   "cell_type": "code",
   "execution_count": 26,
   "metadata": {},
   "outputs": [
    {
     "data": {
      "text/plain": [
       "(161049.13360000003, 168477.0)"
      ]
     },
     "execution_count": 26,
     "metadata": {},
     "output_type": "execute_result"
    }
   ],
   "source": [
    "sumaC_squared, norm_squared_C"
   ]
  },
  {
   "cell_type": "code",
   "execution_count": 27,
   "metadata": {},
   "outputs": [
    {
     "name": "stdout",
     "output_type": "stream",
     "text": [
      "Based on tensor squared norms\n",
      " isotropic:   95.03 %\n",
      " hexagonal:    4.61 %\n",
      " tetragonal:   0.03 %\n",
      " orthorhombic: 0.33 %\n",
      " monoclinic:   0.00 %\n",
      " others:       0.00 %\n"
     ]
    }
   ],
   "source": [
    "print(\"Based on tensor squared norms\\n\",\n",
    "      f\"isotropic:   {100 * normC_squared_isotropic / sumaC_squared:.2f} %\\n\",\n",
    "      f\"hexagonal:    {100 * normC_squared_hexagonal / sumaC_squared:.2f} %\\n\",\n",
    "      f\"tetragonal:   {100 * normC_squared_tetragonal / sumaC_squared:.2f} %\\n\",\n",
    "      f\"orthorhombic: {100 * normC_squared_orthorhombic / sumaC_squared:.2f} %\\n\",\n",
    "      f\"monoclinic:   {100 * normC_squared_monoclinic / sumaC_squared:.2f} %\\n\",\n",
    "      f\"others:       {100 * normC_squared_remainder / sumaC_squared:.2f} %\")"
   ]
  },
  {
   "cell_type": "code",
   "execution_count": 28,
   "metadata": {},
   "outputs": [],
   "source": [
    "# Calculate the non-squared norms for each symmetry class using the decomposed tensors\n",
    "norm_C = np.linalg.norm(Cij)\n",
    "normC_isotropic = np.linalg.norm(olivine['isotropic'])\n",
    "normC_hexagonal = np.linalg.norm(olivine['hexagonal'])\n",
    "normC_tetragonal = np.linalg.norm(olivine['tetragonal'])\n",
    "normC_orthorhombic = np.linalg.norm(olivine['orthorhombic'])\n",
    "normC_monoclinic = np.linalg.norm(olivine['monoclinic'])\n",
    "normC_remainder = np.linalg.norm(olivine['remainder'])\n",
    "sumaC = normC_isotropic + normC_hexagonal + normC_tetragonal + normC_orthorhombic + normC_monoclinic + normC_remainder\n"
   ]
  },
  {
   "cell_type": "code",
   "execution_count": 29,
   "metadata": {},
   "outputs": [
    {
     "data": {
      "text/plain": [
       "95.31198213384494"
      ]
     },
     "execution_count": 29,
     "metadata": {},
     "output_type": "execute_result"
    }
   ],
   "source": [
    "100 * (normC_isotropic / norm_C)"
   ]
  },
  {
   "cell_type": "code",
   "execution_count": 30,
   "metadata": {},
   "outputs": [
    {
     "data": {
      "text/plain": [
       "77.14704206471255"
      ]
     },
     "execution_count": 30,
     "metadata": {},
     "output_type": "execute_result"
    }
   ],
   "source": [
    "100 * (normC_isotropic / sumaC)"
   ]
  },
  {
   "cell_type": "code",
   "execution_count": 31,
   "metadata": {},
   "outputs": [
    {
     "name": "stdout",
     "output_type": "stream",
     "text": [
      "Based on tensor squared norms\n",
      " isotropic:   77.15 %\n",
      " hexagonal:   16.99 %\n",
      " tetragonal:   1.32 %\n",
      " orthorhombic: 4.54 %\n",
      " monoclinic:   0.00 %\n",
      " others:       0.00 %\n"
     ]
    }
   ],
   "source": [
    "print(\"Based on tensor squared norms\\n\",\n",
    "      f\"isotropic:   {100 * normC_isotropic / sumaC:.2f} %\\n\",\n",
    "      f\"hexagonal:   {100 * normC_hexagonal / sumaC:.2f} %\\n\",\n",
    "      f\"tetragonal:   {100 * normC_tetragonal / sumaC:.2f} %\\n\",\n",
    "      f\"orthorhombic: {100 * normC_orthorhombic / sumaC:.2f} %\\n\",\n",
    "      f\"monoclinic:   {100 * normC_monoclinic / sumaC:.2f} %\\n\",\n",
    "      f\"others:       {100 * normC_remainder / sumaC:.2f} %\")"
   ]
  },
  {
   "cell_type": "markdown",
   "metadata": {},
   "source": [
    "## Test using the Enstatite data"
   ]
  },
  {
   "cell_type": "code",
   "execution_count": 32,
   "metadata": {},
   "outputs": [],
   "source": [
    "# Elastic stiffness tensor of Enstatite used in Browaeys and Chevrot (2004)\n",
    "Cij = np.array(\n",
    "    [[225,  54,  72, 0.0, 0.0, 0.0],\n",
    "    [  54, 214,  53, 0.0, 0.0, 0.0],\n",
    "    [  72,  53, 178, 0.0, 0.0, 0.0],\n",
    "    [ 0.0, 0.0, 0.0,  78, 0.0, 0.0],\n",
    "    [ 0.0, 0.0, 0.0, 0.0,  82, 0.0],\n",
    "    [ 0.0, 0.0, 0.0, 0.0, 0.0,  76]])"
   ]
  },
  {
   "cell_type": "code",
   "execution_count": 33,
   "metadata": {},
   "outputs": [],
   "source": [
    "enstatite = decompose_Cij(Cij)"
   ]
  },
  {
   "cell_type": "code",
   "execution_count": 34,
   "metadata": {},
   "outputs": [
    {
     "data": {
      "text/plain": [
       "{'isotropic': array([[210.2,  57.4,  57.4,   0. ,   0. ,   0. ],\n",
       "        [ 57.4, 210.2,  57.4,   0. ,   0. ,   0. ],\n",
       "        [ 57.4,  57.4, 210.2,   0. ,   0. ,   0. ],\n",
       "        [  0. ,   0. ,   0. ,  76.4,   0. ,   0. ],\n",
       "        [  0. ,   0. ,   0. ,   0. ,  76.4,   0. ],\n",
       "        [  0. ,   0. ,   0. ,   0. ,   0. ,  76.4]]),\n",
       " 'hexagonal': array([[  5.93,  -0.02,   5.1 ,   0.  ,   0.  ,   0.  ],\n",
       "        [ -0.02,   5.93,   5.1 ,   0.  ,   0.  ,   0.  ],\n",
       "        [  5.1 ,   5.1 , -32.2 ,   0.  ,   0.  ,   0.  ],\n",
       "        [  0.  ,   0.  ,   0.  ,   3.6 ,   0.  ,   0.  ],\n",
       "        [  0.  ,   0.  ,   0.  ,   0.  ,   3.6 ,   0.  ],\n",
       "        [  0.  ,   0.  ,   0.  ,   0.  ,   0.  ,   2.97]]),\n",
       " 'tetragonal': array([[ 3.37, -3.38,  0.  ,  0.  ,  0.  ,  0.  ],\n",
       "        [-3.38,  3.37,  0.  ,  0.  ,  0.  ,  0.  ],\n",
       "        [ 0.  ,  0.  ,  0.  ,  0.  ,  0.  ,  0.  ],\n",
       "        [ 0.  ,  0.  ,  0.  , -0.  ,  0.  ,  0.  ],\n",
       "        [ 0.  ,  0.  ,  0.  ,  0.  , -0.  ,  0.  ],\n",
       "        [ 0.  ,  0.  ,  0.  ,  0.  ,  0.  , -3.37]]),\n",
       " 'orthorhombic': array([[ 5.5,  0. ,  9.5,  0. ,  0. ,  0. ],\n",
       "        [ 0. , -5.5, -9.5,  0. ,  0. ,  0. ],\n",
       "        [ 9.5, -9.5,  0. ,  0. ,  0. ,  0. ],\n",
       "        [ 0. ,  0. ,  0. , -2. ,  0. ,  0. ],\n",
       "        [ 0. ,  0. ,  0. ,  0. ,  2. ,  0. ],\n",
       "        [ 0. ,  0. ,  0. ,  0. ,  0. , -0. ]]),\n",
       " 'monoclinic': array([[ 0.,  0.,  0.,  0.,  0.,  0.],\n",
       "        [ 0.,  0.,  0.,  0.,  0.,  0.],\n",
       "        [ 0.,  0.,  0.,  0.,  0.,  0.],\n",
       "        [ 0.,  0.,  0., -0.,  0.,  0.],\n",
       "        [ 0.,  0.,  0.,  0., -0.,  0.],\n",
       "        [ 0.,  0.,  0.,  0.,  0., -0.]]),\n",
       " 'remainder': array([[0., 0., 0., 0., 0., 0.],\n",
       "        [0., 0., 0., 0., 0., 0.],\n",
       "        [0., 0., 0., 0., 0., 0.],\n",
       "        [0., 0., 0., 0., 0., 0.],\n",
       "        [0., 0., 0., 0., 0., 0.],\n",
       "        [0., 0., 0., 0., 0., 0.]])}"
      ]
     },
     "execution_count": 34,
     "metadata": {},
     "output_type": "execute_result"
    }
   ],
   "source": [
    "enstatite"
   ]
  },
  {
   "cell_type": "code",
   "execution_count": 35,
   "metadata": {},
   "outputs": [
    {
     "name": "stdout",
     "output_type": "stream",
     "text": [
      "Based on vector squared norms\n",
      " isotropic:   99.16 %\n",
      " hexagonal:    0.60 %\n",
      " tetragonal:   0.04 %\n",
      " orthorhombic: 0.20 %\n",
      " monoclinic:   0.00 %\n",
      " others:       0.00 %\n"
     ]
    }
   ],
   "source": [
    "# Calculate squared norms for each symmetry class using the decomposed vector\n",
    "norm_squared_X = np.linalg.norm(tensor_to_vector(Cij))**2\n",
    "norm_squared_isotropic = np.linalg.norm(tensor_to_vector(enstatite['isotropic']))**2\n",
    "norm_squared_hexagonal = np.linalg.norm(tensor_to_vector(enstatite['hexagonal']))**2\n",
    "norm_squared_tetragonal = np.linalg.norm(tensor_to_vector(enstatite['tetragonal']))**2\n",
    "norm_squared_orthorhombic = np.linalg.norm(tensor_to_vector(enstatite['orthorhombic']))**2\n",
    "norm_squared_monoclinic = np.linalg.norm(tensor_to_vector(enstatite['monoclinic']))**2\n",
    "norm_squared_remainder = np.linalg.norm(tensor_to_vector(enstatite['remainder']))**2\n",
    "sum_norms_squared = norm_squared_isotropic + norm_squared_hexagonal + norm_squared_tetragonal + norm_squared_orthorhombic + norm_squared_monoclinic + norm_squared_remainder\n",
    "\n",
    "print(\"Based on vector squared norms\\n\",\n",
    "      f\"isotropic:   {100 * norm_squared_isotropic / sum_norms_squared:.2f} %\\n\",\n",
    "      f\"hexagonal:    {100 * norm_squared_hexagonal / sum_norms_squared:.2f} %\\n\",\n",
    "      f\"tetragonal:   {100 * norm_squared_tetragonal / sum_norms_squared:.2f} %\\n\",\n",
    "      f\"orthorhombic: {100 * norm_squared_orthorhombic / sum_norms_squared:.2f} %\\n\",\n",
    "      f\"monoclinic:   {100 * norm_squared_monoclinic / sum_norms_squared:.2f} %\\n\",\n",
    "      f\"others:       {100 * norm_squared_remainder / sum_norms_squared:.2f} %\")"
   ]
  },
  {
   "cell_type": "code",
   "execution_count": 36,
   "metadata": {},
   "outputs": [
    {
     "name": "stdout",
     "output_type": "stream",
     "text": [
      "Based on vector non-squared norms\n",
      " isotropic:   87.47 %\n",
      " hexagonal:   6.82 %\n",
      " tetragonal:   1.77 %\n",
      " orthorhombic: 3.95 %\n",
      " monoclinic:   0.00 %\n",
      " others:       0.00 %\n"
     ]
    }
   ],
   "source": [
    "# Calculate non-squared norms for each symmetry class using the decomposed vector\n",
    "norm_X = np.linalg.norm(tensor_to_vector(Cij))\n",
    "norm_isotropic = np.linalg.norm(tensor_to_vector(enstatite['isotropic']))\n",
    "norm_hexagonal = np.linalg.norm(tensor_to_vector(enstatite['hexagonal']))\n",
    "norm_tetragonal = np.linalg.norm(tensor_to_vector(enstatite['tetragonal']))\n",
    "norm_orthorhombic = np.linalg.norm(tensor_to_vector(enstatite['orthorhombic']))\n",
    "norm_monoclinic = np.linalg.norm(tensor_to_vector(enstatite['monoclinic']))\n",
    "norm_remainder = np.linalg.norm(tensor_to_vector(enstatite['remainder']))\n",
    "sum_norms = norm_isotropic + norm_hexagonal + norm_tetragonal + norm_orthorhombic + norm_monoclinic + norm_remainder\n",
    "\n",
    "print(\"Based on vector non-squared norms\\n\",\n",
    "      f\"isotropic:   {100 * norm_isotropic / sum_norms:.2f} %\\n\",\n",
    "      f\"hexagonal:   {100 * norm_hexagonal / sum_norms:.2f} %\\n\",\n",
    "      f\"tetragonal:   {100 * norm_tetragonal / sum_norms:.2f} %\\n\",\n",
    "      f\"orthorhombic: {100 * norm_orthorhombic / sum_norms:.2f} %\\n\",\n",
    "      f\"monoclinic:   {100 * norm_monoclinic / sum_norms:.2f} %\\n\",\n",
    "      f\"others:       {100 * norm_remainder / sum_norms:.2f} %\")"
   ]
  },
  {
   "cell_type": "code",
   "execution_count": 37,
   "metadata": {},
   "outputs": [
    {
     "data": {
      "text/plain": [
       "(473.5599222907276, 539.1342213266997)"
      ]
     },
     "execution_count": 37,
     "metadata": {},
     "output_type": "execute_result"
    }
   ],
   "source": [
    "norm_X, sum_norms"
   ]
  },
  {
   "cell_type": "code",
   "execution_count": 38,
   "metadata": {},
   "outputs": [
    {
     "data": {
      "text/plain": [
       "0.8783711060399634"
      ]
     },
     "execution_count": 38,
     "metadata": {},
     "output_type": "execute_result"
    }
   ],
   "source": [
    "norm_X / sum_norms"
   ]
  },
  {
   "cell_type": "code",
   "execution_count": 39,
   "metadata": {},
   "outputs": [],
   "source": [
    "c = norm_X / sum_norms"
   ]
  },
  {
   "cell_type": "code",
   "execution_count": 40,
   "metadata": {},
   "outputs": [
    {
     "name": "stdout",
     "output_type": "stream",
     "text": [
      "Based on vector non-squared norms\n",
      " isotropic:   87.47 %\n",
      " hexagonal:   6.82 %\n",
      " tetragonal:   1.77 %\n",
      " orthorhombic: 3.95 %\n",
      " monoclinic:   0.00 %\n",
      " others:       0.00 %\n"
     ]
    }
   ],
   "source": [
    "print(\"Based on vector non-squared norms\\n\",\n",
    "      f\"isotropic:   {c * 100 * norm_isotropic / norm_X:.2f} %\\n\",\n",
    "      f\"hexagonal:   {c * 100 * norm_hexagonal / norm_X:.2f} %\\n\",\n",
    "      f\"tetragonal:   {c * 100 * norm_tetragonal / norm_X:.2f} %\\n\",\n",
    "      f\"orthorhombic: {c * 100 * norm_orthorhombic / norm_X:.2f} %\\n\",\n",
    "      f\"monoclinic:   {c * 100 * norm_monoclinic / norm_X:.2f} %\\n\",\n",
    "      f\"others:       {c * 100 * norm_remainder / norm_X:.2f} %\")"
   ]
  },
  {
   "cell_type": "markdown",
   "metadata": {},
   "source": [
    "The results using the non-squared Euclidean norm are the ones that come closest to the estimated percentages in the Browaeys and Chevrt paper, but they are still a bit off and there must be another way to estimate this properly. A key observation is that the sum of the norms of the decomposed vectors does not add up to 100% (i.e. has exactly the same values as the norm of the original vector), indicating that the decomposed vectors may not be orthogonal."
   ]
  },
  {
   "cell_type": "code",
   "execution_count": 41,
   "metadata": {},
   "outputs": [
    {
     "data": {
      "text/plain": [
       "[471.55508691986347,\n",
       " 36.74471662702,\n",
       " 9.538878340769422,\n",
       " 21.295539439046856,\n",
       " 0.0,\n",
       " 1.0048591735576161e-14]"
      ]
     },
     "execution_count": 41,
     "metadata": {},
     "output_type": "execute_result"
    }
   ],
   "source": [
    "norm_decomposed_vectors = [norm_isotropic, norm_hexagonal, norm_tetragonal, norm_orthorhombic, norm_monoclinic, norm_remainder]\n",
    "norm_decomposed_vectors"
   ]
  },
  {
   "cell_type": "code",
   "execution_count": 42,
   "metadata": {},
   "outputs": [
    {
     "data": {
      "text/plain": [
       "[0.8746524859050169,\n",
       " 0.06815504409384127,\n",
       " 0.01769295652814652,\n",
       " 0.03949951347299539,\n",
       " 0.0,\n",
       " 1.8638386023518632e-17]"
      ]
     },
     "execution_count": 42,
     "metadata": {},
     "output_type": "execute_result"
    }
   ],
   "source": [
    "normalized_decomposed_vectors = [v / sum_norms for v in norm_decomposed_vectors]\n",
    "normalized_decomposed_vectors"
   ]
  },
  {
   "cell_type": "code",
   "execution_count": 43,
   "metadata": {},
   "outputs": [
    {
     "data": {
      "text/plain": [
       "0.16154597023313283"
      ]
     },
     "execution_count": 43,
     "metadata": {},
     "output_type": "execute_result"
    }
   ],
   "source": [
    "normalized_decomposed_vectors[0] * (normalized_decomposed_vectors[0] / norm_X) * 100"
   ]
  },
  {
   "cell_type": "code",
   "execution_count": 44,
   "metadata": {},
   "outputs": [
    {
     "data": {
      "text/plain": [
       "0.001846973201773715"
      ]
     },
     "execution_count": 44,
     "metadata": {},
     "output_type": "execute_result"
    }
   ],
   "source": [
    "normalized_decomposed_vectors[0] / norm_X"
   ]
  },
  {
   "cell_type": "markdown",
   "metadata": {},
   "source": [
    "## Quartz"
   ]
  },
  {
   "cell_type": "code",
   "execution_count": 45,
   "metadata": {},
   "outputs": [],
   "source": [
    "Cij = np.array([[ 93.52,  18.88,  24.43,  11.  ,   0.  ,   0.  ],\n",
    "                [ 18.88,  93.52,  24.43, -11.  ,   0.  ,   0.  ],\n",
    "                [ 24.43,  24.43, 129.83,   0.  ,   0.  ,   0.  ],\n",
    "                [ 11.  , -11.  ,   0.  ,  62.1 ,   0.  ,   0.  ],\n",
    "                [  0.  ,   0.  ,   0.  ,   0.  ,  62.1 ,  11.  ],\n",
    "                [  0.  ,   0.  ,   0.  ,   0.  ,  11.  ,  37.32]])"
   ]
  },
  {
   "cell_type": "code",
   "execution_count": 46,
   "metadata": {},
   "outputs": [],
   "source": [
    "quartz = decompose_Cij(Cij)"
   ]
  },
  {
   "cell_type": "code",
   "execution_count": 47,
   "metadata": {},
   "outputs": [
    {
     "data": {
      "text/plain": [
       "{'isotropic': array([[115.48,  17.65,  17.65,   0.  ,   0.  ,   0.  ],\n",
       "        [ 17.65, 115.48,  17.65,   0.  ,   0.  ,   0.  ],\n",
       "        [ 17.65,  17.65, 115.48,   0.  ,   0.  ,   0.  ],\n",
       "        [  0.  ,   0.  ,   0.  ,  48.91,   0.  ,   0.  ],\n",
       "        [  0.  ,   0.  ,   0.  ,   0.  ,  48.91,   0.  ],\n",
       "        [  0.  ,   0.  ,   0.  ,   0.  ,   0.  ,  48.91]]),\n",
       " 'hexagonal': array([[-21.96,   1.23,   6.78,   0.  ,   0.  ,   0.  ],\n",
       "        [  1.23, -21.96,   6.78,   0.  ,   0.  ,   0.  ],\n",
       "        [  6.78,   6.78,  14.35,   0.  ,   0.  ,   0.  ],\n",
       "        [  0.  ,   0.  ,   0.  ,  13.19,   0.  ,   0.  ],\n",
       "        [  0.  ,   0.  ,   0.  ,   0.  ,  13.19,   0.  ],\n",
       "        [  0.  ,   0.  ,   0.  ,   0.  ,   0.  , -11.59]]),\n",
       " 'tetragonal': array([[-0.,  0.,  0.,  0.,  0.,  0.],\n",
       "        [ 0., -0.,  0.,  0.,  0.,  0.],\n",
       "        [ 0.,  0.,  0.,  0.,  0.,  0.],\n",
       "        [ 0.,  0.,  0.,  0.,  0.,  0.],\n",
       "        [ 0.,  0.,  0.,  0.,  0.,  0.],\n",
       "        [ 0.,  0.,  0.,  0.,  0.,  0.]]),\n",
       " 'orthorhombic': array([[-0.,  0.,  0.,  0.,  0.,  0.],\n",
       "        [ 0., -0.,  0.,  0.,  0.,  0.],\n",
       "        [ 0.,  0.,  0.,  0.,  0.,  0.],\n",
       "        [ 0.,  0.,  0.,  0.,  0.,  0.],\n",
       "        [ 0.,  0.,  0.,  0.,  0.,  0.],\n",
       "        [ 0.,  0.,  0.,  0.,  0.,  0.]]),\n",
       " 'monoclinic': array([[-0.,  0.,  0.,  0.,  0.,  0.],\n",
       "        [ 0., -0.,  0.,  0.,  0.,  0.],\n",
       "        [ 0.,  0.,  0.,  0.,  0.,  0.],\n",
       "        [ 0.,  0.,  0.,  0.,  0.,  0.],\n",
       "        [ 0.,  0.,  0.,  0.,  0.,  0.],\n",
       "        [ 0.,  0.,  0.,  0.,  0.,  0.]]),\n",
       " 'remainder': array([[ -0.,   0.,   0.,  11.,   0.,   0.],\n",
       "        [  0.,  -0.,   0., -11.,   0.,   0.],\n",
       "        [  0.,   0.,   0.,   0.,   0.,   0.],\n",
       "        [ 11., -11.,   0.,   0.,   0.,   0.],\n",
       "        [  0.,   0.,   0.,   0.,   0.,  11.],\n",
       "        [  0.,   0.,   0.,   0.,  11.,   0.]])}"
      ]
     },
     "execution_count": 47,
     "metadata": {},
     "output_type": "execute_result"
    }
   ],
   "source": [
    "quartz"
   ]
  },
  {
   "cell_type": "markdown",
   "metadata": {},
   "source": [
    "## Test orthogonal_projector"
   ]
  },
  {
   "cell_type": "code",
   "execution_count": 48,
   "metadata": {},
   "outputs": [
    {
     "data": {
      "text/plain": [
       "array([[0.5, 0.5, 0. , 0. , 0. , 0. , 0. , 0. , 0. ],\n",
       "       [0.5, 0.5, 0. , 0. , 0. , 0. , 0. , 0. , 0. ],\n",
       "       [0. , 0. , 1. , 0. , 0. , 0. , 0. , 0. , 0. ],\n",
       "       [0. , 0. , 0. , 0.5, 0.5, 0. , 0. , 0. , 0. ],\n",
       "       [0. , 0. , 0. , 0.5, 0.5, 0. , 0. , 0. , 0. ],\n",
       "       [0. , 0. , 0. , 0. , 0. , 1. , 0. , 0. , 0. ],\n",
       "       [0. , 0. , 0. , 0. , 0. , 0. , 0.5, 0.5, 0. ],\n",
       "       [0. , 0. , 0. , 0. , 0. , 0. , 0.5, 0.5, 0. ],\n",
       "       [0. , 0. , 0. , 0. , 0. , 0. , 0. , 0. , 1. ]])"
      ]
     },
     "execution_count": 48,
     "metadata": {},
     "output_type": "execute_result"
    }
   ],
   "source": [
    "orthogonal_projector('tetragonal')[0:9, 0:9]"
   ]
  },
  {
   "cell_type": "code",
   "execution_count": 49,
   "metadata": {},
   "outputs": [
    {
     "data": {
      "text/plain": [
       "array([[ 0.38,  0.38,  0.  ,  0.  ,  0.  ,  0.18,  0.  ,  0.  ,  0.25],\n",
       "       [ 0.38,  0.38,  0.  ,  0.  ,  0.  ,  0.18,  0.  ,  0.  ,  0.25],\n",
       "       [ 0.  ,  0.  ,  1.  ,  0.  ,  0.  ,  0.  ,  0.  ,  0.  ,  0.  ],\n",
       "       [ 0.  ,  0.  ,  0.  ,  0.5 ,  0.5 ,  0.  ,  0.  ,  0.  ,  0.  ],\n",
       "       [ 0.  ,  0.  ,  0.  ,  0.5 ,  0.5 ,  0.  ,  0.  ,  0.  ,  0.  ],\n",
       "       [ 0.18,  0.18,  0.  ,  0.  ,  0.  ,  0.75,  0.  ,  0.  , -0.35],\n",
       "       [ 0.  ,  0.  ,  0.  ,  0.  ,  0.  ,  0.  ,  0.5 ,  0.5 ,  0.  ],\n",
       "       [ 0.  ,  0.  ,  0.  ,  0.  ,  0.  ,  0.  ,  0.5 ,  0.5 ,  0.  ],\n",
       "       [ 0.25,  0.25,  0.  ,  0.  ,  0.  , -0.35,  0.  ,  0.  ,  0.5 ]])"
      ]
     },
     "execution_count": 49,
     "metadata": {},
     "output_type": "execute_result"
    }
   ],
   "source": [
    "np.around(orthogonal_projector('hexagonal')[0:9, 0:9], decimals=2)"
   ]
  },
  {
   "cell_type": "code",
   "execution_count": 50,
   "metadata": {},
   "outputs": [
    {
     "data": {
      "text/plain": [
       "array([[ 0.2 ,  0.2 ,  0.2 ,  0.09,  0.09,  0.09,  0.13,  0.13,  0.13],\n",
       "       [ 0.2 ,  0.2 ,  0.2 ,  0.09,  0.09,  0.09,  0.13,  0.13,  0.13],\n",
       "       [ 0.2 ,  0.2 ,  0.2 ,  0.09,  0.09,  0.09,  0.13,  0.13,  0.13],\n",
       "       [ 0.09,  0.09,  0.09,  0.27,  0.27,  0.27, -0.09, -0.09, -0.09],\n",
       "       [ 0.09,  0.09,  0.09,  0.27,  0.27,  0.27, -0.09, -0.09, -0.09],\n",
       "       [ 0.09,  0.09,  0.09,  0.27,  0.27,  0.27, -0.09, -0.09, -0.09],\n",
       "       [ 0.13,  0.13,  0.13, -0.09, -0.09, -0.09,  0.2 ,  0.2 ,  0.2 ],\n",
       "       [ 0.13,  0.13,  0.13, -0.09, -0.09, -0.09,  0.2 ,  0.2 ,  0.2 ],\n",
       "       [ 0.13,  0.13,  0.13, -0.09, -0.09, -0.09,  0.2 ,  0.2 ,  0.2 ]])"
      ]
     },
     "execution_count": 50,
     "metadata": {},
     "output_type": "execute_result"
    }
   ],
   "source": [
    "np.around(orthogonal_projector('isotropic')[0:9, 0:9], decimals=2)"
   ]
  },
  {
   "cell_type": "code",
   "execution_count": 51,
   "metadata": {},
   "outputs": [
    {
     "data": {
      "text/plain": [
       "array([[1., 0., 0., 0., 0., 0., 0., 0., 0., 0., 0., 0., 0., 0., 0., 0.],\n",
       "       [0., 1., 0., 0., 0., 0., 0., 0., 0., 0., 0., 0., 0., 0., 0., 0.],\n",
       "       [0., 0., 1., 0., 0., 0., 0., 0., 0., 0., 0., 0., 0., 0., 0., 0.],\n",
       "       [0., 0., 0., 1., 0., 0., 0., 0., 0., 0., 0., 0., 0., 0., 0., 0.],\n",
       "       [0., 0., 0., 0., 1., 0., 0., 0., 0., 0., 0., 0., 0., 0., 0., 0.],\n",
       "       [0., 0., 0., 0., 0., 1., 0., 0., 0., 0., 0., 0., 0., 0., 0., 0.],\n",
       "       [0., 0., 0., 0., 0., 0., 1., 0., 0., 0., 0., 0., 0., 0., 0., 0.],\n",
       "       [0., 0., 0., 0., 0., 0., 0., 1., 0., 0., 0., 0., 0., 0., 0., 0.],\n",
       "       [0., 0., 0., 0., 0., 0., 0., 0., 1., 0., 0., 0., 0., 0., 0., 0.],\n",
       "       [0., 0., 0., 0., 0., 0., 0., 0., 0., 0., 0., 0., 0., 0., 0., 0.],\n",
       "       [0., 0., 0., 0., 0., 0., 0., 0., 0., 0., 0., 0., 0., 0., 0., 0.],\n",
       "       [0., 0., 0., 0., 0., 0., 0., 0., 0., 0., 0., 0., 0., 0., 0., 0.],\n",
       "       [0., 0., 0., 0., 0., 0., 0., 0., 0., 0., 0., 0., 0., 0., 0., 0.],\n",
       "       [0., 0., 0., 0., 0., 0., 0., 0., 0., 0., 0., 0., 0., 0., 0., 0.],\n",
       "       [0., 0., 0., 0., 0., 0., 0., 0., 0., 0., 0., 0., 0., 0., 0., 0.],\n",
       "       [0., 0., 0., 0., 0., 0., 0., 0., 0., 0., 0., 0., 0., 0., 0., 0.]])"
      ]
     },
     "execution_count": 51,
     "metadata": {},
     "output_type": "execute_result"
    }
   ],
   "source": [
    "np.around(orthogonal_projector('orthorhombic')[0:16, 0:16], decimals=2)"
   ]
  },
  {
   "cell_type": "code",
   "execution_count": 52,
   "metadata": {},
   "outputs": [
    {
     "data": {
      "text/plain": [
       "array([[1., 0., 0., 0., 0., 0., 0., 0., 0., 0., 0., 0., 0., 0., 0., 0.],\n",
       "       [0., 1., 0., 0., 0., 0., 0., 0., 0., 0., 0., 0., 0., 0., 0., 0.],\n",
       "       [0., 0., 1., 0., 0., 0., 0., 0., 0., 0., 0., 0., 0., 0., 0., 0.],\n",
       "       [0., 0., 0., 1., 0., 0., 0., 0., 0., 0., 0., 0., 0., 0., 0., 0.],\n",
       "       [0., 0., 0., 0., 1., 0., 0., 0., 0., 0., 0., 0., 0., 0., 0., 0.],\n",
       "       [0., 0., 0., 0., 0., 1., 0., 0., 0., 0., 0., 0., 0., 0., 0., 0.],\n",
       "       [0., 0., 0., 0., 0., 0., 1., 0., 0., 0., 0., 0., 0., 0., 0., 0.],\n",
       "       [0., 0., 0., 0., 0., 0., 0., 1., 0., 0., 0., 0., 0., 0., 0., 0.],\n",
       "       [0., 0., 0., 0., 0., 0., 0., 0., 1., 0., 0., 0., 0., 0., 0., 0.],\n",
       "       [0., 0., 0., 0., 0., 0., 0., 0., 0., 0., 0., 0., 0., 0., 0., 0.],\n",
       "       [0., 0., 0., 0., 0., 0., 0., 0., 0., 0., 0., 0., 0., 0., 0., 0.],\n",
       "       [0., 0., 0., 0., 0., 0., 0., 0., 0., 0., 0., 1., 0., 0., 0., 0.],\n",
       "       [0., 0., 0., 0., 0., 0., 0., 0., 0., 0., 0., 0., 0., 0., 0., 0.],\n",
       "       [0., 0., 0., 0., 0., 0., 0., 0., 0., 0., 0., 0., 0., 0., 0., 0.],\n",
       "       [0., 0., 0., 0., 0., 0., 0., 0., 0., 0., 0., 0., 0., 0., 1., 0.],\n",
       "       [0., 0., 0., 0., 0., 0., 0., 0., 0., 0., 0., 0., 0., 0., 0., 0.]])"
      ]
     },
     "execution_count": 52,
     "metadata": {},
     "output_type": "execute_result"
    }
   ],
   "source": [
    "np.around(orthogonal_projector('monoclinic')[0:16, 0:16], decimals=1)"
   ]
  },
  {
   "cell_type": "code",
   "execution_count": 53,
   "metadata": {},
   "outputs": [
    {
     "data": {
      "text/plain": [
       "array([[0., 0., 0., 0., 0., 0.],\n",
       "       [0., 0., 0., 0., 0., 0.],\n",
       "       [0., 0., 1., 0., 0., 0.],\n",
       "       [0., 0., 0., 0., 0., 0.],\n",
       "       [0., 0., 0., 0., 0., 0.],\n",
       "       [0., 0., 0., 0., 0., 1.]])"
      ]
     },
     "execution_count": 53,
     "metadata": {},
     "output_type": "execute_result"
    }
   ],
   "source": [
    "np.around(orthogonal_projector('monoclinic')[15:, 15:], decimals=1)"
   ]
  },
  {
   "cell_type": "markdown",
   "metadata": {},
   "source": [
    "## Step by step checking"
   ]
  },
  {
   "cell_type": "code",
   "execution_count": 54,
   "metadata": {},
   "outputs": [],
   "source": [
    "# Elastic stiffness tensor of Enstatite used in Browaeys and Chevrot (2004)\n",
    "Cij = np.array(\n",
    "    [[225,  54,  72, 0.0, 0.0, 0.0],\n",
    "    [  54, 214,  53, 0.0, 0.0, 0.0],\n",
    "    [  72,  53, 178, 0.0, 0.0, 0.0],\n",
    "    [ 0.0, 0.0, 0.0,  78, 0.0, 0.0],\n",
    "    [ 0.0, 0.0, 0.0, 0.0,  82, 0.0],\n",
    "    [ 0.0, 0.0, 0.0, 0.0, 0.0,  76]])"
   ]
  },
  {
   "cell_type": "code",
   "execution_count": 55,
   "metadata": {},
   "outputs": [
    {
     "data": {
      "text/plain": [
       "{'isotropic': array([[210.2,  57.4,  57.4,   0. ,   0. ,   0. ],\n",
       "        [ 57.4, 210.2,  57.4,   0. ,   0. ,   0. ],\n",
       "        [ 57.4,  57.4, 210.2,   0. ,   0. ,   0. ],\n",
       "        [  0. ,   0. ,   0. ,  76.4,   0. ,   0. ],\n",
       "        [  0. ,   0. ,   0. ,   0. ,  76.4,   0. ],\n",
       "        [  0. ,   0. ,   0. ,   0. ,   0. ,  76.4]]),\n",
       " 'hexagonal': array([[  5.93,  -0.02,   5.1 ,   0.  ,   0.  ,   0.  ],\n",
       "        [ -0.02,   5.93,   5.1 ,   0.  ,   0.  ,   0.  ],\n",
       "        [  5.1 ,   5.1 , -32.2 ,   0.  ,   0.  ,   0.  ],\n",
       "        [  0.  ,   0.  ,   0.  ,   3.6 ,   0.  ,   0.  ],\n",
       "        [  0.  ,   0.  ,   0.  ,   0.  ,   3.6 ,   0.  ],\n",
       "        [  0.  ,   0.  ,   0.  ,   0.  ,   0.  ,   2.97]]),\n",
       " 'tetragonal': array([[ 3.37, -3.38,  0.  ,  0.  ,  0.  ,  0.  ],\n",
       "        [-3.38,  3.37,  0.  ,  0.  ,  0.  ,  0.  ],\n",
       "        [ 0.  ,  0.  ,  0.  ,  0.  ,  0.  ,  0.  ],\n",
       "        [ 0.  ,  0.  ,  0.  , -0.  ,  0.  ,  0.  ],\n",
       "        [ 0.  ,  0.  ,  0.  ,  0.  , -0.  ,  0.  ],\n",
       "        [ 0.  ,  0.  ,  0.  ,  0.  ,  0.  , -3.37]]),\n",
       " 'orthorhombic': array([[ 5.5,  0. ,  9.5,  0. ,  0. ,  0. ],\n",
       "        [ 0. , -5.5, -9.5,  0. ,  0. ,  0. ],\n",
       "        [ 9.5, -9.5,  0. ,  0. ,  0. ,  0. ],\n",
       "        [ 0. ,  0. ,  0. , -2. ,  0. ,  0. ],\n",
       "        [ 0. ,  0. ,  0. ,  0. ,  2. ,  0. ],\n",
       "        [ 0. ,  0. ,  0. ,  0. ,  0. , -0. ]]),\n",
       " 'monoclinic': array([[ 0.,  0.,  0.,  0.,  0.,  0.],\n",
       "        [ 0.,  0.,  0.,  0.,  0.,  0.],\n",
       "        [ 0.,  0.,  0.,  0.,  0.,  0.],\n",
       "        [ 0.,  0.,  0., -0.,  0.,  0.],\n",
       "        [ 0.,  0.,  0.,  0., -0.,  0.],\n",
       "        [ 0.,  0.,  0.,  0.,  0., -0.]]),\n",
       " 'remainder': array([[0., 0., 0., 0., 0., 0.],\n",
       "        [0., 0., 0., 0., 0., 0.],\n",
       "        [0., 0., 0., 0., 0., 0.],\n",
       "        [0., 0., 0., 0., 0., 0.],\n",
       "        [0., 0., 0., 0., 0., 0.],\n",
       "        [0., 0., 0., 0., 0., 0.]])}"
      ]
     },
     "execution_count": 55,
     "metadata": {},
     "output_type": "execute_result"
    }
   ],
   "source": [
    "decompose_Cij(Cij)"
   ]
  },
  {
   "cell_type": "markdown",
   "metadata": {},
   "source": [
    "### First calculation (tensor to vector)"
   ]
  },
  {
   "cell_type": "code",
   "execution_count": 56,
   "metadata": {},
   "outputs": [
    {
     "data": {
      "text/plain": [
       "array([225.        , 214.        , 178.        ,  74.95331881,\n",
       "       101.82337649,  76.36753237, 156.        , 164.        ,\n",
       "       152.        ,   0.        ,   0.        ,   0.        ,\n",
       "         0.        ,   0.        ,   0.        ,   0.        ,\n",
       "         0.        ,   0.        ,   0.        ,   0.        ,\n",
       "         0.        ])"
      ]
     },
     "execution_count": 56,
     "metadata": {},
     "output_type": "execute_result"
    }
   ],
   "source": [
    "tensor_to_vector(Cij)"
   ]
  },
  {
   "cell_type": "markdown",
   "metadata": {},
   "source": [
    "### second calculation (get projector)"
   ]
  },
  {
   "cell_type": "code",
   "execution_count": 57,
   "metadata": {},
   "outputs": [
    {
     "data": {
      "text/plain": [
       "array([[ 0.2 ,  0.2 ,  0.2 ,  0.09,  0.09,  0.09,  0.13,  0.13,  0.13],\n",
       "       [ 0.2 ,  0.2 ,  0.2 ,  0.09,  0.09,  0.09,  0.13,  0.13,  0.13],\n",
       "       [ 0.2 ,  0.2 ,  0.2 ,  0.09,  0.09,  0.09,  0.13,  0.13,  0.13],\n",
       "       [ 0.09,  0.09,  0.09,  0.27,  0.27,  0.27, -0.09, -0.09, -0.09],\n",
       "       [ 0.09,  0.09,  0.09,  0.27,  0.27,  0.27, -0.09, -0.09, -0.09],\n",
       "       [ 0.09,  0.09,  0.09,  0.27,  0.27,  0.27, -0.09, -0.09, -0.09],\n",
       "       [ 0.13,  0.13,  0.13, -0.09, -0.09, -0.09,  0.2 ,  0.2 ,  0.2 ],\n",
       "       [ 0.13,  0.13,  0.13, -0.09, -0.09, -0.09,  0.2 ,  0.2 ,  0.2 ],\n",
       "       [ 0.13,  0.13,  0.13, -0.09, -0.09, -0.09,  0.2 ,  0.2 ,  0.2 ]])"
      ]
     },
     "execution_count": 57,
     "metadata": {},
     "output_type": "execute_result"
    }
   ],
   "source": [
    "np.around(orthogonal_projector('isotropic')[0:9, 0:9], decimals=2)"
   ]
  },
  {
   "cell_type": "markdown",
   "metadata": {},
   "source": [
    "### third (estimate the vector for the symmetry class)"
   ]
  },
  {
   "cell_type": "code",
   "execution_count": 58,
   "metadata": {},
   "outputs": [
    {
     "data": {
      "text/plain": [
       "array([210.2       , 210.2       , 210.2       ,  81.17585848,\n",
       "        81.17585848,  81.17585848, 152.8       , 152.8       ,\n",
       "       152.8       ,   0.        ,   0.        ,   0.        ,\n",
       "         0.        ,   0.        ,   0.        ,   0.        ,\n",
       "         0.        ,   0.        ,   0.        ,   0.        ,\n",
       "         0.        ])"
      ]
     },
     "execution_count": 58,
     "metadata": {},
     "output_type": "execute_result"
    }
   ],
   "source": [
    "X_vector = tensor_to_vector(Cij)\n",
    "M = orthogonal_projector('isotropic')\n",
    "X_symmetry_class = np.dot(M, X_vector)\n",
    "\n",
    "X_symmetry_class"
   ]
  },
  {
   "cell_type": "code",
   "execution_count": 59,
   "metadata": {},
   "outputs": [
    {
     "data": {
      "text/plain": [
       "array([[210.2,  57.4,  57.4,   0. ,   0. ,   0. ],\n",
       "       [ 57.4, 210.2,  57.4,   0. ,   0. ,   0. ],\n",
       "       [ 57.4,  57.4, 210.2,   0. ,   0. ,   0. ],\n",
       "       [  0. ,   0. ,   0. ,  76.4,   0. ,   0. ],\n",
       "       [  0. ,   0. ,   0. ,   0. ,  76.4,   0. ],\n",
       "       [  0. ,   0. ,   0. ,   0. ,   0. ,  76.4]])"
      ]
     },
     "execution_count": 59,
     "metadata": {},
     "output_type": "execute_result"
    }
   ],
   "source": [
    "C_symmetry_class = np.around(vector_to_tensor(X_symmetry_class), decimals=2)\n",
    "\n",
    "C_symmetry_class"
   ]
  },
  {
   "cell_type": "code",
   "execution_count": 60,
   "metadata": {},
   "outputs": [
    {
     "data": {
      "text/plain": [
       "array([[ 14.8,  -3.4,  14.6,   0. ,   0. ,   0. ],\n",
       "       [ -3.4,   3.8,  -4.4,   0. ,   0. ,   0. ],\n",
       "       [ 14.6,  -4.4, -32.2,   0. ,   0. ,   0. ],\n",
       "       [  0. ,   0. ,   0. ,   1.6,   0. ,   0. ],\n",
       "       [  0. ,   0. ,   0. ,   0. ,   5.6,   0. ],\n",
       "       [  0. ,   0. ,   0. ,   0. ,   0. ,  -0.4]])"
      ]
     },
     "execution_count": 60,
     "metadata": {},
     "output_type": "execute_result"
    }
   ],
   "source": [
    "Cij - C_symmetry_class"
   ]
  }
 ],
 "metadata": {
  "kernelspec": {
   "display_name": "main",
   "language": "python",
   "name": "python3"
  },
  "language_info": {
   "codemirror_mode": {
    "name": "ipython",
    "version": 3
   },
   "file_extension": ".py",
   "mimetype": "text/x-python",
   "name": "python",
   "nbconvert_exporter": "python",
   "pygments_lexer": "ipython3",
   "version": "3.10.12"
  },
  "orig_nbformat": 4
 },
 "nbformat": 4,
 "nbformat_minor": 2
}
