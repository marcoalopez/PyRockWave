{
 "cells": [
  {
   "cell_type": "markdown",
   "metadata": {},
   "source": [
    "Any triclinic vector X in a given 3-D cartesian coordinate system can be decomposed by a cascade of projections into a sum of vectors belonging to the different symmetry classes: $X = X_{tric} + X_{mon} + X_{ort} + X_{tet} + X_{hex} + X_{iso}$."
   ]
  },
  {
   "cell_type": "code",
   "execution_count": 1,
   "metadata": {},
   "outputs": [],
   "source": [
    "import numpy as np\n",
    "from decompose import *"
   ]
  },
  {
   "cell_type": "code",
   "execution_count": 2,
   "metadata": {},
   "outputs": [],
   "source": [
    "# Elastic stiffness tensor of Olivine used in Browaeys and Chevrot (2004)\n",
    "Cij = np.array(\n",
    "    [[192,  66,  60, 0.0, 0.0, 0.0],\n",
    "    [  66, 160,  56, 0.0, 0.0, 0.0],\n",
    "    [  60,  56, 272, 0.0, 0.0, 0.0],\n",
    "    [ 0.0, 0.0, 0.0,  60, 0.0, 0.0],\n",
    "    [ 0.0, 0.0, 0.0, 0.0,  62, 0.0],\n",
    "    [ 0.0, 0.0, 0.0, 0.0, 0.0,  49]])"
   ]
  },
  {
   "cell_type": "code",
   "execution_count": 3,
   "metadata": {},
   "outputs": [],
   "source": [
    "olivine = decompose_Cij(Cij)"
   ]
  },
  {
   "cell_type": "code",
   "execution_count": 4,
   "metadata": {},
   "outputs": [
    {
     "data": {
      "text/plain": [
       "{'isotropic': array([[194.66666667,  67.33333333,  67.33333333,   0.        ,\n",
       "           0.        ,   0.        ],\n",
       "        [ 67.33333333, 194.66666667,  67.33333333,   0.        ,\n",
       "           0.        ,   0.        ],\n",
       "        [ 67.33333333,  67.33333333, 194.66666667,   0.        ,\n",
       "           0.        ,   0.        ],\n",
       "        [  0.        ,   0.        ,   0.        ,  63.66666667,\n",
       "           0.        ,   0.        ],\n",
       "        [  0.        ,   0.        ,   0.        ,   0.        ,\n",
       "          63.66666667,   0.        ],\n",
       "        [  0.        ,   0.        ,   0.        ,   0.        ,\n",
       "           0.        ,  63.66666667]]),\n",
       " 'hexagonal': array([[-21.66666667,   1.66666667,  -9.33333333,   0.        ,\n",
       "           0.        ,   0.        ],\n",
       "        [  1.66666667, -21.66666667,  -9.33333333,   0.        ,\n",
       "           0.        ,   0.        ],\n",
       "        [ -9.33333333,  -9.33333333,  77.33333333,   0.        ,\n",
       "           0.        ,   0.        ],\n",
       "        [  0.        ,   0.        ,   0.        ,  -2.66666667,\n",
       "           0.        ,   0.        ],\n",
       "        [  0.        ,   0.        ,   0.        ,   0.        ,\n",
       "          -2.66666667,   0.        ],\n",
       "        [  0.        ,   0.        ,   0.        ,   0.        ,\n",
       "           0.        , -11.66666667]]),\n",
       " 'tetragonal': array([[ 3., -3.,  0.,  0.,  0.,  0.],\n",
       "        [-3.,  3.,  0.,  0.,  0.,  0.],\n",
       "        [ 0.,  0.,  0.,  0.,  0.,  0.],\n",
       "        [ 0.,  0.,  0.,  0.,  0.,  0.],\n",
       "        [ 0.,  0.,  0.,  0.,  0.,  0.],\n",
       "        [ 0.,  0.,  0.,  0.,  0., -3.]]),\n",
       " 'orthorhombic': array([[ 16.,   0.,   2.,   0.,   0.,   0.],\n",
       "        [  0., -16.,  -2.,   0.,   0.,   0.],\n",
       "        [  2.,  -2.,   0.,   0.,   0.,   0.],\n",
       "        [  0.,   0.,   0.,  -1.,   0.,   0.],\n",
       "        [  0.,   0.,   0.,   0.,   1.,   0.],\n",
       "        [  0.,   0.,   0.,   0.,   0.,   0.]]),\n",
       " 'monoclinic': array([[0., 0., 0., 0., 0., 0.],\n",
       "        [0., 0., 0., 0., 0., 0.],\n",
       "        [0., 0., 0., 0., 0., 0.],\n",
       "        [0., 0., 0., 0., 0., 0.],\n",
       "        [0., 0., 0., 0., 0., 0.],\n",
       "        [0., 0., 0., 0., 0., 0.]])}"
      ]
     },
     "execution_count": 4,
     "metadata": {},
     "output_type": "execute_result"
    }
   ],
   "source": [
    "olivine"
   ]
  },
  {
   "cell_type": "code",
   "execution_count": 5,
   "metadata": {},
   "outputs": [
    {
     "data": {
      "text/plain": [
       "array([[ 16.,   0.,   2.,   0.,   0.,   0.],\n",
       "       [  0., -16.,  -2.,   0.,   0.,   0.],\n",
       "       [  2.,  -2.,   0.,   0.,   0.,   0.],\n",
       "       [  0.,   0.,   0.,  -1.,   0.,   0.],\n",
       "       [  0.,   0.,   0.,   0.,   1.,   0.],\n",
       "       [  0.,   0.,   0.,   0.,   0.,   0.]])"
      ]
     },
     "execution_count": 5,
     "metadata": {},
     "output_type": "execute_result"
    }
   ],
   "source": [
    "olivine['orthorhombic']"
   ]
  },
  {
   "cell_type": "code",
   "execution_count": 6,
   "metadata": {},
   "outputs": [
    {
     "data": {
      "text/plain": [
       "array([[ 3., -3.,  0.,  0.,  0.,  0.],\n",
       "       [-3.,  3.,  0.,  0.,  0.,  0.],\n",
       "       [ 0.,  0.,  0.,  0.,  0.,  0.],\n",
       "       [ 0.,  0.,  0.,  0.,  0.,  0.],\n",
       "       [ 0.,  0.,  0.,  0.,  0.,  0.],\n",
       "       [ 0.,  0.,  0.,  0.,  0., -3.]])"
      ]
     },
     "execution_count": 6,
     "metadata": {},
     "output_type": "execute_result"
    }
   ],
   "source": [
    "olivine['tetragonal']"
   ]
  },
  {
   "cell_type": "code",
   "execution_count": 7,
   "metadata": {},
   "outputs": [
    {
     "data": {
      "text/plain": [
       "array([[-21.7,   1.7,  -9.3,   0. ,   0. ,   0. ],\n",
       "       [  1.7, -21.7,  -9.3,   0. ,   0. ,   0. ],\n",
       "       [ -9.3,  -9.3,  77.3,   0. ,   0. ,   0. ],\n",
       "       [  0. ,   0. ,   0. ,  -2.7,   0. ,   0. ],\n",
       "       [  0. ,   0. ,   0. ,   0. ,  -2.7,   0. ],\n",
       "       [  0. ,   0. ,   0. ,   0. ,   0. , -11.7]])"
      ]
     },
     "execution_count": 7,
     "metadata": {},
     "output_type": "execute_result"
    }
   ],
   "source": [
    "np.around(olivine['hexagonal'], decimals=1)"
   ]
  },
  {
   "cell_type": "code",
   "execution_count": 8,
   "metadata": {},
   "outputs": [
    {
     "data": {
      "text/plain": [
       "array([[194.7,  67.3,  67.3,   0. ,   0. ,   0. ],\n",
       "       [ 67.3, 194.7,  67.3,   0. ,   0. ,   0. ],\n",
       "       [ 67.3,  67.3, 194.7,   0. ,   0. ,   0. ],\n",
       "       [  0. ,   0. ,   0. ,  63.7,   0. ,   0. ],\n",
       "       [  0. ,   0. ,   0. ,   0. ,  63.7,   0. ],\n",
       "       [  0. ,   0. ,   0. ,   0. ,   0. ,  63.7]])"
      ]
     },
     "execution_count": 8,
     "metadata": {},
     "output_type": "execute_result"
    }
   ],
   "source": [
    "np.around(olivine['isotropic'], decimals=1)"
   ]
  },
  {
   "cell_type": "code",
   "execution_count": 9,
   "metadata": {},
   "outputs": [
    {
     "data": {
      "text/plain": [
       "array([[192.,  66.,  60.,   0.,   0.,   0.],\n",
       "       [ 66., 160.,  56.,   0.,   0.,   0.],\n",
       "       [ 60.,  56., 272.,   0.,   0.,   0.],\n",
       "       [  0.,   0.,   0.,  60.,   0.,   0.],\n",
       "       [  0.,   0.,   0.,   0.,  62.,   0.],\n",
       "       [  0.,   0.,   0.,   0.,   0.,  49.]])"
      ]
     },
     "execution_count": 9,
     "metadata": {},
     "output_type": "execute_result"
    }
   ],
   "source": [
    "olivine['orthorhombic'] + olivine['tetragonal'] + np.around(olivine['hexagonal'], decimals=1) + np.around(olivine['isotropic'], decimals=1)"
   ]
  },
  {
   "cell_type": "code",
   "execution_count": 10,
   "metadata": {},
   "outputs": [
    {
     "data": {
      "text/plain": [
       "(435.34966789160796,\n",
       " 88.73931860605346,\n",
       " 8.48528137423856,\n",
       " 23.15167380558045,\n",
       " 0.0,\n",
       " 444.98539301869226)"
      ]
     },
     "execution_count": 10,
     "metadata": {},
     "output_type": "execute_result"
    }
   ],
   "source": [
    "(\n",
    "np.linalg.norm(tensor_to_vector(olivine['isotropic'])),\n",
    "np.linalg.norm(tensor_to_vector(olivine['hexagonal'])),\n",
    "np.linalg.norm(tensor_to_vector(olivine['tetragonal'])),\n",
    "np.linalg.norm(tensor_to_vector(olivine['orthorhombic'])),\n",
    "np.linalg.norm(tensor_to_vector(olivine['monoclinic'])),\n",
    "np.linalg.norm(tensor_to_vector(Cij))\n",
    ")\n"
   ]
  },
  {
   "cell_type": "code",
   "execution_count": 11,
   "metadata": {},
   "outputs": [
    {
     "data": {
      "text/plain": [
       "555.7259416774804"
      ]
     },
     "execution_count": 11,
     "metadata": {},
     "output_type": "execute_result"
    }
   ],
   "source": [
    "suma = (np.linalg.norm(tensor_to_vector(olivine['isotropic'])) +\n",
    "        np.linalg.norm(tensor_to_vector(olivine['hexagonal'])) +\n",
    "        np.linalg.norm(tensor_to_vector(olivine['tetragonal'])) +\n",
    "        np.linalg.norm(tensor_to_vector(olivine['orthorhombic'])) +\n",
    "        np.linalg.norm(tensor_to_vector(olivine['monoclinic'])))\n",
    "suma"
   ]
  },
  {
   "cell_type": "code",
   "execution_count": 12,
   "metadata": {},
   "outputs": [
    {
     "name": "stdout",
     "output_type": "stream",
     "text": [
      " isotropic:   78.34 %\n",
      " hexagonal:   15.97 %\n",
      " tetragonal:   1.53 %\n",
      " orthorhombic: 4.17 %\n",
      " monoclinic:   0.00 %\n"
     ]
    }
   ],
   "source": [
    "print(f\" isotropic:   {100 * np.linalg.norm(tensor_to_vector(olivine['isotropic'])) / suma:.2f} %\\n\",\n",
    "      f\"hexagonal:   {100 * np.linalg.norm(tensor_to_vector(olivine['hexagonal'])) / suma:.2f} %\\n\",\n",
    "      f\"tetragonal:   {100 * np.linalg.norm(tensor_to_vector(olivine['tetragonal'])) / suma:.2f} %\\n\",\n",
    "      f\"orthorhombic: {100 * np.linalg.norm(tensor_to_vector(olivine['orthorhombic'])) / suma:.2f} %\\n\",\n",
    "      f\"monoclinic:   {100 * np.linalg.norm(tensor_to_vector(olivine['monoclinic'])) / suma:.2f} %\")"
   ]
  },
  {
   "cell_type": "code",
   "execution_count": 13,
   "metadata": {},
   "outputs": [],
   "source": [
    "# Elastic stiffness tensor of Enstatite used in Browaeys and Chevrot (2004)\n",
    "Cij = np.array(\n",
    "    [[255,  54,  72, 0.0, 0.0, 0.0],\n",
    "    [  54, 214,  53, 0.0, 0.0, 0.0],\n",
    "    [  72,  53, 178, 0.0, 0.0, 0.0],\n",
    "    [ 0.0, 0.0, 0.0,  78, 0.0, 0.0],\n",
    "    [ 0.0, 0.0, 0.0, 0.0,  82, 0.0],\n",
    "    [ 0.0, 0.0, 0.0, 0.0, 0.0,  76]])"
   ]
  },
  {
   "cell_type": "code",
   "execution_count": 14,
   "metadata": {},
   "outputs": [],
   "source": [
    "enstatite = decompose_Cij(Cij)"
   ]
  },
  {
   "cell_type": "code",
   "execution_count": 15,
   "metadata": {},
   "outputs": [
    {
     "data": {
      "text/plain": [
       "{'isotropic': array([[216.2,  59.4,  59.4,   0. ,   0. ,   0. ],\n",
       "        [ 59.4, 216.2,  59.4,   0. ,   0. ,   0. ],\n",
       "        [ 59.4,  59.4, 216.2,   0. ,   0. ,   0. ],\n",
       "        [  0. ,   0. ,   0. ,  78.4,   0. ,   0. ],\n",
       "        [  0. ,   0. ,   0. ,   0. ,  78.4,   0. ],\n",
       "        [  0. ,   0. ,   0. ,   0. ,   0. ,  78.4]]),\n",
       " 'hexagonal': array([[ 11.175,   1.725,   3.1  ,   0.   ,   0.   ,   0.   ],\n",
       "        [  1.725,  11.175,   3.1  ,   0.   ,   0.   ,   0.   ],\n",
       "        [  3.1  ,   3.1  , -38.2  ,   0.   ,   0.   ,   0.   ],\n",
       "        [  0.   ,   0.   ,   0.   ,   1.6  ,   0.   ,   0.   ],\n",
       "        [  0.   ,   0.   ,   0.   ,   0.   ,   1.6  ,   0.   ],\n",
       "        [  0.   ,   0.   ,   0.   ,   0.   ,   0.   ,   4.725]]),\n",
       " 'tetragonal': array([[ 7.125, -7.125,  0.   ,  0.   ,  0.   ,  0.   ],\n",
       "        [-7.125,  7.125,  0.   ,  0.   ,  0.   ,  0.   ],\n",
       "        [ 0.   ,  0.   ,  0.   ,  0.   ,  0.   ,  0.   ],\n",
       "        [ 0.   ,  0.   ,  0.   ,  0.   ,  0.   ,  0.   ],\n",
       "        [ 0.   ,  0.   ,  0.   ,  0.   ,  0.   ,  0.   ],\n",
       "        [ 0.   ,  0.   ,  0.   ,  0.   ,  0.   , -7.125]]),\n",
       " 'orthorhombic': array([[ 20.5,   0. ,   9.5,   0. ,   0. ,   0. ],\n",
       "        [  0. , -20.5,  -9.5,   0. ,   0. ,   0. ],\n",
       "        [  9.5,  -9.5,   0. ,   0. ,   0. ,   0. ],\n",
       "        [  0. ,   0. ,   0. ,  -2. ,   0. ,   0. ],\n",
       "        [  0. ,   0. ,   0. ,   0. ,   2. ,   0. ],\n",
       "        [  0. ,   0. ,   0. ,   0. ,   0. ,   0. ]]),\n",
       " 'monoclinic': array([[0., 0., 0., 0., 0., 0.],\n",
       "        [0., 0., 0., 0., 0., 0.],\n",
       "        [0., 0., 0., 0., 0., 0.],\n",
       "        [0., 0., 0., 0., 0., 0.],\n",
       "        [0., 0., 0., 0., 0., 0.],\n",
       "        [0., 0., 0., 0., 0., 0.]])}"
      ]
     },
     "execution_count": 15,
     "metadata": {},
     "output_type": "execute_result"
    }
   ],
   "source": [
    "enstatite"
   ]
  },
  {
   "cell_type": "code",
   "execution_count": 16,
   "metadata": {},
   "outputs": [],
   "source": [
    "suma2 = (np.linalg.norm(enstatite['isotropic']) +\n",
    "        np.linalg.norm(enstatite['hexagonal']) +\n",
    "        np.linalg.norm(enstatite['tetragonal']) +\n",
    "        np.linalg.norm(enstatite['orthorhombic']) +\n",
    "        np.linalg.norm(enstatite['monoclinic']))\n",
    "suma1 = (np.linalg.norm(tensor_to_vector(enstatite['isotropic'])) +\n",
    "        np.linalg.norm(tensor_to_vector(enstatite['hexagonal'])) +\n",
    "        np.linalg.norm(tensor_to_vector(enstatite['tetragonal'])) +\n",
    "        np.linalg.norm(tensor_to_vector(enstatite['orthorhombic'])) +\n",
    "        np.linalg.norm(tensor_to_vector(enstatite['monoclinic'])))"
   ]
  },
  {
   "cell_type": "code",
   "execution_count": 17,
   "metadata": {},
   "outputs": [
    {
     "name": "stdout",
     "output_type": "stream",
     "text": [
      " isotropic:   83.13 %\n",
      " hexagonal:    7.40 %\n",
      " tetragonal:   3.45 %\n",
      " orthorhombic: 6.02 %\n",
      " monoclinic:   0.00 %\n"
     ]
    }
   ],
   "source": [
    "print(f\" isotropic:   {100 * np.linalg.norm(tensor_to_vector(enstatite['isotropic'])) / suma1:.2f} %\\n\",\n",
    "      f\"hexagonal:    {100 * np.linalg.norm(tensor_to_vector(enstatite['hexagonal'])) / suma1:.2f} %\\n\",\n",
    "      f\"tetragonal:   {100 * np.linalg.norm(tensor_to_vector(enstatite['tetragonal'])) / suma1:.2f} %\\n\",\n",
    "      f\"orthorhombic: {100 * np.linalg.norm(tensor_to_vector(enstatite['orthorhombic'])) / suma1:.2f} %\\n\",\n",
    "      f\"monoclinic:   {100 * np.linalg.norm(tensor_to_vector(enstatite['monoclinic'])) / suma1:.2f} %\")"
   ]
  },
  {
   "cell_type": "code",
   "execution_count": 19,
   "metadata": {},
   "outputs": [
    {
     "data": {
      "text/plain": [
       "{'isotropic': 83.12585122721366,\n",
       " 'anisotropic': 16.87414877278634,\n",
       " 'hexagonal': 7.399199088105903,\n",
       " 'tetragonal': 3.4545203149774335,\n",
       " 'orthorhombic': 6.020429369703007,\n",
       " 'monoclinic': 0.0}"
      ]
     },
     "execution_count": 19,
     "metadata": {},
     "output_type": "execute_result"
    }
   ],
   "source": [
    "# test calc_percentages()\n",
    "calc_percentages(enstatite)"
   ]
  },
  {
   "cell_type": "code",
   "execution_count": 18,
   "metadata": {},
   "outputs": [
    {
     "name": "stdout",
     "output_type": "stream",
     "text": [
      " isotropic:   82.03 %\n",
      " hexagonal:    8.16 %\n",
      " tetragonal:   3.08 %\n",
      " orthorhombic: 6.73 %\n",
      " monoclinic:   0.00 %\n"
     ]
    }
   ],
   "source": [
    "print(f\" isotropic:   {100 * np.linalg.norm(enstatite['isotropic']) / suma2:.2f} %\\n\",\n",
    "      f\"hexagonal:    {100 * np.linalg.norm(enstatite['hexagonal']) / suma2:.2f} %\\n\",\n",
    "      f\"tetragonal:   {100 * np.linalg.norm(enstatite['tetragonal']) / suma2:.2f} %\\n\",\n",
    "      f\"orthorhombic: {100 * np.linalg.norm(enstatite['orthorhombic']) / suma2:.2f} %\\n\",\n",
    "      f\"monoclinic:   {100 * np.linalg.norm(enstatite['monoclinic']) / suma2:.2f} %\")"
   ]
  },
  {
   "cell_type": "markdown",
   "metadata": {},
   "source": [
    "# Test orthogonal_projector"
   ]
  },
  {
   "cell_type": "code",
   "execution_count": 20,
   "metadata": {},
   "outputs": [
    {
     "data": {
      "text/plain": [
       "array([[0.5, 0.5, 0. , 0. , 0. , 0. , 0. , 0. , 0. ],\n",
       "       [0.5, 0.5, 0. , 0. , 0. , 0. , 0. , 0. , 0. ],\n",
       "       [0. , 0. , 1. , 0. , 0. , 0. , 0. , 0. , 0. ],\n",
       "       [0. , 0. , 0. , 0.5, 0.5, 0. , 0. , 0. , 0. ],\n",
       "       [0. , 0. , 0. , 0.5, 0.5, 0. , 0. , 0. , 0. ],\n",
       "       [0. , 0. , 0. , 0. , 0. , 1. , 0. , 0. , 0. ],\n",
       "       [0. , 0. , 0. , 0. , 0. , 0. , 0.5, 0.5, 0. ],\n",
       "       [0. , 0. , 0. , 0. , 0. , 0. , 0.5, 0.5, 0. ],\n",
       "       [0. , 0. , 0. , 0. , 0. , 0. , 0. , 0. , 1. ]])"
      ]
     },
     "execution_count": 20,
     "metadata": {},
     "output_type": "execute_result"
    }
   ],
   "source": [
    "orthogonal_projector('tetragonal')[0:9, 0:9]"
   ]
  },
  {
   "cell_type": "code",
   "execution_count": 21,
   "metadata": {},
   "outputs": [
    {
     "data": {
      "text/plain": [
       "array([[ 0.38,  0.38,  0.  ,  0.  ,  0.  ,  0.18,  0.  ,  0.  ,  0.25],\n",
       "       [ 0.38,  0.38,  0.  ,  0.  ,  0.  ,  0.18,  0.  ,  0.  ,  0.25],\n",
       "       [ 0.  ,  0.  ,  1.  ,  0.  ,  0.  ,  0.  ,  0.  ,  0.  ,  0.  ],\n",
       "       [ 0.  ,  0.  ,  0.  ,  0.5 ,  0.5 ,  0.  ,  0.  ,  0.  ,  0.  ],\n",
       "       [ 0.  ,  0.  ,  0.  ,  0.5 ,  0.5 ,  0.  ,  0.  ,  0.  ,  0.  ],\n",
       "       [ 0.18,  0.18,  0.  ,  0.  ,  0.  ,  0.75,  0.  ,  0.  , -0.35],\n",
       "       [ 0.  ,  0.  ,  0.  ,  0.  ,  0.  ,  0.  ,  0.5 ,  0.5 ,  0.  ],\n",
       "       [ 0.  ,  0.  ,  0.  ,  0.  ,  0.  ,  0.  ,  0.5 ,  0.5 ,  0.  ],\n",
       "       [ 0.25,  0.25,  0.  ,  0.  ,  0.  , -0.35,  0.  ,  0.  ,  0.5 ]])"
      ]
     },
     "execution_count": 21,
     "metadata": {},
     "output_type": "execute_result"
    }
   ],
   "source": [
    "np.around(orthogonal_projector('hexagonal')[0:9, 0:9], decimals=2)"
   ]
  },
  {
   "cell_type": "code",
   "execution_count": 22,
   "metadata": {},
   "outputs": [
    {
     "data": {
      "text/plain": [
       "array([[ 0.2 ,  0.2 ,  0.2 ,  0.09,  0.09,  0.09,  0.13,  0.13,  0.13],\n",
       "       [ 0.2 ,  0.2 ,  0.2 ,  0.09,  0.09,  0.09,  0.13,  0.13,  0.13],\n",
       "       [ 0.2 ,  0.2 ,  0.2 ,  0.09,  0.09,  0.09,  0.13,  0.13,  0.13],\n",
       "       [ 0.09,  0.09,  0.09,  0.27,  0.27,  0.27, -0.09, -0.09, -0.09],\n",
       "       [ 0.09,  0.09,  0.09,  0.27,  0.27,  0.27, -0.09, -0.09, -0.09],\n",
       "       [ 0.09,  0.09,  0.09,  0.27,  0.27,  0.27, -0.09, -0.09, -0.09],\n",
       "       [ 0.13,  0.13,  0.13, -0.09, -0.09, -0.09,  0.2 ,  0.2 ,  0.2 ],\n",
       "       [ 0.13,  0.13,  0.13, -0.09, -0.09, -0.09,  0.2 ,  0.2 ,  0.2 ],\n",
       "       [ 0.13,  0.13,  0.13, -0.09, -0.09, -0.09,  0.2 ,  0.2 ,  0.2 ]])"
      ]
     },
     "execution_count": 22,
     "metadata": {},
     "output_type": "execute_result"
    }
   ],
   "source": [
    "np.around(orthogonal_projector('isotropic')[0:9, 0:9], decimals=2)"
   ]
  },
  {
   "cell_type": "code",
   "execution_count": 23,
   "metadata": {},
   "outputs": [
    {
     "data": {
      "text/plain": [
       "array([[1., 0., 0., 0., 0., 0., 0., 0., 0., 0., 0., 0., 0., 0., 0., 0.],\n",
       "       [0., 1., 0., 0., 0., 0., 0., 0., 0., 0., 0., 0., 0., 0., 0., 0.],\n",
       "       [0., 0., 1., 0., 0., 0., 0., 0., 0., 0., 0., 0., 0., 0., 0., 0.],\n",
       "       [0., 0., 0., 1., 0., 0., 0., 0., 0., 0., 0., 0., 0., 0., 0., 0.],\n",
       "       [0., 0., 0., 0., 1., 0., 0., 0., 0., 0., 0., 0., 0., 0., 0., 0.],\n",
       "       [0., 0., 0., 0., 0., 1., 0., 0., 0., 0., 0., 0., 0., 0., 0., 0.],\n",
       "       [0., 0., 0., 0., 0., 0., 1., 0., 0., 0., 0., 0., 0., 0., 0., 0.],\n",
       "       [0., 0., 0., 0., 0., 0., 0., 1., 0., 0., 0., 0., 0., 0., 0., 0.],\n",
       "       [0., 0., 0., 0., 0., 0., 0., 0., 1., 0., 0., 0., 0., 0., 0., 0.],\n",
       "       [0., 0., 0., 0., 0., 0., 0., 0., 0., 0., 0., 0., 0., 0., 0., 0.],\n",
       "       [0., 0., 0., 0., 0., 0., 0., 0., 0., 0., 0., 0., 0., 0., 0., 0.],\n",
       "       [0., 0., 0., 0., 0., 0., 0., 0., 0., 0., 0., 0., 0., 0., 0., 0.],\n",
       "       [0., 0., 0., 0., 0., 0., 0., 0., 0., 0., 0., 0., 0., 0., 0., 0.],\n",
       "       [0., 0., 0., 0., 0., 0., 0., 0., 0., 0., 0., 0., 0., 0., 0., 0.],\n",
       "       [0., 0., 0., 0., 0., 0., 0., 0., 0., 0., 0., 0., 0., 0., 0., 0.],\n",
       "       [0., 0., 0., 0., 0., 0., 0., 0., 0., 0., 0., 0., 0., 0., 0., 0.]])"
      ]
     },
     "execution_count": 23,
     "metadata": {},
     "output_type": "execute_result"
    }
   ],
   "source": [
    "np.around(orthogonal_projector('orthorhombic')[0:16, 0:16], decimals=2)"
   ]
  },
  {
   "cell_type": "code",
   "execution_count": 24,
   "metadata": {},
   "outputs": [
    {
     "data": {
      "text/plain": [
       "array([[1., 0., 0., 0., 0., 0., 0., 0., 0., 0., 0., 0., 0., 0., 0., 0.],\n",
       "       [0., 1., 0., 0., 0., 0., 0., 0., 0., 0., 0., 0., 0., 0., 0., 0.],\n",
       "       [0., 0., 1., 0., 0., 0., 0., 0., 0., 0., 0., 0., 0., 0., 0., 0.],\n",
       "       [0., 0., 0., 1., 0., 0., 0., 0., 0., 0., 0., 0., 0., 0., 0., 0.],\n",
       "       [0., 0., 0., 0., 1., 0., 0., 0., 0., 0., 0., 0., 0., 0., 0., 0.],\n",
       "       [0., 0., 0., 0., 0., 1., 0., 0., 0., 0., 0., 0., 0., 0., 0., 0.],\n",
       "       [0., 0., 0., 0., 0., 0., 1., 0., 0., 0., 0., 0., 0., 0., 0., 0.],\n",
       "       [0., 0., 0., 0., 0., 0., 0., 1., 0., 0., 0., 0., 0., 0., 0., 0.],\n",
       "       [0., 0., 0., 0., 0., 0., 0., 0., 1., 0., 0., 0., 0., 0., 0., 0.],\n",
       "       [0., 0., 0., 0., 0., 0., 0., 0., 0., 0., 0., 0., 0., 0., 0., 0.],\n",
       "       [0., 0., 0., 0., 0., 0., 0., 0., 0., 0., 0., 0., 0., 0., 0., 0.],\n",
       "       [0., 0., 0., 0., 0., 0., 0., 0., 0., 0., 0., 1., 0., 0., 0., 0.],\n",
       "       [0., 0., 0., 0., 0., 0., 0., 0., 0., 0., 0., 0., 0., 0., 0., 0.],\n",
       "       [0., 0., 0., 0., 0., 0., 0., 0., 0., 0., 0., 0., 0., 0., 0., 0.],\n",
       "       [0., 0., 0., 0., 0., 0., 0., 0., 0., 0., 0., 0., 0., 0., 1., 0.],\n",
       "       [0., 0., 0., 0., 0., 0., 0., 0., 0., 0., 0., 0., 0., 0., 0., 0.]])"
      ]
     },
     "execution_count": 24,
     "metadata": {},
     "output_type": "execute_result"
    }
   ],
   "source": [
    "np.around(orthogonal_projector('monoclinic')[0:16, 0:16], decimals=1)"
   ]
  },
  {
   "cell_type": "code",
   "execution_count": 25,
   "metadata": {},
   "outputs": [
    {
     "data": {
      "text/plain": [
       "array([[0., 0., 0., 0., 0., 0.],\n",
       "       [0., 0., 0., 0., 0., 0.],\n",
       "       [0., 0., 1., 0., 0., 0.],\n",
       "       [0., 0., 0., 0., 0., 0.],\n",
       "       [0., 0., 0., 0., 0., 0.],\n",
       "       [0., 0., 0., 0., 0., 1.]])"
      ]
     },
     "execution_count": 25,
     "metadata": {},
     "output_type": "execute_result"
    }
   ],
   "source": [
    "np.around(orthogonal_projector('monoclinic')[15:, 15:], decimals=1)"
   ]
  }
 ],
 "metadata": {
  "kernelspec": {
   "display_name": "main",
   "language": "python",
   "name": "python3"
  },
  "language_info": {
   "codemirror_mode": {
    "name": "ipython",
    "version": 3
   },
   "file_extension": ".py",
   "mimetype": "text/x-python",
   "name": "python",
   "nbconvert_exporter": "python",
   "pygments_lexer": "ipython3",
   "version": "3.10.12"
  },
  "orig_nbformat": 4
 },
 "nbformat": 4,
 "nbformat_minor": 2
}
