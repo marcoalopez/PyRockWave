{
 "cells": [
  {
   "cell_type": "markdown",
   "metadata": {},
   "source": [
    "# General procedure for rotating the stiffness tensor\n",
    "\n",
    "Rotating a rank-4 tensor involves applying the rotation to each of the tensor’s indices. For a stiffness tensor $C_{ijkl}$ and a rotation matrix $R$, the transformation rule for rotating is given by (we use $C_{abcd}$ for the original tensor):\n",
    "\n",
    "$$\n",
    "C'_{ijkl} = R_{ia} R_{jb} R_{kc} R_{ld} C_{abcd}\n",
    "$$\n",
    "\n",
    "where $C'$ is the rotated stiffness tensor, $R$ is the rotation matrix, and the indices run over the dimensions (1 to 3). This operation is also known as a tensor contraction.\n",
    "\n",
    "Here's a step-by-step process to rotate a 3x3x3x3 stiffness tensor using the `scipy.spatial.transform.Rotation` module to generate the rotation matrix:"
   ]
  },
  {
   "cell_type": "code",
   "execution_count": 1,
   "metadata": {},
   "outputs": [],
   "source": [
    "import numpy as np\n",
    "from scipy.spatial.transform import Rotation as R\n",
    "from tensor_tools import _rearrange_tensor, _tensor_in_voigt\n",
    "\n",
    "np.set_printoptions(suppress=True)\n",
    "\n",
    "\n",
    "def rotate_stiffness_tensor(\n",
    "    stiffness_tensor: np.ndarray, rotation_matrix: np.ndarray\n",
    ") -> np.ndarray:\n",
    "    \"\"\"Rotate a 3x3x3x3 symmetric stiffness tensor using numpy.einsum.\n",
    "    The operation is as follows:\n",
    "\n",
    "    C'ijkl = Ria x Rjb x Rkc x Rld x Cabcd\n",
    "\n",
    "    where Cabcd and C'ijkl are the original and the rotated tensor,\n",
    "    respectively, and R the rotation matrix\n",
    "\n",
    "    Parameters\n",
    "    ----------\n",
    "    stiffness_tensor : numpy.ndarray\n",
    "        symmetric stiffness tensor\n",
    "\n",
    "    rotation_matrix : numpy.ndarray\n",
    "        3x3 rotation matrix\n",
    "\n",
    "    Returns\n",
    "    -------\n",
    "    numpy.ndarray\n",
    "        Rotated 3x3x3x3 symmetric stiffness tensor\n",
    "    \"\"\"\n",
    "    # Ensure the inputs\n",
    "    assert stiffness_tensor.shape == (3, 3, 3, 3), \"Input tensor must be 3x3x3x3\"\n",
    "    assert rotation_matrix.shape == (3, 3), \"Rotation matrix must be 3x3\"\n",
    "\n",
    "    rotated_tensor = np.einsum(\n",
    "        \"ia,jb,kc,ld,abcd->ijkl\",\n",
    "        rotation_matrix,\n",
    "        rotation_matrix,\n",
    "        rotation_matrix,\n",
    "        rotation_matrix,\n",
    "        stiffness_tensor,\n",
    "    )\n",
    "\n",
    "    return rotated_tensor\n"
   ]
  },
  {
   "cell_type": "code",
   "execution_count": 2,
   "metadata": {},
   "outputs": [
    {
     "data": {
      "text/plain": [
       "array([[280.2,  71.9,  67.2,   0. ,   0. ,   0. ],\n",
       "       [ 71.9, 182.1,  70.1,   0. ,   0. ,   0. ],\n",
       "       [ 67.2,  70.1, 207.6,   0. ,   0. ,   0. ],\n",
       "       [  0. ,   0. ,   0. ,  56.8,   0. ,   0. ],\n",
       "       [  0. ,   0. ,   0. ,   0. ,  68.8,   0. ],\n",
       "       [  0. ,   0. ,   0. ,   0. ,   0. ,  68.5]])"
      ]
     },
     "execution_count": 2,
     "metadata": {},
     "output_type": "execute_result"
    }
   ],
   "source": [
    "# elastic constants of San Carlos olivine at 1.5 GPa and 1027°C (1300 K), custom fitting from Zhang and Bass (2016)\n",
    "C11 = 280.2\n",
    "C22 = 182.1\n",
    "C33 = 207.6\n",
    "C44 =  56.8\n",
    "C55 =  68.8\n",
    "C66 =  68.5\n",
    "C12 =  71.9\n",
    "C13 =  67.2\n",
    "C23 =  70.1\n",
    "\n",
    "# Elastic stiffness tensor (in GPa) values as a Cij matrix\n",
    "Cij = np.array(\n",
    "    [[C11, C12, C13, 0.0, 0.0, 0.0],\n",
    "    [ C12, C22, C23, 0.0, 0.0, 0.0],\n",
    "    [ C13, C23, C33, 0.0, 0.0, 0.0],\n",
    "    [ 0.0, 0.0, 0.0, C44, 0.0, 0.0],\n",
    "    [ 0.0, 0.0, 0.0, 0.0, C55, 0.0],\n",
    "    [ 0.0, 0.0, 0.0, 0.0, 0.0, C66]])\n",
    "\n",
    "Cij"
   ]
  },
  {
   "cell_type": "code",
   "execution_count": 3,
   "metadata": {},
   "outputs": [],
   "source": [
    "Cijkl = _rearrange_tensor(Cij)"
   ]
  },
  {
   "cell_type": "code",
   "execution_count": 4,
   "metadata": {},
   "outputs": [
    {
     "data": {
      "text/plain": [
       "array([[280.2,  71.9,  67.2,   0. ,   0. ,   0. ],\n",
       "       [ 71.9, 182.1,  70.1,   0. ,   0. ,   0. ],\n",
       "       [ 67.2,  70.1, 207.6,   0. ,   0. ,   0. ],\n",
       "       [  0. ,   0. ,   0. ,  56.8,   0. ,   0. ],\n",
       "       [  0. ,   0. ,   0. ,   0. ,  68.8,   0. ],\n",
       "       [  0. ,   0. ,   0. ,   0. ,   0. ,  68.5]])"
      ]
     },
     "execution_count": 4,
     "metadata": {},
     "output_type": "execute_result"
    }
   ],
   "source": [
    "# test\n",
    "_tensor_in_voigt(Cijkl)"
   ]
  },
  {
   "cell_type": "code",
   "execution_count": 5,
   "metadata": {},
   "outputs": [
    {
     "name": "stdout",
     "output_type": "stream",
     "text": [
      "Rotated Stiffness Tensor:\n",
      "\n"
     ]
    },
    {
     "data": {
      "text/plain": [
       "array([[220.02,  83.02,  68.65,   0.  ,   0.  ,  24.52],\n",
       "       [ 83.02, 220.02,  68.65,   0.  ,   0.  ,  24.53],\n",
       "       [ 68.65,  68.65, 207.6 ,   0.  ,   0.  ,  -1.45],\n",
       "       [  0.  ,   0.  ,   0.  ,  62.8 ,   6.  ,   0.  ],\n",
       "       [  0.  ,   0.  ,   0.  ,   6.  ,  62.8 ,   0.  ],\n",
       "       [ 24.52,  24.53,  -1.45,   0.  ,   0.  ,  79.62]])"
      ]
     },
     "execution_count": 5,
     "metadata": {},
     "output_type": "execute_result"
    }
   ],
   "source": [
    "# Example usage:\n",
    "\n",
    "# Define a rotation (for example, a 45-degree rotation around the z-axis)\n",
    "rotation = R.from_euler('z', 45, degrees=True)\n",
    "rotation_matrix = rotation.as_matrix()\n",
    "\n",
    "rotated_tensor = rotate_stiffness_tensor(Cijkl, rotation_matrix)\n",
    "\n",
    "Cij_rot = _tensor_in_voigt(rotated_tensor)\n",
    "\n",
    "print(\"Rotated Stiffness Tensor:\\n\")\n",
    "np.around(Cij_rot, 2)"
   ]
  },
  {
   "cell_type": "markdown",
   "metadata": {},
   "source": [
    "**MTEX result**:\n",
    "```\n",
    "tensor in Voigt matrix representation:\n",
    " 220.02  83.02  68.65      0      0  24.53\n",
    "  83.02 220.03  68.65      0      0  24.53\n",
    "  68.65  68.65  207.6      0      0  -1.45\n",
    "      0      0      0   62.8      6      0\n",
    "      0      0      0      6   62.8      0\n",
    "  24.52  24.53  -1.45      0      0  79.62\n",
    "```"
   ]
  },
  {
   "cell_type": "code",
   "execution_count": 6,
   "metadata": {},
   "outputs": [
    {
     "name": "stdout",
     "output_type": "stream",
     "text": [
      "Rotated Stiffness Tensor:\n"
     ]
    },
    {
     "data": {
      "text/plain": [
       "array([[280.2 ,  69.55,  69.55,   2.35,   0.  ,   0.  ],\n",
       "       [ 69.55, 189.28,  75.68,  -6.38,   0.  ,   0.  ],\n",
       "       [ 69.55,  75.68, 189.27,  -6.37,   0.  ,   0.  ],\n",
       "       [  2.35,  -6.38,  -6.37,  62.38,   0.  ,   0.  ],\n",
       "       [  0.  ,   0.  ,   0.  ,   0.  ,  68.65,  -0.15],\n",
       "       [  0.  ,   0.  ,   0.  ,   0.  ,  -0.15,  68.65]])"
      ]
     },
     "execution_count": 6,
     "metadata": {},
     "output_type": "execute_result"
    }
   ],
   "source": [
    "# Define a rotation (for example, a 45-degree rotation around the x-axis)\n",
    "rotation = R.from_euler('x', 45, degrees=True)\n",
    "rotation_matrix = rotation.as_matrix()\n",
    "\n",
    "rotated_tensor = rotate_stiffness_tensor(Cijkl, rotation_matrix)\n",
    "\n",
    "Cij_rot = _tensor_in_voigt(rotated_tensor)\n",
    "\n",
    "print(\"Rotated Stiffness Tensor:\")\n",
    "np.around(Cij_rot, 2)"
   ]
  },
  {
   "cell_type": "markdown",
   "metadata": {},
   "source": [
    "**MTEX result**:\n",
    "```\n",
    "tensor in Voigt matrix representation:\n",
    "  280.2  69.55  69.55   2.35      0      0\n",
    "  69.55 189.27  75.67  -6.38      0      0\n",
    "  69.55  75.67 189.27  -6.38      0      0\n",
    "   2.35  -6.38  -6.38  62.38      0      0\n",
    "      0      0      0      0  68.65  -0.15\n",
    "      0      0      0      0  -0.15  68.65\n",
    "```"
   ]
  },
  {
   "cell_type": "code",
   "execution_count": 7,
   "metadata": {},
   "outputs": [
    {
     "name": "stdout",
     "output_type": "stream",
     "text": [
      "Rotated Stiffness Tensor:\n"
     ]
    },
    {
     "data": {
      "text/plain": [
       "array([[224.35,  71.  ,  86.75,   0.  , -18.15,   0.  ],\n",
       "       [ 71.  , 182.1 ,  71.  ,   0.  ,  -0.9 ,   0.  ],\n",
       "       [ 86.75,  71.  , 224.35,   0.  , -18.15,   0.  ],\n",
       "       [  0.  ,   0.  ,   0.  ,  62.65,   0.  ,  -5.85],\n",
       "       [-18.15,  -0.9 , -18.15,   0.  ,  88.35,   0.  ],\n",
       "       [  0.  ,   0.  ,   0.  ,  -5.85,   0.  ,  62.65]])"
      ]
     },
     "execution_count": 7,
     "metadata": {},
     "output_type": "execute_result"
    }
   ],
   "source": [
    "# Define a rotation (for example, a 45-degree rotation around the y-axis)\n",
    "rotation = R.from_euler('y', 45, degrees=True)\n",
    "rotation_matrix = rotation.as_matrix()\n",
    "\n",
    "rotated_tensor = rotate_stiffness_tensor(Cijkl, rotation_matrix)\n",
    "\n",
    "Cij_rot = _tensor_in_voigt(rotated_tensor)\n",
    "\n",
    "print(\"Rotated Stiffness Tensor:\")\n",
    "np.around(Cij_rot, 2)"
   ]
  },
  {
   "cell_type": "markdown",
   "metadata": {},
   "source": [
    "**MTEX result**:\n",
    "```\n",
    "tensor in Voigt matrix representation:\n",
    " 224.35     71  86.75      0 -18.15      0\n",
    "     71  182.1     71      0   -0.9      0\n",
    "  86.75     71 224.35      0 -18.15      0\n",
    "      0      0      0  62.65      0  -5.85\n",
    " -18.15   -0.9 -18.15      0  88.35      0\n",
    "      0      0      0  -5.85      0  62.65\n",
    "```"
   ]
  },
  {
   "cell_type": "markdown",
   "metadata": {},
   "source": [
    "MTEX pole figure plot\n",
    "\n",
    "![90 rot](https://raw.githubusercontent.com/marcoalopez/PyRockWave/main/src/img/mtex_ol_rotated.png)"
   ]
  },
  {
   "cell_type": "markdown",
   "metadata": {},
   "source": [
    "___"
   ]
  },
  {
   "cell_type": "code",
   "execution_count": 8,
   "metadata": {},
   "outputs": [
    {
     "name": "stdout",
     "output_type": "stream",
     "text": [
      "Rotated Stiffness Tensor:\n"
     ]
    },
    {
     "data": {
      "text/plain": [
       "array([[182.1,  71.9,  70.1,   0. ,   0. ,   0. ],\n",
       "       [ 71.9, 280.2,  67.2,   0. ,   0. ,   0. ],\n",
       "       [ 70.1,  67.2, 207.6,   0. ,   0. ,   0. ],\n",
       "       [  0. ,   0. ,   0. ,  68.8,   0. ,   0. ],\n",
       "       [  0. ,   0. ,   0. ,   0. ,  56.8,   0. ],\n",
       "       [  0. ,   0. ,   0. ,   0. ,   0. ,  68.5]])"
      ]
     },
     "execution_count": 8,
     "metadata": {},
     "output_type": "execute_result"
    }
   ],
   "source": [
    "# Define a rotation (for example, a 90-degree rotation around the z-axis)\n",
    "rotation = R.from_euler('z', 90, degrees=True)\n",
    "rotated_tensor = rotate_stiffness_tensor(Cijkl, rotation.as_matrix())\n",
    "Cij_rot = _tensor_in_voigt(rotated_tensor)\n",
    "\n",
    "print(\"Rotated Stiffness Tensor:\") \n",
    "np.around(Cij_rot, 2)"
   ]
  },
  {
   "cell_type": "markdown",
   "metadata": {},
   "source": [
    "**MTEX result**:\n",
    "```\n",
    " tensor in Voigt matrix representation:\n",
    " 182.1  71.9  70.1     0     0     0\n",
    "  71.9 280.2  67.2     0     0     0\n",
    "  70.1  67.2 207.6     0     0     0\n",
    "     0     0     0  68.8     0     0\n",
    "     0     0     0     0  56.8     0\n",
    "     0     0     0     0     0  68.5\n",
    "```"
   ]
  },
  {
   "cell_type": "code",
   "execution_count": 9,
   "metadata": {},
   "outputs": [
    {
     "name": "stdout",
     "output_type": "stream",
     "text": [
      "Rotated Stiffness Tensor:\n"
     ]
    },
    {
     "data": {
      "text/plain": [
       "array([[280.2,  67.2,  71.9,   0. ,   0. ,   0. ],\n",
       "       [ 67.2, 207.6,  70.1,   0. ,   0. ,   0. ],\n",
       "       [ 71.9,  70.1, 182.1,   0. ,   0. ,   0. ],\n",
       "       [  0. ,   0. ,   0. ,  56.8,   0. ,   0. ],\n",
       "       [  0. ,   0. ,   0. ,   0. ,  68.5,   0. ],\n",
       "       [  0. ,   0. ,   0. ,   0. ,   0. ,  68.8]])"
      ]
     },
     "execution_count": 9,
     "metadata": {},
     "output_type": "execute_result"
    }
   ],
   "source": [
    "# Define a rotation (for example, a 90-degree rotation around the x-axis)\n",
    "rotation = R.from_euler('x', 90, degrees=True)\n",
    "rotated_tensor = rotate_stiffness_tensor(Cijkl, rotation.as_matrix())\n",
    "Cij_rot = _tensor_in_voigt(rotated_tensor)\n",
    "\n",
    "print(\"Rotated Stiffness Tensor:\") \n",
    "np.around(Cij_rot, 2)"
   ]
  },
  {
   "cell_type": "markdown",
   "metadata": {},
   "source": [
    "**MTEX result**:\n",
    "```\n",
    "tensor in Voigt matrix representation:\n",
    " 280.2  67.2  71.9     0     0     0\n",
    "  67.2 207.6  70.1     0     0     0\n",
    "  71.9  70.1 182.1     0     0     0\n",
    "     0     0     0  56.8     0     0\n",
    "     0     0     0     0  68.5     0\n",
    "     0     0     0     0     0  68.8\n",
    "```"
   ]
  },
  {
   "cell_type": "code",
   "execution_count": 10,
   "metadata": {},
   "outputs": [
    {
     "name": "stdout",
     "output_type": "stream",
     "text": [
      "Rotated Stiffness Tensor:\n"
     ]
    },
    {
     "data": {
      "text/plain": [
       "array([[207.6,  70.1,  67.2,   0. ,   0. ,   0. ],\n",
       "       [ 70.1, 182.1,  71.9,   0. ,   0. ,   0. ],\n",
       "       [ 67.2,  71.9, 280.2,   0. ,   0. ,   0. ],\n",
       "       [  0. ,   0. ,   0. ,  68.5,   0. ,   0. ],\n",
       "       [  0. ,   0. ,   0. ,   0. ,  68.8,   0. ],\n",
       "       [  0. ,   0. ,   0. ,   0. ,   0. ,  56.8]])"
      ]
     },
     "execution_count": 10,
     "metadata": {},
     "output_type": "execute_result"
    }
   ],
   "source": [
    "# Define a rotation (for example, a 90-degree rotation around the y-axis)\n",
    "rotation = R.from_euler('y', 90, degrees=True)\n",
    "rotated_tensor = rotate_stiffness_tensor(Cijkl, rotation.as_matrix())\n",
    "Cij_rot = _tensor_in_voigt(rotated_tensor)\n",
    "\n",
    "print(\"Rotated Stiffness Tensor:\") \n",
    "np.around(Cij_rot, 2)"
   ]
  },
  {
   "cell_type": "markdown",
   "metadata": {},
   "source": [
    "**MTEX result**:\n",
    "```\n",
    "tensor in Voigt matrix representation:\n",
    " 207.6  70.1  67.2     0     0     0\n",
    "  70.1 182.1  71.9     0     0     0\n",
    "  67.2  71.9 280.2     0     0     0\n",
    "     0     0     0  68.5     0     0\n",
    "     0     0     0     0  68.8     0\n",
    "     0     0     0     0     0  56.8\n",
    "```"
   ]
  },
  {
   "cell_type": "markdown",
   "metadata": {},
   "source": [
    "MTEX pole figure plot\n",
    "\n",
    "![90 rot](https://raw.githubusercontent.com/marcoalopez/PyRockWave/main/src/img/mtex_ol.png)"
   ]
  },
  {
   "cell_type": "markdown",
   "metadata": {},
   "source": []
  }
 ],
 "metadata": {
  "kernelspec": {
   "display_name": "main",
   "language": "python",
   "name": "python3"
  },
  "language_info": {
   "codemirror_mode": {
    "name": "ipython",
    "version": 3
   },
   "file_extension": ".py",
   "mimetype": "text/x-python",
   "name": "python",
   "nbconvert_exporter": "python",
   "pygments_lexer": "ipython3",
   "version": "3.11.5"
  }
 },
 "nbformat": 4,
 "nbformat_minor": 2
}
