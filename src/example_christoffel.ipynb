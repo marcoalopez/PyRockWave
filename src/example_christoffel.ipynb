{
 "cells": [
  {
   "cell_type": "markdown",
   "metadata": {},
   "source": [
    "# Demonstration of the functionality of the ``christoffel`` module\n",
    "\n",
    "TODO"
   ]
  },
  {
   "cell_type": "code",
   "execution_count": 1,
   "metadata": {},
   "outputs": [],
   "source": [
    "# import some general scientific Python libraries\n",
    "import numpy as np\n",
    "\n",
    "# import required PyRockWave modules\n",
    "import christoffel as ch"
   ]
  },
  {
   "cell_type": "code",
   "execution_count": 2,
   "metadata": {},
   "outputs": [],
   "source": [
    "# load test data\n",
    "Cij = np.array([[118.8,  53.8,  53.8,   0. ,   0. ,   0. ],\n",
    "                [ 53.8, 118.8,  53.8,   0. ,   0. ,   0. ],\n",
    "                [ 53.8,  53.8, 118.8,   0. ,   0. ,   0. ],\n",
    "                [  0. ,   0. ,   0. ,  59.4,   0. ,   0. ],\n",
    "                [  0. ,   0. ,   0. ,   0. ,  59.4,   0. ],\n",
    "                [  0. ,   0. ,   0. ,   0. ,   0. ,  59.4]])\n",
    "\n",
    "density = 5.307"
   ]
  },
  {
   "cell_type": "code",
   "execution_count": 3,
   "metadata": {},
   "outputs": [],
   "source": [
    "scaling_factor = 1 / density"
   ]
  },
  {
   "cell_type": "code",
   "execution_count": 4,
   "metadata": {},
   "outputs": [
    {
     "data": {
      "text/plain": [
       "(3, 3, 3, 3)"
      ]
     },
     "execution_count": 4,
     "metadata": {},
     "output_type": "execute_result"
    }
   ],
   "source": [
    "Cijkl = ch._rearrange_tensor(Cij)\n",
    "Cijkl.shape"
   ]
  },
  {
   "cell_type": "code",
   "execution_count": 5,
   "metadata": {},
   "outputs": [
    {
     "data": {
      "text/plain": [
       "array([[22.38552855,  0.        ,  0.        ],\n",
       "       [ 0.        , 11.19276427,  0.        ],\n",
       "       [ 0.        ,  0.        , 11.19276427]])"
      ]
     },
     "execution_count": 5,
     "metadata": {},
     "output_type": "execute_result"
    }
   ],
   "source": [
    "Mij = ch._christoffel_matrix(wavevector=np.array([1,0,0]), Cijkl=Cijkl)\n",
    "Mij = Mij * scaling_factor\n",
    "Mij"
   ]
  },
  {
   "cell_type": "code",
   "execution_count": 6,
   "metadata": {},
   "outputs": [],
   "source": [
    "eigenvalues, eigenvectors = ch._calc_eigen(Mij)  # eigenvalues (3,), eigenvectors (3,3)"
   ]
  },
  {
   "cell_type": "code",
   "execution_count": 7,
   "metadata": {},
   "outputs": [
    {
     "data": {
      "text/plain": [
       "array([3.34555889, 3.34555889, 4.73133475])"
      ]
     },
     "execution_count": 7,
     "metadata": {},
     "output_type": "execute_result"
    }
   ],
   "source": [
    "ch.calc_phase_velocities(eigenvalues)  # (Vs2, Vs1, Vp)"
   ]
  },
  {
   "cell_type": "markdown",
   "metadata": {},
   "source": [
    "Test another direction, e.g. [1,1,0]"
   ]
  },
  {
   "cell_type": "code",
   "execution_count": 8,
   "metadata": {},
   "outputs": [
    {
     "data": {
      "text/plain": [
       "array([2.47466911, 3.34555889, 5.23968564])"
      ]
     },
     "execution_count": 8,
     "metadata": {},
     "output_type": "execute_result"
    }
   ],
   "source": [
    "M2 = ch._christoffel_matrix(wavevector=np.array([1,1,0]), Cijkl=Cijkl)\n",
    "M2 = M2 * scaling_factor\n",
    "eigenvalues, eigenvectors = ch._calc_eigen(M2)\n",
    "\n",
    "ch.calc_phase_velocities(eigenvalues)  # (Vs2, Vs1, Vp)"
   ]
  },
  {
   "cell_type": "code",
   "execution_count": 9,
   "metadata": {},
   "outputs": [
    {
     "name": "stdout",
     "output_type": "stream",
     "text": [
      "Notebook tested in 2023-07-27 using:\n",
      "Python 3.10.12 | packaged by Anaconda, Inc. | (main, Jul  5 2023, 19:09:20) [MSC v.1916 64 bit (AMD64)]\n",
      "Numpy 1.25.0\n"
     ]
    }
   ],
   "source": [
    "import sys\n",
    "from datetime import date    \n",
    "today = date.today().isoformat()\n",
    "\n",
    "print(f'Notebook tested in {today} using:')\n",
    "print('Python', sys.version)\n",
    "print('Numpy', np.__version__)"
   ]
  }
 ],
 "metadata": {
  "kernelspec": {
   "display_name": "Python 3",
   "language": "python",
   "name": "python3"
  },
  "language_info": {
   "codemirror_mode": {
    "name": "ipython",
    "version": 3
   },
   "file_extension": ".py",
   "mimetype": "text/x-python",
   "name": "python",
   "nbconvert_exporter": "python",
   "pygments_lexer": "ipython3",
   "version": "3.10.12"
  },
  "orig_nbformat": 4
 },
 "nbformat": 4,
 "nbformat_minor": 2
}
