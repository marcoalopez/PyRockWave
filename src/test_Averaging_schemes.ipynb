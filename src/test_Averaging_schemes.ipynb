{
 "cells": [
  {
   "cell_type": "markdown",
   "metadata": {},
   "source": [
    "# Averaging schemes\n",
    "\n",
    "TODO\n",
    "\n",
    "\n",
    "\n",
    "$$\n",
    "C_{VRH} = \\frac{1}{2} (C_{Voigt} + C_{Reuss})\n",
    "$$\n",
    "\n",
    "where\n",
    "\n",
    "$$\n",
    "C_{Voigt} = \\sum_{i=1}^{N} v_i C_i \n",
    "$$\n",
    "\n",
    "$$\n",
    "C_{Reuss} = \\left[ \\sum_{i=1}^{N} v_i S_i \\right]^{-1} \n",
    "$$"
   ]
  },
  {
   "cell_type": "markdown",
   "metadata": {},
   "source": []
  }
 ],
 "metadata": {
  "language_info": {
   "name": "python"
  }
 },
 "nbformat": 4,
 "nbformat_minor": 2
}
