{
 "cells": [
  {
   "cell_type": "code",
   "execution_count": 1,
   "id": "0c44638c-7b71-4d8f-ae6c-7d811ed15bb0",
   "metadata": {},
   "outputs": [],
   "source": [
    "import numpy as np\n",
    "from ElasticClass import ElasticProps"
   ]
  },
  {
   "cell_type": "code",
   "execution_count": 2,
   "id": "9c85f349-dd36-4c9b-8b36-aea27f9b32e2",
   "metadata": {},
   "outputs": [],
   "source": [
    "# density (g/cm3)\n",
    "rho = 2.742\n",
    "\n",
    "# alpha quartz has six independent elastic constants: C11, C33, C12, C13, C14 and C44\n",
    "C11 = 87.64\n",
    "C33 = 107.20\n",
    "C44 = 57.94\n",
    "C12 = 6.99\n",
    "C13 = 11.91\n",
    "C14 = -17.19\n",
    "\n",
    "# dependent terms\n",
    "C66 = 0.5 * (C11 - C12)\n",
    "C22, C55, C23, C24, C56 = C11, C44, C13, -C14, C14\n",
    "\n",
    "# Elastic stiffness tensor (in GPa) values as a Cij matrixj\n",
    "Cij_aQtz = np.array(\n",
    "    [[C11, C12, C13, C14, 0.0, 0.0],\n",
    "    [ C12, C22, C23, C24, 0.0, 0.0],\n",
    "    [ C13, C13, C33, 0.0, 0.0, 0.0],\n",
    "    [ C14, C24, 0.0, C44, 0.0, 0.0],\n",
    "    [ 0.0, 0.0, 0.0, 0.0, C55, C56],\n",
    "    [ 0.0, 0.0, 0.0, 0.0, C56, C66]])"
   ]
  },
  {
   "cell_type": "code",
   "execution_count": 3,
   "id": "1769c726-986e-4f49-9fc6-f9685a567763",
   "metadata": {},
   "outputs": [],
   "source": [
    "alpha_quartz = ElasticProps(Cij=Cij_aQtz,\n",
    "                            density=rho,\n",
    "                            mineral_name='alpha quartz',\n",
    "                            reference='test et al.',\n",
    "                            crystal_system='Trigonal',\n",
    "                            pressure=1e-4,\n",
    "                            temperature=24)"
   ]
  },
  {
   "cell_type": "code",
   "execution_count": 4,
   "id": "b20e01c1",
   "metadata": {},
   "outputs": [
    {
     "data": {
      "text/plain": [
       "<class 'ElasticClass.ElasticProps'>\n",
       "\n",
       "Mineral Name: alpha quartz\n",
       "Reference Source: test et al.\n",
       "Crystal System: Trigonal\n",
       "Pressure (GPa): 0.0\n",
       "Temperature (°C): 24\n",
       "Density (g/cm3): 2.742\n",
       "\n",
       "Elastic Tensor (Cij) in GPa:\n",
       "[[ 87.64    6.99   11.91  -17.19    0.      0.   ]\n",
       " [  6.99   87.64   11.91   17.19    0.      0.   ]\n",
       " [ 11.91   11.91  107.2     0.      0.      0.   ]\n",
       " [-17.19   17.19    0.     57.94    0.      0.   ]\n",
       " [  0.      0.      0.      0.     57.94  -17.19 ]\n",
       " [  0.      0.      0.      0.    -17.19   40.325]]\n",
       "\n",
       "Tensor decomposition:\n",
       "Isotropy = 85.9 %\n",
       "Anisotropy = 14.1 %\n",
       "(hexagonal, tetragonal, orthorhombic, monoclinic):\n",
       "(14.1 %, 0.0 %, 0.0 %, 0.0 %)\n",
       "\n",
       "Anisotropy indexes:\n",
       "    Universal Elastic Anisotropy:           0.755\n",
       "    Kube's Anisotropy Index (proportional): 0.309\n",
       "\n",
       "Calculated elastic average properties:\n",
       "Unit:GPa  Bulk_modulus  Shear_modulus  Poisson_ratio\n",
       "   Voigt        38.233         48.019          0.057\n",
       "    Hill        37.979         44.920          0.076\n",
       "   Reuss        37.724         41.821          0.095\n",
       "\n",
       "Isotropic seismic properties:\n",
       "Unit:km/s    Vp    Vs  Vp/vs\n",
       "    Voigt 6.107 4.185  1.459\n",
       "     Hill 5.974 4.047  1.476\n",
       "    Reuss 5.839 3.905  1.495"
      ]
     },
     "execution_count": 4,
     "metadata": {},
     "output_type": "execute_result"
    }
   ],
   "source": [
    "alpha_quartz"
   ]
  },
  {
   "cell_type": "code",
   "execution_count": 5,
   "id": "b5a890b3",
   "metadata": {},
   "outputs": [
    {
     "data": {
      "text/plain": [
       "ElasticClass.ElasticProps"
      ]
     },
     "execution_count": 5,
     "metadata": {},
     "output_type": "execute_result"
    }
   ],
   "source": [
    "type(alpha_quartz)"
   ]
  },
  {
   "cell_type": "code",
   "execution_count": 6,
   "id": "2ceafc6b-88fa-4c96-81f9-7888512e4458",
   "metadata": {},
   "outputs": [
    {
     "data": {
      "text/plain": [
       "48.019"
      ]
     },
     "execution_count": 6,
     "metadata": {},
     "output_type": "execute_result"
    }
   ],
   "source": [
    "alpha_quartz.G_voigt"
   ]
  },
  {
   "cell_type": "code",
   "execution_count": 7,
   "id": "c1154a7a",
   "metadata": {},
   "outputs": [
    {
     "data": {
      "text/plain": [
       "6.1068"
      ]
     },
     "execution_count": 7,
     "metadata": {},
     "output_type": "execute_result"
    }
   ],
   "source": [
    "alpha_quartz.isotropic_vp_voigt"
   ]
  },
  {
   "cell_type": "code",
   "execution_count": 8,
   "id": "6c8c9edd",
   "metadata": {},
   "outputs": [
    {
     "name": "stdout",
     "output_type": "stream",
     "text": [
      "Notebook tested in 2023-08-28 using:\n",
      "Python 3.10.12 | packaged by Anaconda, Inc. | (main, Jul  5 2023, 19:01:18) [MSC v.1916 64 bit (AMD64)]\n",
      "Numpy 1.25.2\n"
     ]
    }
   ],
   "source": [
    "import sys\n",
    "from datetime import date    \n",
    "today = date.today().isoformat()\n",
    "\n",
    "print(f'Notebook tested in {today} using:')\n",
    "print('Python', sys.version)\n",
    "print('Numpy', np.__version__)"
   ]
  },
  {
   "cell_type": "code",
   "execution_count": 9,
   "id": "2cf7fc25",
   "metadata": {},
   "outputs": [
    {
     "ename": "Exception",
     "evalue": "the elastic tensor is not symmetric!",
     "output_type": "error",
     "traceback": [
      "\u001b[1;31m---------------------------------------------------------------------------\u001b[0m",
      "\u001b[1;31mException\u001b[0m                                 Traceback (most recent call last)",
      "Cell \u001b[1;32mIn[9], line 9\u001b[0m\n\u001b[0;32m      1\u001b[0m Cij_wrong \u001b[39m=\u001b[39m np\u001b[39m.\u001b[39marray(\n\u001b[0;32m      2\u001b[0m     [[C11, C12, C13, C14, \u001b[39m0.0\u001b[39m, \u001b[39m0.0\u001b[39m],\n\u001b[0;32m      3\u001b[0m     [ \u001b[39m6.9\u001b[39m, C22, C23, C24, \u001b[39m0.0\u001b[39m, \u001b[39m0.0\u001b[39m],\n\u001b[1;32m   (...)\u001b[0m\n\u001b[0;32m      6\u001b[0m     [ \u001b[39m0.0\u001b[39m, \u001b[39m0.0\u001b[39m, \u001b[39m0.0\u001b[39m, \u001b[39m0.0\u001b[39m, C55, C56],\n\u001b[0;32m      7\u001b[0m     [ \u001b[39m0.0\u001b[39m, \u001b[39m0.0\u001b[39m, \u001b[39m0.0\u001b[39m, \u001b[39m0.0\u001b[39m, C56, C66]])\n\u001b[1;32m----> 9\u001b[0m wrong_quartz \u001b[39m=\u001b[39m ElasticProps(Cij\u001b[39m=\u001b[39;49mCij_wrong,\n\u001b[0;32m     10\u001b[0m                             density\u001b[39m=\u001b[39;49mrho,\n\u001b[0;32m     11\u001b[0m                             mineral_name\u001b[39m=\u001b[39;49m\u001b[39m'\u001b[39;49m\u001b[39malpha quartz\u001b[39;49m\u001b[39m'\u001b[39;49m,\n\u001b[0;32m     12\u001b[0m                             reference\u001b[39m=\u001b[39;49m\u001b[39m'\u001b[39;49m\u001b[39mtest et al.\u001b[39;49m\u001b[39m'\u001b[39;49m,\n\u001b[0;32m     13\u001b[0m                             crystal_system\u001b[39m=\u001b[39;49m\u001b[39m'\u001b[39;49m\u001b[39mTrigonal\u001b[39;49m\u001b[39m'\u001b[39;49m,\n\u001b[0;32m     14\u001b[0m                             pressure\u001b[39m=\u001b[39;49m\u001b[39m1e-4\u001b[39;49m,\n\u001b[0;32m     15\u001b[0m                             temperature\u001b[39m=\u001b[39;49m\u001b[39m24\u001b[39;49m)\n",
      "File \u001b[1;32m<string>:11\u001b[0m, in \u001b[0;36m__init__\u001b[1;34m(self, temperature, pressure, density, Cij, mineral_name, crystal_system, rock_type, reference)\u001b[0m\n",
      "File \u001b[1;32mc:\\Users\\Marco\\Documents\\GitHub\\PyRockWave\\src\\ElasticClass.py:98\u001b[0m, in \u001b[0;36mElasticProps.__post_init__\u001b[1;34m(self)\u001b[0m\n\u001b[0;32m     96\u001b[0m \u001b[39m# check the symmetry of the elastic tensor\u001b[39;00m\n\u001b[0;32m     97\u001b[0m \u001b[39mif\u001b[39;00m \u001b[39mnot\u001b[39;00m np\u001b[39m.\u001b[39mallclose(\u001b[39mself\u001b[39m\u001b[39m.\u001b[39mCij, \u001b[39mself\u001b[39m\u001b[39m.\u001b[39mCij\u001b[39m.\u001b[39mT):\n\u001b[1;32m---> 98\u001b[0m     \u001b[39mraise\u001b[39;00m \u001b[39mException\u001b[39;00m(\u001b[39m\"\u001b[39m\u001b[39mthe elastic tensor is not symmetric!\u001b[39m\u001b[39m\"\u001b[39m)\n\u001b[0;32m    100\u001b[0m \u001b[39m# Calculate the compliance tensor\u001b[39;00m\n\u001b[0;32m    101\u001b[0m \u001b[39mself\u001b[39m\u001b[39m.\u001b[39mSij \u001b[39m=\u001b[39m np\u001b[39m.\u001b[39mlinalg\u001b[39m.\u001b[39minv(\u001b[39mself\u001b[39m\u001b[39m.\u001b[39mCij)\n",
      "\u001b[1;31mException\u001b[0m: the elastic tensor is not symmetric!"
     ]
    }
   ],
   "source": [
    "Cij_wrong = np.array(\n",
    "    [[C11, C12, C13, C14, 0.0, 0.0],\n",
    "    [ 6.9, C22, C23, C24, 0.0, 0.0],\n",
    "    [ C13, C13, C33, 0.0, 0.0, 0.0],\n",
    "    [ C14, C24, 0.0, C44, 0.0, 0.0],\n",
    "    [ 0.0, 0.0, 0.0, 0.0, C55, C56],\n",
    "    [ 0.0, 0.0, 0.0, 0.0, C56, C66]])\n",
    "\n",
    "wrong_quartz = ElasticProps(Cij=Cij_wrong,\n",
    "                            density=rho,\n",
    "                            mineral_name='alpha quartz',\n",
    "                            reference='test et al.',\n",
    "                            crystal_system='Trigonal',\n",
    "                            pressure=1e-4,\n",
    "                            temperature=24)"
   ]
  },
  {
   "cell_type": "code",
   "execution_count": 10,
   "id": "beb91b4b",
   "metadata": {},
   "outputs": [
    {
     "ename": "ValueError",
     "evalue": "Invalid crystal system. Please choose one of the following: Cubic, Tetragonal, Orthorhombic, Rhombohedral, Hexagonal, Trigonal, Monoclinic, or Triclinic",
     "output_type": "error",
     "traceback": [
      "\u001b[1;31m---------------------------------------------------------------------------\u001b[0m",
      "\u001b[1;31mValueError\u001b[0m                                Traceback (most recent call last)",
      "Cell \u001b[1;32mIn[10], line 1\u001b[0m\n\u001b[1;32m----> 1\u001b[0m alpha_quartz \u001b[39m=\u001b[39m ElasticProps(Cij\u001b[39m=\u001b[39;49mCij_aQtz,\n\u001b[0;32m      2\u001b[0m                             density\u001b[39m=\u001b[39;49mrho,\n\u001b[0;32m      3\u001b[0m                             mineral_name\u001b[39m=\u001b[39;49m\u001b[39m'\u001b[39;49m\u001b[39malpha quartz\u001b[39;49m\u001b[39m'\u001b[39;49m,\n\u001b[0;32m      4\u001b[0m                             reference\u001b[39m=\u001b[39;49m\u001b[39m'\u001b[39;49m\u001b[39mtest et al.\u001b[39;49m\u001b[39m'\u001b[39;49m,\n\u001b[0;32m      5\u001b[0m                             crystal_system\u001b[39m=\u001b[39;49m\u001b[39m'\u001b[39;49m\u001b[39mtest\u001b[39;49m\u001b[39m'\u001b[39;49m,\n\u001b[0;32m      6\u001b[0m                             pressure\u001b[39m=\u001b[39;49m\u001b[39m1e-4\u001b[39;49m,\n\u001b[0;32m      7\u001b[0m                             temperature\u001b[39m=\u001b[39;49m\u001b[39m24\u001b[39;49m)\n",
      "File \u001b[1;32m<string>:11\u001b[0m, in \u001b[0;36m__init__\u001b[1;34m(self, temperature, pressure, density, Cij, mineral_name, crystal_system, rock_type, reference)\u001b[0m\n",
      "File \u001b[1;32mc:\\Users\\Marco\\Documents\\GitHub\\PyRockWave\\src\\ElasticClass.py:92\u001b[0m, in \u001b[0;36mElasticProps.__post_init__\u001b[1;34m(self)\u001b[0m\n\u001b[0;32m     90\u001b[0m \u001b[39mif\u001b[39;00m \u001b[39mself\u001b[39m\u001b[39m.\u001b[39mcrystal_system \u001b[39mis\u001b[39;00m \u001b[39mnot\u001b[39;00m \u001b[39mNone\u001b[39;00m:\n\u001b[0;32m     91\u001b[0m     \u001b[39mif\u001b[39;00m \u001b[39mself\u001b[39m\u001b[39m.\u001b[39mcrystal_system \u001b[39mnot\u001b[39;00m \u001b[39min\u001b[39;00m valid_crystal_systems:\n\u001b[1;32m---> 92\u001b[0m         \u001b[39mraise\u001b[39;00m \u001b[39mValueError\u001b[39;00m(\u001b[39m\"\u001b[39m\u001b[39mInvalid crystal system. Please choose one of the following: \u001b[39m\u001b[39m\"\u001b[39m\n\u001b[0;32m     93\u001b[0m                          \u001b[39m\"\u001b[39m\u001b[39mCubic, Tetragonal, Orthorhombic, Rhombohedral, Hexagonal, \u001b[39m\u001b[39m\"\u001b[39m\n\u001b[0;32m     94\u001b[0m                          \u001b[39m\"\u001b[39m\u001b[39mTrigonal, Monoclinic, or Triclinic\u001b[39m\u001b[39m\"\u001b[39m)\n\u001b[0;32m     96\u001b[0m \u001b[39m# check the symmetry of the elastic tensor\u001b[39;00m\n\u001b[0;32m     97\u001b[0m \u001b[39mif\u001b[39;00m \u001b[39mnot\u001b[39;00m np\u001b[39m.\u001b[39mallclose(\u001b[39mself\u001b[39m\u001b[39m.\u001b[39mCij, \u001b[39mself\u001b[39m\u001b[39m.\u001b[39mCij\u001b[39m.\u001b[39mT):\n",
      "\u001b[1;31mValueError\u001b[0m: Invalid crystal system. Please choose one of the following: Cubic, Tetragonal, Orthorhombic, Rhombohedral, Hexagonal, Trigonal, Monoclinic, or Triclinic"
     ]
    }
   ],
   "source": [
    "alpha_quartz = ElasticProps(Cij=Cij_aQtz,\n",
    "                            density=rho,\n",
    "                            mineral_name='alpha quartz',\n",
    "                            reference='test et al.',\n",
    "                            crystal_system='test',\n",
    "                            pressure=1e-4,\n",
    "                            temperature=24)"
   ]
  },
  {
   "cell_type": "markdown",
   "id": "93980e36",
   "metadata": {},
   "source": [
    "---\n",
    "Any copyright is dedicated to the Public Domain.\n",
    "https://creativecommons.org/publicdomain/zero/1.0/"
   ]
  }
 ],
 "metadata": {
  "kernelspec": {
   "display_name": "Python 3 (ipykernel)",
   "language": "python",
   "name": "python3"
  },
  "language_info": {
   "codemirror_mode": {
    "name": "ipython",
    "version": 3
   },
   "file_extension": ".py",
   "mimetype": "text/x-python",
   "name": "python",
   "nbconvert_exporter": "python",
   "pygments_lexer": "ipython3",
   "version": "3.10.12"
  }
 },
 "nbformat": 4,
 "nbformat_minor": 5
}
