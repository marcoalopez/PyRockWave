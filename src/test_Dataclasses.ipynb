{
 "cells": [
  {
   "cell_type": "code",
   "execution_count": 1,
   "id": "0c44638c-7b71-4d8f-ae6c-7d811ed15bb0",
   "metadata": {},
   "outputs": [],
   "source": [
    "import numpy as np\n",
    "from Dataclasses import ElasticTensor"
   ]
  },
  {
   "cell_type": "code",
   "execution_count": 2,
   "id": "9c85f349-dd36-4c9b-8b36-aea27f9b32e2",
   "metadata": {},
   "outputs": [],
   "source": [
    "# density (g/cm3)\n",
    "rho = 2.742\n",
    "\n",
    "# alpha quartz has six independent elastic constants: C11, C33, C12, C13, C14 and C44\n",
    "C11 = 87.64\n",
    "C33 = 107.20\n",
    "C44 = 57.94\n",
    "C12 = 6.99\n",
    "C13 = 11.91\n",
    "C14 = -17.19\n",
    "\n",
    "# dependent terms\n",
    "C66 = 0.5 * (C11 - C12)\n",
    "C22, C55, C23, C24, C56 = C11, C44, C13, -C14, C14\n",
    "\n",
    "# Elastic stiffness tensor (in GPa) values as a Cij matrixj\n",
    "Cij_aQtz = np.array(\n",
    "    [[C11, C12, C13, C14, 0.0, 0.0],\n",
    "    [ C12, C22, C23, C24, 0.0, 0.0],\n",
    "    [ C13, C13, C33, 0.0, 0.0, 0.0],\n",
    "    [ C14, C24, 0.0, C44, 0.0, 0.0],\n",
    "    [ 0.0, 0.0, 0.0, 0.0, C55, C56],\n",
    "    [ 0.0, 0.0, 0.0, 0.0, C56, C66]])\n",
    "\n",
    "# cell parameters\n",
    "cell_alpha_qtz = {\n",
    "    'symmetry': '-3m',\n",
    "    'unit_cell': [4.914, 4.913, 5.405],\n",
    "    'angles': [90.0, 90.0, 120.0],\n",
    "    'ref': 'TODO'}"
   ]
  },
  {
   "cell_type": "code",
   "execution_count": 3,
   "id": "1769c726-986e-4f49-9fc6-f9685a567763",
   "metadata": {},
   "outputs": [],
   "source": [
    "alpha_quartz = ElasticTensor(Cij_aQtz, density=rho)"
   ]
  },
  {
   "cell_type": "code",
   "execution_count": 4,
   "id": "b20e01c1",
   "metadata": {},
   "outputs": [
    {
     "data": {
      "text/plain": [
       "<class 'Dataclasses.ElasticTensor'>\n",
       "\n",
       "Density (g/cm3): 2.742\n",
       "Stiffness Tensor (Cij):\n",
       "[[ 87.64    6.99   11.91  -17.19    0.      0.   ]\n",
       " [  6.99   87.64   11.91   17.19    0.      0.   ]\n",
       " [ 11.91   11.91  107.2     0.      0.      0.   ]\n",
       " [-17.19   17.19    0.     57.94    0.      0.   ]\n",
       " [  0.      0.      0.      0.     57.94  -17.19 ]\n",
       " [  0.      0.      0.      0.    -17.19   40.325]]\n",
       "\n",
       "Calculated properties:\n",
       "Bulk Modulus Voigt Average (GPa): 38.233\n",
       "Bulk Modulus Reuss Average (GPa): 37.724\n",
       "Bulk Modulus VRH Average (GPa): 37.979\n",
       "Shear Modulus Voigt Average (GPa): 48.019\n",
       "Shear Modulus Reuss Average (GPa): 41.821\n",
       "Shear Modulus VRH Average (GPa): 44.920\n",
       "Universal Elastic Anisotropy: 0.755\n",
       "Isotropic Average Poisson Ratio: 0.076\n",
       "Isotropic Average Vp (km/s): 5.974\n",
       "Isotropic Average Vs (km/s): 4.048\n",
       "Isotropic Average Vp/Vs: 1.476"
      ]
     },
     "execution_count": 4,
     "metadata": {},
     "output_type": "execute_result"
    }
   ],
   "source": [
    "alpha_quartz"
   ]
  },
  {
   "cell_type": "code",
   "execution_count": 5,
   "id": "b5a890b3",
   "metadata": {},
   "outputs": [
    {
     "data": {
      "text/plain": [
       "Dataclasses.ElasticTensor"
      ]
     },
     "execution_count": 5,
     "metadata": {},
     "output_type": "execute_result"
    }
   ],
   "source": [
    "type(alpha_quartz)"
   ]
  },
  {
   "cell_type": "code",
   "execution_count": 6,
   "id": "2ceafc6b-88fa-4c96-81f9-7888512e4458",
   "metadata": {},
   "outputs": [
    {
     "data": {
      "text/plain": [
       "48.019"
      ]
     },
     "execution_count": 6,
     "metadata": {},
     "output_type": "execute_result"
    }
   ],
   "source": [
    "alpha_quartz.G_voigt"
   ]
  },
  {
   "cell_type": "code",
   "execution_count": 7,
   "id": "c1154a7a",
   "metadata": {},
   "outputs": [
    {
     "data": {
      "text/plain": [
       "5.9744"
      ]
     },
     "execution_count": 7,
     "metadata": {},
     "output_type": "execute_result"
    }
   ],
   "source": [
    "alpha_quartz.isotropic_avg_vp"
   ]
  },
  {
   "cell_type": "code",
   "execution_count": 8,
   "id": "2cf7fc25",
   "metadata": {},
   "outputs": [
    {
     "ename": "Exception",
     "evalue": "the elastic tensor is not symmetric!",
     "output_type": "error",
     "traceback": [
      "\u001b[1;31m---------------------------------------------------------------------------\u001b[0m",
      "\u001b[1;31mException\u001b[0m                                 Traceback (most recent call last)",
      "Cell \u001b[1;32mIn[8], line 9\u001b[0m\n\u001b[0;32m      1\u001b[0m Cij_wrong \u001b[39m=\u001b[39m np\u001b[39m.\u001b[39marray(\n\u001b[0;32m      2\u001b[0m     [[C11, C12, C13, C14, \u001b[39m0.0\u001b[39m, \u001b[39m0.0\u001b[39m],\n\u001b[0;32m      3\u001b[0m     [ \u001b[39m6.9\u001b[39m, C22, C23, C24, \u001b[39m0.0\u001b[39m, \u001b[39m0.0\u001b[39m],\n\u001b[1;32m   (...)\u001b[0m\n\u001b[0;32m      6\u001b[0m     [ \u001b[39m0.0\u001b[39m, \u001b[39m0.0\u001b[39m, \u001b[39m0.0\u001b[39m, \u001b[39m0.0\u001b[39m, C55, C56],\n\u001b[0;32m      7\u001b[0m     [ \u001b[39m0.0\u001b[39m, \u001b[39m0.0\u001b[39m, \u001b[39m0.0\u001b[39m, \u001b[39m0.0\u001b[39m, C56, C66]])\n\u001b[1;32m----> 9\u001b[0m wrong_quartz \u001b[39m=\u001b[39m ElasticTensor(Cij_wrong, density\u001b[39m=\u001b[39;49mrho)\n",
      "File \u001b[1;32m<string>:5\u001b[0m, in \u001b[0;36m__init__\u001b[1;34m(self, Cij, density)\u001b[0m\n",
      "File \u001b[1;32mc:\\Users\\Marco\\Documents\\GitHub\\PyRockWave\\src\\Dataclasses.py:34\u001b[0m, in \u001b[0;36mElasticTensor.__post_init__\u001b[1;34m(self)\u001b[0m\n\u001b[0;32m     32\u001b[0m \u001b[39m# check the symmetry of the elastic tensor\u001b[39;00m\n\u001b[0;32m     33\u001b[0m \u001b[39mif\u001b[39;00m \u001b[39mnot\u001b[39;00m np\u001b[39m.\u001b[39mallclose(\u001b[39mself\u001b[39m\u001b[39m.\u001b[39mCij, \u001b[39mself\u001b[39m\u001b[39m.\u001b[39mCij\u001b[39m.\u001b[39mT):\n\u001b[1;32m---> 34\u001b[0m     \u001b[39mraise\u001b[39;00m \u001b[39mException\u001b[39;00m(\u001b[39m\"\u001b[39m\u001b[39mthe elastic tensor is not symmetric!\u001b[39m\u001b[39m\"\u001b[39m)\n\u001b[0;32m     36\u001b[0m \u001b[39m# Calculate the compliance tensor\u001b[39;00m\n\u001b[0;32m     37\u001b[0m \u001b[39mself\u001b[39m\u001b[39m.\u001b[39mSij \u001b[39m=\u001b[39m np\u001b[39m.\u001b[39mlinalg\u001b[39m.\u001b[39minv(\u001b[39mself\u001b[39m\u001b[39m.\u001b[39mCij)\n",
      "\u001b[1;31mException\u001b[0m: the elastic tensor is not symmetric!"
     ]
    }
   ],
   "source": [
    "Cij_wrong = np.array(\n",
    "    [[C11, C12, C13, C14, 0.0, 0.0],\n",
    "    [ 6.9, C22, C23, C24, 0.0, 0.0],\n",
    "    [ C13, C13, C33, 0.0, 0.0, 0.0],\n",
    "    [ C14, C24, 0.0, C44, 0.0, 0.0],\n",
    "    [ 0.0, 0.0, 0.0, 0.0, C55, C56],\n",
    "    [ 0.0, 0.0, 0.0, 0.0, C56, C66]])\n",
    "\n",
    "wrong_quartz = ElasticTensor(Cij_wrong, density=rho)"
   ]
  },
  {
   "cell_type": "code",
   "execution_count": 9,
   "id": "6c8c9edd",
   "metadata": {},
   "outputs": [
    {
     "name": "stdout",
     "output_type": "stream",
     "text": [
      "Notebook tested in 2023-04-24 using:\n",
      "Python 3.10.10 | packaged by Anaconda, Inc. | (main, Mar 21 2023, 18:39:17) [MSC v.1916 64 bit (AMD64)]\n",
      "Numpy 1.23.5\n"
     ]
    }
   ],
   "source": [
    "import sys\n",
    "from datetime import date    \n",
    "today = date.today().isoformat()\n",
    "\n",
    "print(f'Notebook tested in {today} using:')\n",
    "print('Python', sys.version)\n",
    "print('Numpy', np.__version__)"
   ]
  },
  {
   "attachments": {},
   "cell_type": "markdown",
   "id": "93980e36",
   "metadata": {},
   "source": [
    "---\n",
    "Any copyright is dedicated to the Public Domain.\n",
    "https://creativecommons.org/publicdomain/zero/1.0/"
   ]
  }
 ],
 "metadata": {
  "kernelspec": {
   "display_name": "Python 3 (ipykernel)",
   "language": "python",
   "name": "python3"
  },
  "language_info": {
   "codemirror_mode": {
    "name": "ipython",
    "version": 3
   },
   "file_extension": ".py",
   "mimetype": "text/x-python",
   "name": "python",
   "nbconvert_exporter": "python",
   "pygments_lexer": "ipython3",
   "version": "3.10.10"
  }
 },
 "nbformat": 4,
 "nbformat_minor": 5
}
