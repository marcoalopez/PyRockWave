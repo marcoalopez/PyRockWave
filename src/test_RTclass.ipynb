{
 "cells": [
  {
   "cell_type": "markdown",
   "id": "2164127a",
   "metadata": {},
   "source": [
    "Elasticity is defined by the following relation known as the Hooke's law:\n",
    "\n",
    "$$\n",
    "\\sigma_{ij} = C_{ijkl} \\cdot \\varepsilon_{kl}\n",
    "$$\n",
    "\n",
    "which expanded becomes a 6 x 6 symmetric tensor \n",
    "\n",
    "$$\n",
    "\\begin{bmatrix}\n",
    "\\sigma_{11} \\\\\n",
    "\\sigma_{22} \\\\\n",
    "\\sigma_{33} \\\\\n",
    "\\sigma_{23} \\\\\n",
    "\\sigma_{31} \\\\\n",
    "\\sigma_{12} \n",
    "\\end{bmatrix}\n",
    "=\n",
    "\\begin{bmatrix}\n",
    "C_{1111} & C_{1122} & C_{1133} & C_{1123} & C_{1131} & C_{1112} \\\\\n",
    "C_{2211} & C_{2222} & C_{2233} & C_{2223} & C_{2231} & C_{2212} \\\\\n",
    "C_{3311} & C_{3322} & C_{3333} & C_{3323} & C_{3331} & C_{3312} \\\\\n",
    "C_{2311} & C_{2322} & C_{2333} & C_{2323} & C_{2331} & C_{2312} \\\\\n",
    "C_{3111} & C_{3122} & C_{1333} & C_{3123} & C_{3131} & C_{3112} \\\\\n",
    "C_{1211} & C_{1222} & C_{1233} & C_{1223} & C_{1231} & C_{1212} \n",
    "\\end{bmatrix}\n",
    "\n",
    "\\begin{bmatrix}\n",
    "\\epsilon_{11} \\\\\n",
    "\\epsilon_{22} \\\\\n",
    "\\epsilon_{33} \\\\\n",
    "2\\epsilon_{23} \\\\\n",
    "2\\epsilon_{31} \\\\\n",
    "2\\epsilon_{12} \n",
    "\\end{bmatrix}\n",
    "$$\n",
    "\n",
    "which in Voigt notation becomes\n",
    "\n",
    "$$\n",
    "\\begin{bmatrix}\n",
    "\\sigma_{1} \\\\\n",
    "\\sigma_{2} \\\\\n",
    "\\sigma_{3} \\\\\n",
    "\\sigma_{4} \\\\\n",
    "\\sigma_{5} \\\\\n",
    "\\sigma_{6} \n",
    "\\end{bmatrix}\n",
    "=\n",
    "\\begin{bmatrix}\n",
    "C_{11} & C_{12} & C_{13} & C_{14} & C_{15} & C_{16} \\\\\n",
    "C_{12} & C_{22} & C_{23} & C_{24} & C_{25} & C_{26} \\\\\n",
    "C_{13} & C_{23} & C_{33} & C_{34} & C_{35} & C_{36} \\\\\n",
    "C_{14} & C_{24} & C_{34} & C_{44} & C_{45} & C_{46} \\\\\n",
    "C_{15} & C_{25} & C_{35} & C_{45} & C_{55} & C_{56} \\\\\n",
    "C_{16} & C_{26} & C_{36} & C_{46} & C_{56} & C_{66} \n",
    "\\end{bmatrix}\n",
    "\n",
    "\\begin{bmatrix}\n",
    "\\epsilon_{1} \\\\\n",
    "\\epsilon_{2} \\\\\n",
    "\\epsilon_{3} \\\\\n",
    "2\\epsilon_{4} \\\\\n",
    "2\\epsilon_{5} \\\\\n",
    "2\\epsilon_{6} \n",
    "\\end{bmatrix}\n",
    "$$"
   ]
  },
  {
   "cell_type": "code",
   "execution_count": 1,
   "id": "0c44638c-7b71-4d8f-ae6c-7d811ed15bb0",
   "metadata": {},
   "outputs": [],
   "source": [
    "import numpy as np\n",
    "from dataclasses import dataclass, field\n",
    "\n",
    "\n",
    "@dataclass\n",
    "class ElasticTensor:\n",
    "    \"\"\"A class that represents an elastic tensor and calculate, store and\n",
    "    print various derived properties.\"\"\"\n",
    "\n",
    "    Cij: np.ndarray  # stiffness tensor in GPa\n",
    "    density: float  # density in g/cm3\n",
    "    Sij: np.ndarray = field(init=False)  # compliance tensor\n",
    "    K_voigt: float = field(init=False)\n",
    "    K_reuss: float = field(init=False)\n",
    "    K_hill: float = field(init=False)\n",
    "    G_voigt: float = field(init=False)\n",
    "    G_reuss: float = field(init=False)\n",
    "    G_hill: float = field(init=False)\n",
    "    universal_anisotropy: float = field(init=False)\n",
    "    isotropic_poisson_ratio: float = field(init=False)\n",
    "    isotropic_avg_vp: float = field(init=False)\n",
    "    isotropic_avg_vs: float = field(init=False)\n",
    "    isotropic_avg_vpvs: float = field(init=False)\n",
    "\n",
    "    def __post_init__(self):\n",
    "        \"\"\"_summary_\n",
    "        \"\"\"\n",
    "        # check the symmetry of the elastic tensor\n",
    "        if not np.allclose(self.Cij, self.Cij.T):\n",
    "            raise Exception(\"the elastic tensor is not symmetric!\")\n",
    "\n",
    "        # Calculate the compliance tensor\n",
    "        self.Sij = np.linalg.inv(self.Cij)\n",
    "\n",
    "        # unpack the elastic constants to make the equations easier to read\n",
    "        c11, c22, c33, c44, c55, c66 = np.diag(self.Cij)\n",
    "        s11, s22, s33, s44, s55, s66 = np.diag(self.Sij)\n",
    "        c12, c13, c23 = self.Cij[0, 1], self.Cij[0, 2], self.Cij[1, 2]\n",
    "        s12, s13, s23 = self.Sij[0, 1], self.Sij[0, 2], self.Sij[1, 2]\n",
    "\n",
    "        # Calculate the bulk modulus Voigt average\n",
    "        self.K_voigt = 1/9 * ((c11 + c22 + c33) + 2*(c12 + c23 + c13))\n",
    "\n",
    "        # Calculate the bulk modulus Reuss average\n",
    "        self.K_reuss = 1 / ((s11 + s22 + s33) + 2*(s12 + s23 + s13))\n",
    "\n",
    "        # Calculate bulk modulus VRH average\n",
    "        self.K_hill = (self.K_voigt + self.K_reuss) / 2\n",
    "\n",
    "        # Calculate the shear modulus Voigt average\n",
    "        self.G_voigt = 1/15 * ((c11 + c22 + c33) - (c12 + c23 + c13)\n",
    "                               + 3*(c44 + c55 + c66))\n",
    "\n",
    "        # Calculate the shear modulus Reuss average\n",
    "        self.G_reuss = 15 / (4*(s11 + s22 + s33) - 4*(s12 + s23 + s13)\n",
    "                             + 3*(s44 + s55 + s66))\n",
    "\n",
    "        # Calculate shear modulus VRH average\n",
    "        self.G_hill = (self.G_voigt + self.G_reuss) / 2\n",
    "\n",
    "        # Calculate the Universal elastic anisotropy\n",
    "        self.universal_anisotropy = (5*(self.G_voigt / self.G_reuss)\n",
    "                                     + (self.K_voigt / self.K_reuss) - 6)\n",
    "\n",
    "        # Calculate the isotropic average Poisson ratio\n",
    "        self.isotropic_poisson_ratio = ((3*self.K_hill - 2*self.G_hill)\n",
    "                                        / (6*self.K_hill + 2*self.G_hill))\n",
    "\n",
    "        # calculate the isotropic average Vp\n",
    "        Vp = np.sqrt((self.K_hill + 4/3 * self.G_hill) / self.density)\n",
    "        self.isotropic_avg_vp = np.around(Vp, decimals=4)\n",
    "\n",
    "        # calculate the isotropic average Vs\n",
    "        Vs = np.sqrt(self.G_hill / self.density)\n",
    "        self.isotropic_avg_vs = np.around(Vs, decimals=4)\n",
    "\n",
    "        # calculate the isotropic average Vp/Vs\n",
    "        self.isotropic_avg_vpvs = np.around(Vp / Vs, decimals=4)\n",
    "        \n",
    "\n",
    "    def __repr__(self):\n",
    "        return str(type(self))\n",
    "\n",
    "    def __str__(self):\n",
    "        output = \"\"\n",
    "        output += f\"Density (g/cm3): {self.density:.3f}\\n\"\n",
    "        output += f\"Stiffness Tensor (Cij):\\n{self.Cij}\\n\"\n",
    "        output += \"\\n\"\n",
    "        output += \"Calculated properties:\\n\"\n",
    "        output += f\"Bulk Modulus Voigt Average (GPa): {self.K_voigt:.3f}\\n\"\n",
    "        output += f\"Bulk Modulus Reuss Average (GPa): {self.K_reuss:.3f}\\n\"\n",
    "        output += f\"Bulk Modulus VRH Average (GPa): {self.K_hill:.3f}\\n\"\n",
    "        output += f\"Shear Modulus Voigt Average (GPa): {self.G_voigt:.3f}\\n\"\n",
    "        output += f\"Shear Modulus Reuss Average (GPa): {self.G_reuss:.3f}\\n\"\n",
    "        output += f\"Shear Modulus VRH Average (GPa): {self.G_hill:.3f}\\n\"\n",
    "        output += f\"Universal Elastic Anisotropy: {self.universal_anisotropy:.3f}\\n\"\n",
    "        output += f\"Isotropic Average Poisson Ratio: {self.isotropic_poisson_ratio:.3f}\\n\"\n",
    "        output += f\"Isotropic Average Vp (km/s): {self.isotropic_avg_vp:.3f}\\n\"\n",
    "        output += f\"Isotropic Average Vs (km/s): {self.isotropic_avg_vs:.3f}\\n\"\n",
    "        output += f\"Isotropic Average Vp/Vs: {self.isotropic_avg_vpvs:.3f}\\n\"\n",
    "\n",
    "        return output\n"
   ]
  },
  {
   "cell_type": "code",
   "execution_count": 2,
   "id": "9c85f349-dd36-4c9b-8b36-aea27f9b32e2",
   "metadata": {},
   "outputs": [],
   "source": [
    "# density (g/cm3) at 1.5 GPa from Wang et al. (2015)\n",
    "rho = 2.742\n",
    "\n",
    "# alpha quartz has six independent elastic constants: C11, C33, C12, C13, C14 and C44\n",
    "C11 = 87.64\n",
    "C33 = 107.20\n",
    "C44 = 57.94\n",
    "C12 = 6.99\n",
    "C13 = 11.91\n",
    "C14 = -17.19\n",
    "\n",
    "# dependent terms\n",
    "C66 = 0.5 * (C11 - C12)\n",
    "C22, C55, C23, C24, C56 = C11, C44, C13, -C14, C14\n",
    "\n",
    "# Elastic stiffness tensor (in GPa) values as a Cij matrixj\n",
    "Cij_aQtz = np.array(\n",
    "    [[C11, C12, C13, C14, 0.0, 0.0],\n",
    "    [ C12, C22, C23, C24, 0.0, 0.0],\n",
    "    [ C13, C13, C33, 0.0, 0.0, 0.0],\n",
    "    [ C14, C24, 0.0, C44, 0.0, 0.0],\n",
    "    [ 0.0, 0.0, 0.0, 0.0, C55, C56],\n",
    "    [ 0.0, 0.0, 0.0, 0.0, C56, C66]])\n",
    "\n",
    "# cell parameters\n",
    "cell_alpha_qtz = {\n",
    "    'symmetry': '-3m',\n",
    "    'unit_cell': [4.914, 4.913, 5.405],\n",
    "    'angles': [90.0, 90.0, 120.0],\n",
    "    'ref': 'TODO'}"
   ]
  },
  {
   "cell_type": "code",
   "execution_count": 3,
   "id": "1769c726-986e-4f49-9fc6-f9685a567763",
   "metadata": {},
   "outputs": [],
   "source": [
    "alpha_quartz = ElasticTensor(Cij_aQtz, density=rho)"
   ]
  },
  {
   "cell_type": "code",
   "execution_count": 4,
   "id": "b20e01c1",
   "metadata": {},
   "outputs": [
    {
     "data": {
      "text/plain": [
       "<class '__main__.ElasticTensor'>"
      ]
     },
     "execution_count": 4,
     "metadata": {},
     "output_type": "execute_result"
    }
   ],
   "source": [
    "alpha_quartz"
   ]
  },
  {
   "cell_type": "code",
   "execution_count": 5,
   "id": "b5a890b3",
   "metadata": {},
   "outputs": [
    {
     "data": {
      "text/plain": [
       "__main__.ElasticTensor"
      ]
     },
     "execution_count": 5,
     "metadata": {},
     "output_type": "execute_result"
    }
   ],
   "source": [
    "type(alpha_quartz)"
   ]
  },
  {
   "cell_type": "code",
   "execution_count": 6,
   "id": "b516fd71",
   "metadata": {},
   "outputs": [
    {
     "name": "stdout",
     "output_type": "stream",
     "text": [
      "Density (g/cm3): 2.742\n",
      "Stiffness Tensor (Cij):\n",
      "[[ 87.64    6.99   11.91  -17.19    0.      0.   ]\n",
      " [  6.99   87.64   11.91   17.19    0.      0.   ]\n",
      " [ 11.91   11.91  107.2     0.      0.      0.   ]\n",
      " [-17.19   17.19    0.     57.94    0.      0.   ]\n",
      " [  0.      0.      0.      0.     57.94  -17.19 ]\n",
      " [  0.      0.      0.      0.    -17.19   40.325]]\n",
      "\n",
      "Calculated properties:\n",
      "Bulk Modulus Voigt Average (GPa): 38.233\n",
      "Bulk Modulus Reuss Average (GPa): 37.724\n",
      "Bulk Modulus VRH Average (GPa): 37.979\n",
      "Shear Modulus Voigt Average (GPa): 48.019\n",
      "Shear Modulus Reuss Average (GPa): 41.821\n",
      "Shear Modulus VRH Average (GPa): 44.920\n",
      "Universal Elastic Anisotropy: 0.755\n",
      "Isotropic Average Poisson Ratio: 0.076\n",
      "Isotropic Average Vp (km/s): 5.974\n",
      "Isotropic Average Vs (km/s): 4.048\n",
      "Isotropic Average Vp/Vs: 1.476\n",
      "\n"
     ]
    }
   ],
   "source": [
    "print(alpha_quartz)"
   ]
  },
  {
   "cell_type": "code",
   "execution_count": 7,
   "id": "2ceafc6b-88fa-4c96-81f9-7888512e4458",
   "metadata": {},
   "outputs": [
    {
     "data": {
      "text/plain": [
       "48.019"
      ]
     },
     "execution_count": 7,
     "metadata": {},
     "output_type": "execute_result"
    }
   ],
   "source": [
    "alpha_quartz.G_voigt"
   ]
  },
  {
   "cell_type": "markdown",
   "id": "749541a7",
   "metadata": {},
   "source": [
    "$$\n",
    "V_P = \\sqrt{\\frac{K + 4/3\\mu}{\\rho}}\n",
    "$$"
   ]
  },
  {
   "cell_type": "code",
   "execution_count": 8,
   "id": "c1154a7a",
   "metadata": {},
   "outputs": [
    {
     "data": {
      "text/plain": [
       "5.9744"
      ]
     },
     "execution_count": 8,
     "metadata": {},
     "output_type": "execute_result"
    }
   ],
   "source": [
    "alpha_quartz.isotropic_avg_vp"
   ]
  },
  {
   "cell_type": "code",
   "execution_count": 9,
   "id": "2cf7fc25",
   "metadata": {},
   "outputs": [
    {
     "ename": "Exception",
     "evalue": "the elastic tensor is not symmetric!",
     "output_type": "error",
     "traceback": [
      "\u001b[1;31m---------------------------------------------------------------------------\u001b[0m",
      "\u001b[1;31mException\u001b[0m                                 Traceback (most recent call last)",
      "Cell \u001b[1;32mIn[9], line 9\u001b[0m\n\u001b[0;32m      1\u001b[0m Cij_wrong \u001b[39m=\u001b[39m np\u001b[39m.\u001b[39marray(\n\u001b[0;32m      2\u001b[0m     [[C11, C12, C13, C14, \u001b[39m0.0\u001b[39m, \u001b[39m0.0\u001b[39m],\n\u001b[0;32m      3\u001b[0m     [ \u001b[39m6.9\u001b[39m, C22, C23, C24, \u001b[39m0.0\u001b[39m, \u001b[39m0.0\u001b[39m],\n\u001b[1;32m   (...)\u001b[0m\n\u001b[0;32m      6\u001b[0m     [ \u001b[39m0.0\u001b[39m, \u001b[39m0.0\u001b[39m, \u001b[39m0.0\u001b[39m, \u001b[39m0.0\u001b[39m, C55, C56],\n\u001b[0;32m      7\u001b[0m     [ \u001b[39m0.0\u001b[39m, \u001b[39m0.0\u001b[39m, \u001b[39m0.0\u001b[39m, \u001b[39m0.0\u001b[39m, C56, C66]])\n\u001b[1;32m----> 9\u001b[0m wrong_quartz \u001b[39m=\u001b[39m ElasticTensor(Cij_wrong, density\u001b[39m=\u001b[39;49mrho)\n",
      "File \u001b[1;32m<string>:5\u001b[0m, in \u001b[0;36m__init__\u001b[1;34m(self, Cij, density)\u001b[0m\n",
      "Cell \u001b[1;32mIn[1], line 30\u001b[0m, in \u001b[0;36mElasticTensor.__post_init__\u001b[1;34m(self)\u001b[0m\n\u001b[0;32m     28\u001b[0m \u001b[39m# check the symmetry of the elastic tensor\u001b[39;00m\n\u001b[0;32m     29\u001b[0m \u001b[39mif\u001b[39;00m \u001b[39mnot\u001b[39;00m np\u001b[39m.\u001b[39mallclose(\u001b[39mself\u001b[39m\u001b[39m.\u001b[39mCij, \u001b[39mself\u001b[39m\u001b[39m.\u001b[39mCij\u001b[39m.\u001b[39mT):\n\u001b[1;32m---> 30\u001b[0m     \u001b[39mraise\u001b[39;00m \u001b[39mException\u001b[39;00m(\u001b[39m\"\u001b[39m\u001b[39mthe elastic tensor is not symmetric!\u001b[39m\u001b[39m\"\u001b[39m)\n\u001b[0;32m     32\u001b[0m \u001b[39m# Calculate the compliance tensor\u001b[39;00m\n\u001b[0;32m     33\u001b[0m \u001b[39mself\u001b[39m\u001b[39m.\u001b[39mSij \u001b[39m=\u001b[39m np\u001b[39m.\u001b[39mlinalg\u001b[39m.\u001b[39minv(\u001b[39mself\u001b[39m\u001b[39m.\u001b[39mCij)\n",
      "\u001b[1;31mException\u001b[0m: the elastic tensor is not symmetric!"
     ]
    }
   ],
   "source": [
    "Cij_wrong = np.array(\n",
    "    [[C11, C12, C13, C14, 0.0, 0.0],\n",
    "    [ 6.9, C22, C23, C24, 0.0, 0.0],\n",
    "    [ C13, C13, C33, 0.0, 0.0, 0.0],\n",
    "    [ C14, C24, 0.0, C44, 0.0, 0.0],\n",
    "    [ 0.0, 0.0, 0.0, 0.0, C55, C56],\n",
    "    [ 0.0, 0.0, 0.0, 0.0, C56, C66]])\n",
    "\n",
    "wrong_quartz = ElasticTensor(Cij_wrong, density=rho)"
   ]
  },
  {
   "cell_type": "code",
   "execution_count": 11,
   "id": "6c8c9edd",
   "metadata": {},
   "outputs": [
    {
     "name": "stdout",
     "output_type": "stream",
     "text": [
      "Notebook tested in 2023-04-05 using:\n",
      "Python 3.10.10 | packaged by Anaconda, Inc. | (main, Mar 21 2023, 18:39:17) [MSC v.1916 64 bit (AMD64)]\n",
      "Numpy 1.23.5\n"
     ]
    }
   ],
   "source": [
    "import sys\n",
    "from datetime import date    \n",
    "today = date.today().isoformat()\n",
    "\n",
    "print(f'Notebook tested in {today} using:')\n",
    "print('Python', sys.version)\n",
    "print('Numpy', np.__version__)"
   ]
  },
  {
   "cell_type": "markdown",
   "id": "93980e36",
   "metadata": {},
   "source": [
    "Any copyright is dedicated to the Public Domain.\n",
    "https://creativecommons.org/publicdomain/zero/1.0/"
   ]
  },
  {
   "cell_type": "markdown",
   "id": "933a1e49",
   "metadata": {},
   "source": []
  }
 ],
 "metadata": {
  "kernelspec": {
   "display_name": "Python 3 (ipykernel)",
   "language": "python",
   "name": "python3"
  },
  "language_info": {
   "codemirror_mode": {
    "name": "ipython",
    "version": 3
   },
   "file_extension": ".py",
   "mimetype": "text/x-python",
   "name": "python",
   "nbconvert_exporter": "python",
   "pygments_lexer": "ipython3",
   "version": "3.10.10"
  }
 },
 "nbformat": 4,
 "nbformat_minor": 5
}
