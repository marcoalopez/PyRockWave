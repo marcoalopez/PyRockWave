{
 "cells": [
  {
   "attachments": {},
   "cell_type": "markdown",
   "id": "2164127a",
   "metadata": {},
   "source": [
    "Elasticity is defined by the following relation known as the Hooke's law:\n",
    "\n",
    "$$\n",
    "\\sigma_{ij} = C_{ijkl} \\cdot \\varepsilon_{kl}\n",
    "$$\n",
    "\n",
    "which expanded becomes a 6 x 6 symmetric tensor \n",
    "\n",
    "$$\n",
    "\\begin{bmatrix}\n",
    "\\sigma_{11} \\\\\n",
    "\\sigma_{22} \\\\\n",
    "\\sigma_{33} \\\\\n",
    "\\sigma_{23} \\\\\n",
    "\\sigma_{31} \\\\\n",
    "\\sigma_{12} \n",
    "\\end{bmatrix}\n",
    "=\n",
    "\\begin{bmatrix}\n",
    "C_{1111} & C_{1122} & C_{1133} & C_{1123} & C_{1131} & C_{1112} \\\\\n",
    "C_{2211} & C_{2222} & C_{2233} & C_{2223} & C_{2231} & C_{2212} \\\\\n",
    "C_{3311} & C_{3322} & C_{3333} & C_{3323} & C_{3331} & C_{3312} \\\\\n",
    "C_{2311} & C_{2322} & C_{2333} & C_{2323} & C_{2331} & C_{2312} \\\\\n",
    "C_{3111} & C_{3122} & C_{1333} & C_{3123} & C_{3131} & C_{3112} \\\\\n",
    "C_{1211} & C_{1222} & C_{1233} & C_{1223} & C_{1231} & C_{1212} \n",
    "\\end{bmatrix}\n",
    "\n",
    "\\begin{bmatrix}\n",
    "\\epsilon_{11} \\\\\n",
    "\\epsilon_{22} \\\\\n",
    "\\epsilon_{33} \\\\\n",
    "2\\epsilon_{23} \\\\\n",
    "2\\epsilon_{31} \\\\\n",
    "2\\epsilon_{12} \n",
    "\\end{bmatrix}\n",
    "$$\n",
    "\n",
    "which in Voigt notation becomes\n",
    "\n",
    "$$\n",
    "\\begin{bmatrix}\n",
    "\\sigma_{1} \\\\\n",
    "\\sigma_{2} \\\\\n",
    "\\sigma_{3} \\\\\n",
    "\\sigma_{4} \\\\\n",
    "\\sigma_{5} \\\\\n",
    "\\sigma_{6} \n",
    "\\end{bmatrix}\n",
    "=\n",
    "\\begin{bmatrix}\n",
    "C_{11} & C_{12} & C_{13} & C_{14} & C_{15} & C_{16} \\\\\n",
    "C_{12} & C_{22} & C_{23} & C_{24} & C_{25} & C_{26} \\\\\n",
    "C_{13} & C_{23} & C_{33} & C_{34} & C_{35} & C_{36} \\\\\n",
    "C_{14} & C_{24} & C_{34} & C_{44} & C_{45} & C_{46} \\\\\n",
    "C_{15} & C_{25} & C_{35} & C_{45} & C_{55} & C_{56} \\\\\n",
    "C_{16} & C_{26} & C_{36} & C_{46} & C_{56} & C_{66} \n",
    "\\end{bmatrix}\n",
    "\n",
    "\\begin{bmatrix}\n",
    "\\epsilon_{1} \\\\\n",
    "\\epsilon_{2} \\\\\n",
    "\\epsilon_{3} \\\\\n",
    "2\\epsilon_{4} \\\\\n",
    "2\\epsilon_{5} \\\\\n",
    "2\\epsilon_{6} \n",
    "\\end{bmatrix}\n",
    "$$"
   ]
  },
  {
   "cell_type": "code",
   "execution_count": 1,
   "id": "0c44638c-7b71-4d8f-ae6c-7d811ed15bb0",
   "metadata": {},
   "outputs": [],
   "source": [
    "import json\n",
    "import numpy as np\n",
    "from dataclasses import dataclass, field, asdict\n",
    "\n",
    "\n",
    "@dataclass\n",
    "class ElasticTensor:\n",
    "    \"\"\"A class that represents an elastic tensor and calculate, store and\n",
    "    print various derived properties.\"\"\"\n",
    "\n",
    "    Cij: np.ndarray  # stiffness tensor in GPa\n",
    "    density: float  # density in g/cm3\n",
    "    Sij: np.ndarray = field(init=False)  # compliance tensor\n",
    "    K_voigt: float = field(init=False)\n",
    "    K_reuss: float = field(init=False)\n",
    "    K_hill: float = field(init=False)\n",
    "    G_voigt: float = field(init=False)\n",
    "    G_reuss: float = field(init=False)\n",
    "    G_hill: float = field(init=False)\n",
    "    universal_anisotropy: float = field(init=False)\n",
    "    isotropic_poisson_ratio: float = field(init=False)\n",
    "    isotropic_avg_vp: float = field(init=False)\n",
    "    isotropic_avg_vs: float = field(init=False)\n",
    "\n",
    "    def __post_init__(self):\n",
    "        # Calculate the compliance tensor\n",
    "        self.Sij = np.linalg.inv(self.Cij)\n",
    "\n",
    "        # unpack the elastic constants to make the equations easier to read\n",
    "        c11, c22, c33, c44, c55, c66 = np.diag(self.Cij)\n",
    "        s11, s22, s33, s44, s55, s66 = np.diag(self.Sij)\n",
    "        c12, c13, c23 = self.Cij[0, 1], self.Cij[0, 2], self.Cij[1, 2]\n",
    "        s12, s13, s23 = self.Sij[0, 1], self.Sij[0, 2], self.Sij[1, 2]\n",
    "\n",
    "        # Calculate the bulk modulus Voigt average\n",
    "        self.K_voigt = 1/9 * ((c11 + c22 + c33) + 2*(c12 + c23 + c13))\n",
    "\n",
    "        # Calculate the bulk modulus Reuss average\n",
    "        self.K_reuss = 1 / ((s11 + s22 + s33) + 2*(s12 + s23 + s13))\n",
    "\n",
    "        # Calculate bulk modulus VRH average\n",
    "        self.K_hill = (self.K_voigt + self.K_reuss) / 2\n",
    "\n",
    "        # Calculate the shear modulus Voigt average\n",
    "        self.G_voigt = 1/15 * ((c11 + c22 + c33) - (c12 + c23 + c13)\n",
    "                               + 3*(c44 + c55 + c66))\n",
    "\n",
    "        # Calculate the shear modulus Reuss average\n",
    "        self.G_reuss = 15 / (4*(s11 + s22 + s33) - 4*(s12 + s23 + s13)\n",
    "                             + 3*(s44 + s55 + s66))\n",
    "\n",
    "        # Calculate shear modulus VRH average\n",
    "        self.G_hill = (self.G_voigt + self.G_reuss) / 2\n",
    "\n",
    "        # Calculate the Universal elastic anisotropy\n",
    "        self.universal_anisotropy = (5*(self.G_voigt / self.G_reuss)\n",
    "                                     + (self.K_voigt / self.K_reuss) - 6)\n",
    "\n",
    "        # Calculate the isotropic average Poisson ratio\n",
    "        self.isotropic_poisson_ratio = ((3*self.K_hill - 2*self.G_hill)\n",
    "                                        / (6*self.K_hill + 2*self.G_hill))\n",
    "\n",
    "        # calculate the isotropic average Vp\n",
    "        self.isotropic_avg_vp = np.around(np.sqrt((self.K_hill + 4/3 * self.G_hill) / self.density), decimals=4)\n",
    "\n",
    "        # calculate the isotropic average Vs\n",
    "        self.isotropic_avg_vs = np.around(np.sqrt(self.G_hill / self.density), decimals=4)\n",
    "\n",
    "    def print_summary(self):\n",
    "        print(\"ElasticTensor instance summary:\")\n",
    "        for k, v in asdict(self).items():\n",
    "            print(f\"{k}: {np.around(v, decimals=3)}\")\n",
    "\n",
    "    def __repr__(self) -> str:\n",
    "        return ('This is an object of class ElasticTensor')\n",
    " \n",
    "    def save_to_json(self, filename):\n",
    "        with open(filename, 'w') as f:\n",
    "            json.dump(asdict(self), f)\n",
    "\n"
   ]
  },
  {
   "cell_type": "code",
   "execution_count": 2,
   "id": "9c85f349-dd36-4c9b-8b36-aea27f9b32e2",
   "metadata": {},
   "outputs": [],
   "source": [
    "# density (g/cm3) at 1.5 GPa from Wang et al. (2015)\n",
    "rho = 2.742\n",
    "\n",
    "# Elastic stiffness tensor (in GPa) values as a matrix Mij at\n",
    "# alpha quartz has six independent elastic constants: C11, C33, C12, C13, C14 and C44\n",
    "Cij_aQtz = np.array(\n",
    "    [[ 87.64,  6.99,  11.91, -17.19,   0. ,   0.  ],\n",
    "     [  6.99, 87.64,  11.91,  17.19,   0. ,   0.  ],\n",
    "     [ 11.91, 11.91, 107.20,   0. ,    0. ,   0.  ],\n",
    "     [-17.19, 17.19,   0. ,   57.94,   0. ,   0.  ],\n",
    "     [  0. ,   0. ,    0. ,    0. ,  57.94, -17.19],\n",
    "     [  0. ,   0. ,    0. ,    0. , -17.19,  39.88]])\n",
    "\n",
    "# cell parameters\n",
    "cell_alpha_qtz = {\n",
    "    'symmetry': '-3m',\n",
    "    'unit_cell': [4.914, 4.913, 5.405],\n",
    "    'angles': [90.0, 90.0, 120.0],\n",
    "    'ref': 'TODO'}"
   ]
  },
  {
   "cell_type": "code",
   "execution_count": 3,
   "id": "1769c726-986e-4f49-9fc6-f9685a567763",
   "metadata": {},
   "outputs": [],
   "source": [
    "alpha_quartz = ElasticTensor(Cij_aQtz, density=rho)"
   ]
  },
  {
   "cell_type": "code",
   "execution_count": 4,
   "id": "b20e01c1",
   "metadata": {},
   "outputs": [
    {
     "data": {
      "text/plain": [
       "This is an object of class ElasticTensor"
      ]
     },
     "execution_count": 4,
     "metadata": {},
     "output_type": "execute_result"
    }
   ],
   "source": [
    "alpha_quartz"
   ]
  },
  {
   "cell_type": "code",
   "execution_count": 5,
   "id": "2320fefd-c453-4ccc-908d-a8524766233e",
   "metadata": {},
   "outputs": [
    {
     "name": "stdout",
     "output_type": "stream",
     "text": [
      "ElasticTensor instance summary:\n",
      "Cij: [[ 87.64   6.99  11.91 -17.19   0.     0.  ]\n",
      " [  6.99  87.64  11.91  17.19   0.     0.  ]\n",
      " [ 11.91  11.91 107.2    0.     0.     0.  ]\n",
      " [-17.19  17.19   0.    57.94   0.     0.  ]\n",
      " [  0.     0.     0.     0.    57.94 -17.19]\n",
      " [  0.     0.     0.     0.   -17.19  39.88]]\n",
      "density: 2.742\n",
      "Sij: [[ 0.013 -0.002 -0.001  0.004  0.     0.   ]\n",
      " [-0.002  0.013 -0.001 -0.004  0.     0.   ]\n",
      " [-0.001 -0.001  0.01   0.     0.     0.   ]\n",
      " [ 0.004 -0.004 -0.     0.02   0.     0.   ]\n",
      " [ 0.     0.     0.     0.     0.02   0.009]\n",
      " [ 0.     0.     0.     0.     0.009  0.029]]\n",
      "K_voigt: 38.233\n",
      "K_reuss: 37.724\n",
      "K_hill: 37.979\n",
      "G_voigt: 47.93\n",
      "G_reuss: 41.683\n",
      "G_hill: 44.806\n",
      "universal_anisotropy: 0.763\n",
      "isotropic_poisson_ratio: 0.077\n",
      "isotropic_avg_vp: 5.97\n",
      "isotropic_avg_vs: 4.042\n"
     ]
    }
   ],
   "source": [
    "alpha_quartz.print_summary()"
   ]
  },
  {
   "cell_type": "code",
   "execution_count": 6,
   "id": "2ceafc6b-88fa-4c96-81f9-7888512e4458",
   "metadata": {},
   "outputs": [
    {
     "data": {
      "text/plain": [
       "47.93"
      ]
     },
     "execution_count": 6,
     "metadata": {},
     "output_type": "execute_result"
    }
   ],
   "source": [
    "alpha_quartz.G_voigt"
   ]
  },
  {
   "attachments": {},
   "cell_type": "markdown",
   "id": "749541a7",
   "metadata": {},
   "source": [
    "$$\n",
    "V_P = \\sqrt{\\frac{K + 4/3\\mu}{\\rho}}\n",
    "$$"
   ]
  },
  {
   "cell_type": "code",
   "execution_count": 7,
   "id": "c1154a7a",
   "metadata": {},
   "outputs": [
    {
     "data": {
      "text/plain": [
       "5.9698"
      ]
     },
     "execution_count": 7,
     "metadata": {},
     "output_type": "execute_result"
    }
   ],
   "source": [
    "alpha_quartz.isotropic_avg_vp"
   ]
  },
  {
   "cell_type": "code",
   "execution_count": 8,
   "id": "c7707709",
   "metadata": {},
   "outputs": [
    {
     "data": {
      "text/plain": [
       "1.4767959627943796"
      ]
     },
     "execution_count": 8,
     "metadata": {},
     "output_type": "execute_result"
    }
   ],
   "source": [
    "alpha_quartz.isotropic_avg_vp / alpha_quartz.isotropic_avg_vs"
   ]
  },
  {
   "attachments": {},
   "cell_type": "markdown",
   "id": "93980e36",
   "metadata": {},
   "source": [
    "Any copyright is dedicated to the Public Domain.\n",
    "https://creativecommons.org/publicdomain/zero/1.0/"
   ]
  },
  {
   "cell_type": "markdown",
   "id": "933a1e49",
   "metadata": {},
   "source": []
  }
 ],
 "metadata": {
  "kernelspec": {
   "display_name": "Python 3 (ipykernel)",
   "language": "python",
   "name": "python3"
  },
  "language_info": {
   "codemirror_mode": {
    "name": "ipython",
    "version": 3
   },
   "file_extension": ".py",
   "mimetype": "text/x-python",
   "name": "python",
   "nbconvert_exporter": "python",
   "pygments_lexer": "ipython3",
   "version": "3.10.9"
  }
 },
 "nbformat": 4,
 "nbformat_minor": 5
}
